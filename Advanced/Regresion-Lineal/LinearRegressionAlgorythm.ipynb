{
 "cells": [
  {
   "cell_type": "code",
   "execution_count": 1,
   "id": "ea7aeb4b-874f-4762-807d-2134b5bfb575",
   "metadata": {},
   "outputs": [],
   "source": [
    "import numpy as np\n",
    "import matplotlib.pyplot as plt"
   ]
  },
  {
   "cell_type": "code",
   "execution_count": 3,
   "id": "f91fb81e-efba-4f26-8efa-321f2d7e7b79",
   "metadata": {},
   "outputs": [],
   "source": [
    "def estimate_b_m(x, y):\n",
    "    n = np.size(x)\n",
    "    avg_x, avg_y = np.mean(x), np.mean(y)\n",
    "    sum_x_y = np.sum((x - avg_x) * (y - avg_y))\n",
    "    sum_x_x = np.sum((x - avg_x)**2)\n",
    "    m = sum_x_y / sum_x_x\n",
    "    b = avg_y - (m * avg_x)\n",
    "    \n",
    "    return b, m\n",
    "\n",
    "\n",
    "def plot_estimation(x, y, b, m):\n",
    "    plt.scatter(x, y, color='g', marker='o', s=30)\n",
    "    y_hat = b + (m * x)\n",
    "    plt.plot(x, y_hat, color='b')\n",
    "    plt.xlabel('X')\n",
    "    plt.ylabel('Y')\n",
    "    plt.show()\n",
    "    "
   ]
  },
  {
   "cell_type": "code",
   "execution_count": 10,
   "id": "cbd81562-55a3-4655-97fc-52d6fdd0f1d6",
   "metadata": {},
   "outputs": [],
   "source": [
    "def main():\n",
    "    x = np.arange(0, 20)\n",
    "    y = np.array([2,5,7,9,14,15, 17, 19, 20, 23, 25, 28, 33, 34, 36, 39, 40, 41, 42, 60])\n",
    "    \n",
    "    b, m = estimate_b_m(x, y)\n",
    "    plot_estimation(x, y, b, m)"
   ]
  },
  {
   "cell_type": "code",
   "execution_count": 11,
   "id": "9479c3d4-de70-4a2b-9f1a-22b4ec2faf38",
   "metadata": {},
   "outputs": [
    {
     "data": {
      "image/png": "[encoded data removed]",
      "text/plain": [
       "<Figure size 432x288 with 1 Axes>"
      ]
     },
     "metadata": {
      "needs_background": "light"
     },
     "output_type": "display_data"
    }
   ],
   "source": [
    "if __name__ == '__main__':\n",
    "    main()"
   ]
  },
  {
   "cell_type": "code",
   "execution_count": null,
   "id": "0de289fd-a159-42f2-b1aa-51c1bf047c6d",
   "metadata": {},
   "outputs": [],
   "source": []
  }
 ],
 "metadata": {
  "kernelspec": {
   "display_name": "Python 3",
   "language": "python",
   "name": "python3"
  },
  "language_info": {
   "codemirror_mode": {
    "name": "ipython",
    "version": 3
   },
   "file_extension": ".py",
   "mimetype": "text/x-python",
   "name": "python",
   "nbconvert_exporter": "python",
   "pygments_lexer": "ipython3",
   "version": "3.8.9"
  }
 },
 "nbformat": 4,
 "nbformat_minor": 5
}
