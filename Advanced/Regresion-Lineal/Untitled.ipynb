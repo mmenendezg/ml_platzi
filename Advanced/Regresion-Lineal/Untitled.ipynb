{
 "cells": [
  {
   "cell_type": "code",
   "execution_count": 1,
   "id": "da12f9df-0e25-4b45-af8e-a59d36be03f1",
   "metadata": {},
   "outputs": [],
   "source": [
    "import numpy as np"
   ]
  },
  {
   "cell_type": "code",
   "execution_count": 2,
   "id": "64217c3a-3830-40c8-b4cc-6606f40c9eb5",
   "metadata": {},
   "outputs": [],
   "source": [
    "vector = np.array([1/2,1/2,1/2,1/2])\n"
   ]
  },
  {
   "cell_type": "code",
   "execution_count": 3,
   "id": "a79f44bd-95e8-42db-8347-c0486d46924d",
   "metadata": {},
   "outputs": [
    {
     "name": "stdout",
     "output_type": "stream",
     "text": [
      "1.0\n"
     ]
    }
   ],
   "source": [
    "norma = np.linalg.norm(vector)\n",
    "print(norma)"
   ]
  },
  {
   "cell_type": "code",
   "execution_count": 4,
   "id": "62d43657-baaa-4f9b-86b1-0dcd1b2203b9",
   "metadata": {},
   "outputs": [
    {
     "name": "stdout",
     "output_type": "stream",
     "text": [
      "[[ 1  5  9]\n",
      " [ 2  6 10]\n",
      " [ 3  7 11]\n",
      " [ 4  8 12]]\n"
     ]
    }
   ],
   "source": [
    "mar = np.array([[1,2,3,4],[5,6,7,8],[9,10,11,12]])\n",
    "print(mar.T)"
   ]
  },
  {
   "cell_type": "code",
   "execution_count": 7,
   "id": "b3b42be1-01db-4437-b1d9-918950d1b307",
   "metadata": {},
   "outputs": [
    {
     "data": {
      "text/plain": [
       "0"
      ]
     },
     "execution_count": 7,
     "metadata": {},
     "output_type": "execute_result"
    }
   ],
   "source": [
    "7*(0) + 2 - (2)"
   ]
  },
  {
   "cell_type": "code",
   "execution_count": 8,
   "id": "50461e7c-10ca-4276-a670-aa78e18e32a4",
   "metadata": {},
   "outputs": [
    {
     "data": {
      "text/plain": [
       "3"
      ]
     },
     "execution_count": 8,
     "metadata": {},
     "output_type": "execute_result"
    }
   ],
   "source": [
    "3*(0) + 5 - (2)"
   ]
  },
  {
   "cell_type": "code",
   "execution_count": 10,
   "id": "25e5ce61-ad80-4aec-b040-aa7df64902db",
   "metadata": {},
   "outputs": [],
   "source": [
    "def evaluate(x, y):\n",
    "    val_1 = 7*x - y \n",
    "    val_2 = 3*x - y\n",
    "    \n",
    "    print(val_1 == -2)\n",
    "    print(val_2 == -5)"
   ]
  },
  {
   "cell_type": "code",
   "execution_count": 14,
   "id": "df98e5f1-e5cd-417c-86eb-b2e8697e2f7a",
   "metadata": {},
   "outputs": [
    {
     "name": "stdout",
     "output_type": "stream",
     "text": [
      "True\n",
      "True\n"
     ]
    }
   ],
   "source": [
    "x = 3/4\n",
    "y = 7+1/4\n",
    "\n",
    "evaluate(x,y)"
   ]
  },
  {
   "cell_type": "code",
   "execution_count": null,
   "id": "643be805-9492-4e35-9fea-cf65dea78fae",
   "metadata": {},
   "outputs": [],
   "source": []
  }
 ],
 "metadata": {
  "kernelspec": {
   "display_name": "Python 3",
   "language": "python",
   "name": "python3"
  },
  "language_info": {
   "codemirror_mode": {
    "name": "ipython",
    "version": 3
   },
   "file_extension": ".py",
   "mimetype": "text/x-python",
   "name": "python",
   "nbconvert_exporter": "python",
   "pygments_lexer": "ipython3",
   "version": "3.8.9"
  }
 },
 "nbformat": 4,
 "nbformat_minor": 5
}
