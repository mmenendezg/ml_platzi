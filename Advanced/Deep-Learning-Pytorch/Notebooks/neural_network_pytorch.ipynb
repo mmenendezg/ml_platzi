{
 "cells": [
  {
   "cell_type": "code",
   "execution_count": 23,
   "metadata": {},
   "outputs": [],
   "source": [
    "import sys\n",
    "import os\n",
    "from PIL import Image\n",
    "\n",
    "import torch\n",
    "from torch import nn, optim\n",
    "from torch.utils.data import Dataset, DataLoader\n",
    "from torchvision import transforms\n",
    "from torchvision.utils import make_grid\n"
   ]
  },
  {
   "cell_type": "code",
   "execution_count": 24,
   "metadata": {},
   "outputs": [],
   "source": [
    "DEVICE = torch.device('mps')\n",
    "BATCH_SIZE = 32\n",
    "NUM_EPOCHS = 150"
   ]
  },
  {
   "cell_type": "code",
   "execution_count": 25,
   "metadata": {},
   "outputs": [],
   "source": [
    "linear = nn.Linear(in_features=4096, out_features=10)\n",
    "conv = nn.Conv2d(in_channels=3, out_channels=9, kernel_size=3, stride=1, padding=1)\n",
    "relu = nn.ReLU(False)"
   ]
  },
  {
   "cell_type": "code",
   "execution_count": 26,
   "metadata": {},
   "outputs": [
    {
     "data": {
      "text/plain": [
       "torch.Size([10])"
      ]
     },
     "execution_count": 26,
     "metadata": {},
     "output_type": "execute_result"
    }
   ],
   "source": [
    "x = torch.randn(4096)\n",
    "y = linear(x)\n",
    "y.size()"
   ]
  },
  {
   "cell_type": "code",
   "execution_count": 27,
   "metadata": {},
   "outputs": [],
   "source": [
    "x = torch.randn((1, 3, 7, 7))\n",
    "y = conv(x)\n",
    "z = relu(x)"
   ]
  },
  {
   "cell_type": "code",
   "execution_count": 28,
   "metadata": {},
   "outputs": [
    {
     "data": {
      "text/plain": [
       "torch.Size([1, 9, 7, 7])"
      ]
     },
     "execution_count": 28,
     "metadata": {},
     "output_type": "execute_result"
    }
   ],
   "source": [
    "y.size()"
   ]
  },
  {
   "cell_type": "markdown",
   "metadata": {},
   "source": []
  },
  {
   "cell_type": "code",
   "execution_count": 29,
   "metadata": {},
   "outputs": [
    {
     "data": {
      "text/plain": [
       "tensor([[[[4.4687e-01, 1.3604e+00, 0.0000e+00, 0.0000e+00, 0.0000e+00,\n",
       "           8.7490e-01, 1.8166e+00],\n",
       "          [5.6093e-01, 1.3124e+00, 9.3466e-01, 9.9655e-01, 1.5220e-01,\n",
       "           0.0000e+00, 0.0000e+00],\n",
       "          [0.0000e+00, 0.0000e+00, 1.4487e+00, 1.9942e-01, 7.7622e-04,\n",
       "           1.5016e+00, 0.0000e+00],\n",
       "          [0.0000e+00, 0.0000e+00, 0.0000e+00, 2.2766e-01, 0.0000e+00,\n",
       "           0.0000e+00, 0.0000e+00],\n",
       "          [1.3096e+00, 0.0000e+00, 4.5284e-01, 0.0000e+00, 1.6721e+00,\n",
       "           7.8344e-01, 5.1989e-01],\n",
       "          [0.0000e+00, 9.0072e-01, 9.3491e-01, 0.0000e+00, 5.2193e-01,\n",
       "           0.0000e+00, 9.7999e-01],\n",
       "          [0.0000e+00, 9.5929e-01, 6.2406e-02, 2.4267e-01, 0.0000e+00,\n",
       "           0.0000e+00, 0.0000e+00]],\n",
       "\n",
       "         [[1.5731e+00, 0.0000e+00, 0.0000e+00, 3.4814e-01, 1.0081e+00,\n",
       "           0.0000e+00, 8.3323e-02],\n",
       "          [0.0000e+00, 5.4192e-01, 0.0000e+00, 1.0204e+00, 4.7467e-01,\n",
       "           5.7837e-02, 0.0000e+00],\n",
       "          [0.0000e+00, 0.0000e+00, 1.8586e+00, 0.0000e+00, 1.4889e-01,\n",
       "           0.0000e+00, 1.3062e+00],\n",
       "          [0.0000e+00, 0.0000e+00, 1.1592e+00, 0.0000e+00, 0.0000e+00,\n",
       "           0.0000e+00, 0.0000e+00],\n",
       "          [0.0000e+00, 2.7574e+00, 0.0000e+00, 1.3095e+00, 1.6513e+00,\n",
       "           0.0000e+00, 1.9069e+00],\n",
       "          [1.2496e-01, 0.0000e+00, 8.7768e-01, 2.7176e-01, 3.5233e-01,\n",
       "           1.9702e+00, 0.0000e+00],\n",
       "          [0.0000e+00, 0.0000e+00, 1.4860e+00, 0.0000e+00, 5.6934e-01,\n",
       "           0.0000e+00, 0.0000e+00]],\n",
       "\n",
       "         [[8.7851e-01, 1.0545e+00, 0.0000e+00, 3.2864e-01, 0.0000e+00,\n",
       "           1.3262e+00, 7.2053e-01],\n",
       "          [1.6653e+00, 1.5746e-01, 2.3372e+00, 6.7094e-01, 9.0336e-01,\n",
       "           1.7295e+00, 1.1213e-01],\n",
       "          [0.0000e+00, 2.1224e-01, 1.5312e+00, 1.3518e+00, 0.0000e+00,\n",
       "           8.2508e-01, 0.0000e+00],\n",
       "          [0.0000e+00, 0.0000e+00, 1.4911e+00, 9.3943e-01, 1.6340e+00,\n",
       "           2.1509e-01, 0.0000e+00],\n",
       "          [1.1426e+00, 0.0000e+00, 9.4730e-01, 2.1425e+00, 1.4007e+00,\n",
       "           0.0000e+00, 6.7269e-01],\n",
       "          [0.0000e+00, 1.8580e+00, 5.4329e-01, 6.1137e-01, 2.3337e-01,\n",
       "           2.4516e+00, 1.1853e+00],\n",
       "          [0.0000e+00, 7.9239e-01, 0.0000e+00, 0.0000e+00, 0.0000e+00,\n",
       "           0.0000e+00, 0.0000e+00]]]])"
      ]
     },
     "execution_count": 29,
     "metadata": {},
     "output_type": "execute_result"
    }
   ],
   "source": [
    "z"
   ]
  },
  {
   "cell_type": "code",
   "execution_count": 30,
   "metadata": {},
   "outputs": [
    {
     "name": "stdout",
     "output_type": "stream",
     "text": [
      "weight\n",
      "torch.Size([10, 4096])\n",
      "\n",
      "bias\n",
      "torch.Size([10])\n",
      "\n"
     ]
    }
   ],
   "source": [
    "for name, value in linear.named_parameters():\n",
    "    print(name)\n",
    "    print(value.size())\n",
    "    print()"
   ]
  },
  {
   "cell_type": "markdown",
   "metadata": {},
   "source": [
    "## Implement a Neural Network"
   ]
  },
  {
   "cell_type": "code",
   "execution_count": 31,
   "metadata": {},
   "outputs": [],
   "source": [
    "class Net(nn.Module):\n",
    "    def __init__(self, num_channels):\n",
    "        super(Net, self).__init__()\n",
    "        self.num_channels = num_channels\n",
    "        self.conv1 = nn.Conv2d(3, self.num_channels, kernel_size=3, stride=1, padding=1)\n",
    "        self.conv2 = nn.Conv2d(\n",
    "            self.num_channels, self.num_channels * 2, kernel_size=3, stride=1, padding=1\n",
    "        )\n",
    "        self.conv3 = nn.Conv2d(\n",
    "            self.num_channels * 2,\n",
    "            self.num_channels * 4,\n",
    "            kernel_size=3,\n",
    "            stride=1,\n",
    "            padding=1,\n",
    "        )\n",
    "        self.fc1 = nn.Linear(self.num_channels * 256, self.num_channels * 4)\n",
    "        self.fc2 = nn.Linear(self.num_channels * 4, 6)\n",
    "\n",
    "    def forward(self, x):\n",
    "        x = self.conv1(x)\n",
    "        x = nn.functional.relu(nn.functional.max_pool2d(x, 2))\n",
    "        x = self.conv2(x)\n",
    "        x = nn.functional.relu(nn.functional.max_pool2d(x, 2))\n",
    "        x = self.conv3(x)\n",
    "        x = nn.functional.relu(nn.functional.max_pool2d(x, 2))\n",
    "\n",
    "        # Flatten\n",
    "        x = x.view(-1, self.num_channels * 256)\n",
    "        x = self.fc1(x)\n",
    "        x = nn.functional.relu(x)\n",
    "        x = self.fc2(x)\n",
    "        x = nn.functional.softmax(x)\n",
    "\n",
    "        return x\n"
   ]
  },
  {
   "cell_type": "markdown",
   "metadata": {},
   "source": [
    "## Load Data in PyTorch"
   ]
  },
  {
   "cell_type": "code",
   "execution_count": 32,
   "metadata": {},
   "outputs": [
    {
     "name": "stdout",
     "output_type": "stream",
     "text": [
      "\u001b[34mtest_signs\u001b[m\u001b[m  \u001b[34mtrain_signs\u001b[m\u001b[m \u001b[34mval_signs\u001b[m\u001b[m\n"
     ]
    }
   ],
   "source": [
    "!ls ../Datasets/64x64_SIGNS"
   ]
  },
  {
   "cell_type": "code",
   "execution_count": 33,
   "metadata": {},
   "outputs": [],
   "source": [
    "sys.path.append('../functions')"
   ]
  },
  {
   "cell_type": "code",
   "execution_count": 34,
   "metadata": {},
   "outputs": [],
   "source": [
    "from plot_helpers import imshow"
   ]
  },
  {
   "cell_type": "code",
   "execution_count": 35,
   "metadata": {},
   "outputs": [],
   "source": [
    "class SignsDatasets(Dataset):\n",
    "    def __init__(self, base_dir, split=\"train\", transform=None):\n",
    "        path = os.path.join(base_dir, f\"{split}_signs\")\n",
    "        files = os.listdir(path)\n",
    "\n",
    "        self.filenames = [os.path.join(path, f) for f in files if f.endswith(\".jpg\")]\n",
    "        self.targets = [int(f[0]) for f in files]\n",
    "        self.transform = transform\n",
    "\n",
    "    def __len__(self):\n",
    "        return len(self.filenames)\n",
    "\n",
    "    def __getitem__(self, index):\n",
    "        image = Image.open(self.filenames[index])\n",
    "        if self.transform:\n",
    "            image = self.transform(image)\n",
    "\n",
    "        return image, self.targets[index]\n"
   ]
  },
  {
   "cell_type": "code",
   "execution_count": 36,
   "metadata": {},
   "outputs": [],
   "source": [
    "signs = SignsDatasets('../Datasets/64x64_SIGNS/', split='train')"
   ]
  },
  {
   "cell_type": "code",
   "execution_count": 37,
   "metadata": {},
   "outputs": [
    {
     "data": {
      "text/plain": [
       "864"
      ]
     },
     "execution_count": 37,
     "metadata": {},
     "output_type": "execute_result"
    }
   ],
   "source": [
    "len(signs)"
   ]
  },
  {
   "cell_type": "code",
   "execution_count": 38,
   "metadata": {},
   "outputs": [
    {
     "data": {
      "image/png": "[encoded data removed]",
      "text/plain": [
       "<PIL.JpegImagePlugin.JpegImageFile image mode=RGB size=64x64>"
      ]
     },
     "execution_count": 38,
     "metadata": {},
     "output_type": "execute_result"
    }
   ],
   "source": [
    "signs[56][0]"
   ]
  },
  {
   "cell_type": "markdown",
   "metadata": {},
   "source": [
    "### Preprocess the images"
   ]
  },
  {
   "cell_type": "code",
   "execution_count": 39,
   "metadata": {},
   "outputs": [],
   "source": [
    "train_set = SignsDatasets('../Datasets/64x64_SIGNS/', split='train', transform=transforms.ToTensor())"
   ]
  },
  {
   "cell_type": "code",
   "execution_count": 40,
   "metadata": {},
   "outputs": [],
   "source": [
    "dataloader = DataLoader(train_set, batch_size=BATCH_SIZE)"
   ]
  },
  {
   "cell_type": "code",
   "execution_count": 41,
   "metadata": {},
   "outputs": [
    {
     "data": {
      "image/png": "[encoded data removed]",
      "text/plain": [
       "<Figure size 640x480 with 1 Axes>"
      ]
     },
     "metadata": {},
     "output_type": "display_data"
    },
    {
     "name": "stdout",
     "output_type": "stream",
     "text": [
      "tensor([5, 3, 3, 5, 5, 1, 4, 2, 4, 2, 4, 1, 4, 1, 5, 2, 2, 2, 5, 1, 0, 3, 3, 3,\n",
      "        0, 0, 0, 0, 0, 0, 0, 3])\n"
     ]
    }
   ],
   "source": [
    "for inputs, targets in dataloader:\n",
    "    out = make_grid(inputs)\n",
    "    imshow(out)\n",
    "    print(targets)\n",
    "    break"
   ]
  },
  {
   "cell_type": "code",
   "execution_count": 42,
   "metadata": {},
   "outputs": [],
   "source": [
    "net = Net(32).to(DEVICE)\n",
    "loss_fn = nn.NLLLoss()\n",
    "optimizer = optim.SGD(net.parameters(), lr=1e-3, momentum=0.9)"
   ]
  },
  {
   "cell_type": "code",
   "execution_count": 43,
   "metadata": {},
   "outputs": [],
   "source": [
    "class RunningMetric():\n",
    "    def __init__(self):\n",
    "        self.S = 0\n",
    "        self.N = 0\n",
    "    \n",
    "    def update(self, value, size):\n",
    "        self.S += value\n",
    "        self.N += size\n",
    "        \n",
    "    def __call__(self):\n",
    "        return self.S/float(self.N)"
   ]
  },
  {
   "cell_type": "code",
   "execution_count": 44,
   "metadata": {},
   "outputs": [
    {
     "name": "stdout",
     "output_type": "stream",
     "text": [
      "Epoch 1/150\n",
      "----------\n"
     ]
    },
    {
     "name": "stderr",
     "output_type": "stream",
     "text": [
      "/var/folders/bs/jxzw14n53ksgt9_q98rq0_0m0000gn/T/ipykernel_2834/1565532523.py:32: UserWarning: Implicit dimension choice for softmax has been deprecated. Change the call to include dim=X as an argument.\n",
      "  x = nn.functional.softmax(x)\n"
     ]
    },
    {
     "name": "stdout",
     "output_type": "stream",
     "text": [
      "Loss: -0.1667 Acc: 0.1644\n",
      "Epoch 2/150\n",
      "----------\n",
      "Loss: -0.1667 Acc: 0.1644\n",
      "Epoch 3/150\n",
      "----------\n",
      "Loss: -0.1668 Acc: 0.1644\n",
      "Epoch 4/150\n",
      "----------\n",
      "Loss: -0.1668 Acc: 0.1644\n",
      "Epoch 5/150\n",
      "----------\n",
      "Loss: -0.1668 Acc: 0.1644\n",
      "Epoch 6/150\n",
      "----------\n",
      "Loss: -0.1668 Acc: 0.1644\n",
      "Epoch 7/150\n",
      "----------\n",
      "Loss: -0.1668 Acc: 0.1644\n",
      "Epoch 8/150\n",
      "----------\n",
      "Loss: -0.1668 Acc: 0.1644\n",
      "Epoch 9/150\n",
      "----------\n",
      "Loss: -0.1668 Acc: 0.1644\n",
      "Epoch 10/150\n",
      "----------\n",
      "Loss: -0.1669 Acc: 0.1644\n",
      "Epoch 11/150\n",
      "----------\n",
      "Loss: -0.1669 Acc: 0.1644\n",
      "Epoch 12/150\n",
      "----------\n",
      "Loss: -0.1669 Acc: 0.1644\n",
      "Epoch 13/150\n",
      "----------\n",
      "Loss: -0.1669 Acc: 0.1644\n",
      "Epoch 14/150\n",
      "----------\n",
      "Loss: -0.1669 Acc: 0.1644\n",
      "Epoch 15/150\n",
      "----------\n",
      "Loss: -0.1669 Acc: 0.1644\n",
      "Epoch 16/150\n",
      "----------\n",
      "Loss: -0.1669 Acc: 0.1644\n",
      "Epoch 17/150\n",
      "----------\n",
      "Loss: -0.1669 Acc: 0.1644\n",
      "Epoch 18/150\n",
      "----------\n",
      "Loss: -0.1669 Acc: 0.1644\n",
      "Epoch 19/150\n",
      "----------\n",
      "Loss: -0.1670 Acc: 0.1644\n",
      "Epoch 20/150\n",
      "----------\n",
      "Loss: -0.1670 Acc: 0.1644\n",
      "Epoch 21/150\n",
      "----------\n",
      "Loss: -0.1670 Acc: 0.1644\n",
      "Epoch 22/150\n",
      "----------\n",
      "Loss: -0.1670 Acc: 0.1644\n",
      "Epoch 23/150\n",
      "----------\n",
      "Loss: -0.1670 Acc: 0.1644\n",
      "Epoch 24/150\n",
      "----------\n",
      "Loss: -0.1670 Acc: 0.1644\n",
      "Epoch 25/150\n",
      "----------\n",
      "Loss: -0.1670 Acc: 0.1644\n",
      "Epoch 26/150\n",
      "----------\n",
      "Loss: -0.1670 Acc: 0.1644\n",
      "Epoch 27/150\n",
      "----------\n",
      "Loss: -0.1671 Acc: 0.1644\n",
      "Epoch 28/150\n",
      "----------\n",
      "Loss: -0.1671 Acc: 0.1655\n",
      "Epoch 29/150\n",
      "----------\n",
      "Loss: -0.1671 Acc: 0.1690\n",
      "Epoch 30/150\n",
      "----------\n",
      "Loss: -0.1671 Acc: 0.1713\n",
      "Epoch 31/150\n",
      "----------\n",
      "Loss: -0.1671 Acc: 0.1782\n",
      "Epoch 32/150\n",
      "----------\n",
      "Loss: -0.1671 Acc: 0.1944\n",
      "Epoch 33/150\n",
      "----------\n",
      "Loss: -0.1671 Acc: 0.2049\n",
      "Epoch 34/150\n",
      "----------\n",
      "Loss: -0.1671 Acc: 0.2176\n",
      "Epoch 35/150\n",
      "----------\n",
      "Loss: -0.1672 Acc: 0.2350\n",
      "Epoch 36/150\n",
      "----------\n",
      "Loss: -0.1672 Acc: 0.2431\n",
      "Epoch 37/150\n",
      "----------\n",
      "Loss: -0.1672 Acc: 0.2257\n",
      "Epoch 38/150\n",
      "----------\n",
      "Loss: -0.1672 Acc: 0.1991\n",
      "Epoch 39/150\n",
      "----------\n",
      "Loss: -0.1672 Acc: 0.1829\n",
      "Epoch 40/150\n",
      "----------\n",
      "Loss: -0.1672 Acc: 0.1748\n",
      "Epoch 41/150\n",
      "----------\n",
      "Loss: -0.1672 Acc: 0.1713\n",
      "Epoch 42/150\n",
      "----------\n",
      "Loss: -0.1673 Acc: 0.1725\n",
      "Epoch 43/150\n",
      "----------\n",
      "Loss: -0.1673 Acc: 0.1725\n",
      "Epoch 44/150\n",
      "----------\n",
      "Loss: -0.1673 Acc: 0.1725\n",
      "Epoch 45/150\n",
      "----------\n",
      "Loss: -0.1673 Acc: 0.1725\n",
      "Epoch 46/150\n",
      "----------\n",
      "Loss: -0.1673 Acc: 0.1725\n",
      "Epoch 47/150\n",
      "----------\n",
      "Loss: -0.1673 Acc: 0.1725\n",
      "Epoch 48/150\n",
      "----------\n",
      "Loss: -0.1673 Acc: 0.1725\n",
      "Epoch 49/150\n",
      "----------\n",
      "Loss: -0.1674 Acc: 0.1725\n",
      "Epoch 50/150\n",
      "----------\n",
      "Loss: -0.1674 Acc: 0.1725\n",
      "Epoch 51/150\n",
      "----------\n",
      "Loss: -0.1674 Acc: 0.1725\n",
      "Epoch 52/150\n",
      "----------\n",
      "Loss: -0.1674 Acc: 0.1725\n",
      "Epoch 53/150\n",
      "----------\n",
      "Loss: -0.1674 Acc: 0.1725\n",
      "Epoch 54/150\n",
      "----------\n",
      "Loss: -0.1674 Acc: 0.1725\n",
      "Epoch 55/150\n",
      "----------\n",
      "Loss: -0.1675 Acc: 0.1725\n",
      "Epoch 56/150\n",
      "----------\n",
      "Loss: -0.1675 Acc: 0.1725\n",
      "Epoch 57/150\n",
      "----------\n",
      "Loss: -0.1675 Acc: 0.1725\n",
      "Epoch 58/150\n",
      "----------\n",
      "Loss: -0.1675 Acc: 0.1725\n",
      "Epoch 59/150\n",
      "----------\n",
      "Loss: -0.1675 Acc: 0.1725\n",
      "Epoch 60/150\n",
      "----------\n",
      "Loss: -0.1676 Acc: 0.1725\n",
      "Epoch 61/150\n",
      "----------\n",
      "Loss: -0.1676 Acc: 0.1725\n",
      "Epoch 62/150\n",
      "----------\n",
      "Loss: -0.1676 Acc: 0.1725\n",
      "Epoch 63/150\n",
      "----------\n",
      "Loss: -0.1676 Acc: 0.1725\n",
      "Epoch 64/150\n",
      "----------\n",
      "Loss: -0.1676 Acc: 0.1725\n",
      "Epoch 65/150\n",
      "----------\n",
      "Loss: -0.1677 Acc: 0.1725\n",
      "Epoch 66/150\n",
      "----------\n",
      "Loss: -0.1677 Acc: 0.1725\n",
      "Epoch 67/150\n",
      "----------\n",
      "Loss: -0.1677 Acc: 0.1725\n",
      "Epoch 68/150\n",
      "----------\n",
      "Loss: -0.1677 Acc: 0.1725\n",
      "Epoch 69/150\n",
      "----------\n",
      "Loss: -0.1678 Acc: 0.1725\n",
      "Epoch 70/150\n",
      "----------\n",
      "Loss: -0.1678 Acc: 0.1725\n",
      "Epoch 71/150\n",
      "----------\n",
      "Loss: -0.1678 Acc: 0.1725\n",
      "Epoch 72/150\n",
      "----------\n",
      "Loss: -0.1678 Acc: 0.1725\n",
      "Epoch 73/150\n",
      "----------\n",
      "Loss: -0.1678 Acc: 0.1725\n",
      "Epoch 74/150\n",
      "----------\n",
      "Loss: -0.1679 Acc: 0.1725\n",
      "Epoch 75/150\n",
      "----------\n",
      "Loss: -0.1679 Acc: 0.1725\n",
      "Epoch 76/150\n",
      "----------\n",
      "Loss: -0.1679 Acc: 0.1725\n",
      "Epoch 77/150\n",
      "----------\n",
      "Loss: -0.1680 Acc: 0.1725\n",
      "Epoch 78/150\n",
      "----------\n",
      "Loss: -0.1680 Acc: 0.1725\n",
      "Epoch 79/150\n",
      "----------\n",
      "Loss: -0.1680 Acc: 0.1725\n",
      "Epoch 80/150\n",
      "----------\n",
      "Loss: -0.1680 Acc: 0.1725\n",
      "Epoch 81/150\n",
      "----------\n",
      "Loss: -0.1681 Acc: 0.1725\n",
      "Epoch 82/150\n",
      "----------\n",
      "Loss: -0.1681 Acc: 0.1725\n",
      "Epoch 83/150\n",
      "----------\n",
      "Loss: -0.1681 Acc: 0.1725\n",
      "Epoch 84/150\n",
      "----------\n",
      "Loss: -0.1682 Acc: 0.1725\n",
      "Epoch 85/150\n",
      "----------\n",
      "Loss: -0.1682 Acc: 0.1725\n",
      "Epoch 86/150\n",
      "----------\n",
      "Loss: -0.1682 Acc: 0.1725\n",
      "Epoch 87/150\n",
      "----------\n",
      "Loss: -0.1683 Acc: 0.1725\n",
      "Epoch 88/150\n",
      "----------\n",
      "Loss: -0.1683 Acc: 0.1725\n",
      "Epoch 89/150\n",
      "----------\n",
      "Loss: -0.1683 Acc: 0.1725\n",
      "Epoch 90/150\n",
      "----------\n",
      "Loss: -0.1684 Acc: 0.1725\n",
      "Epoch 91/150\n",
      "----------\n",
      "Loss: -0.1684 Acc: 0.1725\n",
      "Epoch 92/150\n",
      "----------\n",
      "Loss: -0.1684 Acc: 0.1725\n",
      "Epoch 93/150\n",
      "----------\n",
      "Loss: -0.1685 Acc: 0.1725\n",
      "Epoch 94/150\n",
      "----------\n",
      "Loss: -0.1685 Acc: 0.1725\n",
      "Epoch 95/150\n",
      "----------\n",
      "Loss: -0.1686 Acc: 0.1725\n",
      "Epoch 96/150\n",
      "----------\n",
      "Loss: -0.1686 Acc: 0.1725\n",
      "Epoch 97/150\n",
      "----------\n",
      "Loss: -0.1687 Acc: 0.1725\n",
      "Epoch 98/150\n",
      "----------\n",
      "Loss: -0.1687 Acc: 0.1725\n",
      "Epoch 99/150\n",
      "----------\n",
      "Loss: -0.1688 Acc: 0.1725\n",
      "Epoch 100/150\n",
      "----------\n",
      "Loss: -0.1688 Acc: 0.1725\n",
      "Epoch 101/150\n",
      "----------\n",
      "Loss: -0.1689 Acc: 0.1725\n",
      "Epoch 102/150\n",
      "----------\n",
      "Loss: -0.1689 Acc: 0.1725\n",
      "Epoch 103/150\n",
      "----------\n",
      "Loss: -0.1690 Acc: 0.1725\n",
      "Epoch 104/150\n",
      "----------\n",
      "Loss: -0.1690 Acc: 0.1725\n",
      "Epoch 105/150\n",
      "----------\n",
      "Loss: -0.1691 Acc: 0.1725\n",
      "Epoch 106/150\n",
      "----------\n",
      "Loss: -0.1691 Acc: 0.1725\n",
      "Epoch 107/150\n",
      "----------\n",
      "Loss: -0.1692 Acc: 0.1725\n",
      "Epoch 108/150\n",
      "----------\n",
      "Loss: -0.1693 Acc: 0.1725\n",
      "Epoch 109/150\n",
      "----------\n",
      "Loss: -0.1693 Acc: 0.1725\n",
      "Epoch 110/150\n",
      "----------\n",
      "Loss: -0.1694 Acc: 0.1725\n",
      "Epoch 111/150\n",
      "----------\n",
      "Loss: -0.1695 Acc: 0.1725\n",
      "Epoch 112/150\n",
      "----------\n",
      "Loss: -0.1696 Acc: 0.1725\n",
      "Epoch 113/150\n",
      "----------\n",
      "Loss: -0.1696 Acc: 0.1725\n",
      "Epoch 114/150\n",
      "----------\n",
      "Loss: -0.1697 Acc: 0.1725\n",
      "Epoch 115/150\n",
      "----------\n",
      "Loss: -0.1698 Acc: 0.1725\n",
      "Epoch 116/150\n",
      "----------\n",
      "Loss: -0.1699 Acc: 0.1725\n",
      "Epoch 117/150\n",
      "----------\n",
      "Loss: -0.1700 Acc: 0.1725\n",
      "Epoch 118/150\n",
      "----------\n",
      "Loss: -0.1701 Acc: 0.1725\n",
      "Epoch 119/150\n",
      "----------\n",
      "Loss: -0.1702 Acc: 0.1725\n",
      "Epoch 120/150\n",
      "----------\n",
      "Loss: -0.1703 Acc: 0.1725\n",
      "Epoch 121/150\n",
      "----------\n",
      "Loss: -0.1705 Acc: 0.1725\n",
      "Epoch 122/150\n",
      "----------\n",
      "Loss: -0.1706 Acc: 0.1725\n",
      "Epoch 123/150\n",
      "----------\n",
      "Loss: -0.1707 Acc: 0.1725\n",
      "Epoch 124/150\n",
      "----------\n",
      "Loss: -0.1708 Acc: 0.1725\n",
      "Epoch 125/150\n",
      "----------\n",
      "Loss: -0.1710 Acc: 0.1725\n",
      "Epoch 126/150\n",
      "----------\n",
      "Loss: -0.1711 Acc: 0.1725\n",
      "Epoch 127/150\n",
      "----------\n",
      "Loss: -0.1713 Acc: 0.1725\n",
      "Epoch 128/150\n",
      "----------\n",
      "Loss: -0.1715 Acc: 0.1725\n",
      "Epoch 129/150\n",
      "----------\n",
      "Loss: -0.1716 Acc: 0.1725\n",
      "Epoch 130/150\n",
      "----------\n",
      "Loss: -0.1718 Acc: 0.1725\n",
      "Epoch 131/150\n",
      "----------\n",
      "Loss: -0.1720 Acc: 0.1725\n",
      "Epoch 132/150\n",
      "----------\n",
      "Loss: -0.1722 Acc: 0.1725\n",
      "Epoch 133/150\n",
      "----------\n",
      "Loss: -0.1724 Acc: 0.1725\n",
      "Epoch 134/150\n",
      "----------\n",
      "Loss: -0.1727 Acc: 0.1725\n",
      "Epoch 135/150\n",
      "----------\n",
      "Loss: -0.1729 Acc: 0.1725\n",
      "Epoch 136/150\n",
      "----------\n",
      "Loss: -0.1732 Acc: 0.1725\n",
      "Epoch 137/150\n",
      "----------\n",
      "Loss: -0.1734 Acc: 0.1725\n",
      "Epoch 138/150\n",
      "----------\n",
      "Loss: -0.1737 Acc: 0.1725\n",
      "Epoch 139/150\n",
      "----------\n",
      "Loss: -0.1740 Acc: 0.1725\n",
      "Epoch 140/150\n",
      "----------\n",
      "Loss: -0.1743 Acc: 0.1725\n",
      "Epoch 141/150\n",
      "----------\n",
      "Loss: -0.1747 Acc: 0.1725\n",
      "Epoch 142/150\n",
      "----------\n",
      "Loss: -0.1751 Acc: 0.1725\n",
      "Epoch 143/150\n",
      "----------\n",
      "Loss: -0.1755 Acc: 0.1725\n",
      "Epoch 144/150\n",
      "----------\n",
      "Loss: -0.1759 Acc: 0.1725\n",
      "Epoch 145/150\n",
      "----------\n",
      "Loss: -0.1764 Acc: 0.1725\n",
      "Epoch 146/150\n",
      "----------\n",
      "Loss: -0.1769 Acc: 0.1725\n",
      "Epoch 147/150\n",
      "----------\n",
      "Loss: -0.1774 Acc: 0.1725\n",
      "Epoch 148/150\n",
      "----------\n",
      "Loss: -0.1780 Acc: 0.1725\n",
      "Epoch 149/150\n",
      "----------\n",
      "Loss: -0.1787 Acc: 0.1725\n",
      "Epoch 150/150\n",
      "----------\n",
      "Loss: -0.1795 Acc: 0.1725\n"
     ]
    }
   ],
   "source": [
    "for epoch in range(NUM_EPOCHS):\n",
    "    print(f'Epoch {epoch + 1}/{NUM_EPOCHS}')\n",
    "    print('-' * 10)\n",
    "\n",
    "    running_loss = RunningMetric()\n",
    "    running_acc = RunningMetric()\n",
    "\n",
    "    for inputs, targets in dataloader:\n",
    "        inputs, targets = inputs.to(DEVICE), targets.to(DEVICE)\n",
    "        optimizer.zero_grad()\n",
    "        \n",
    "        outputs = net(inputs)\n",
    "        _, preds = torch.max(outputs, 1)\n",
    "        loss = loss_fn(outputs, targets)\n",
    "        loss.backward()\n",
    "        optimizer.step()\n",
    "        \n",
    "        batch_size = inputs.size()[0]\n",
    "        running_loss.update(loss.item() * batch_size, batch_size)\n",
    "        running_acc.update(torch.sum(preds == targets).float(), batch_size)\n",
    "        \n",
    "    print(f'Loss: {running_loss():.4f} Acc: {running_acc():.4f}')"
   ]
  }
 ],
 "metadata": {
  "kernelspec": {
   "display_name": "Python 3.10.5 ('.venv': poetry)",
   "language": "python",
   "name": "python3"
  },
  "language_info": {
   "codemirror_mode": {
    "name": "ipython",
    "version": 3
   },
   "file_extension": ".py",
   "mimetype": "text/x-python",
   "name": "python",
   "nbconvert_exporter": "python",
   "pygments_lexer": "ipython3",
   "version": "3.10.8"
  },
  "orig_nbformat": 4,
  "vscode": {
   "interpreter": {
    "hash": "6d7b166ebd68e38de58fc1f6af134f0f2ff66e0d51839b30fdba22526be05163"
   }
  }
 },
 "nbformat": 4,
 "nbformat_minor": 2
}
