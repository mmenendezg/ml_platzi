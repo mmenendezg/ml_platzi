{
 "cells": [
  {
   "cell_type": "code",
   "execution_count": 1,
   "id": "c37f708e-81c4-4e7f-995c-580193f4680b",
   "metadata": {},
   "outputs": [],
   "source": [
    "import numpy as np"
   ]
  },
  {
   "cell_type": "code",
   "execution_count": 2,
   "id": "75b73c9c-d6bd-4eb3-a25f-937d4cb49633",
   "metadata": {},
   "outputs": [
    {
     "name": "stdout",
     "output_type": "stream",
     "text": [
      "[[  4   8  28  18  16]\n",
      " [  8  10  68  19  13]\n",
      " [ 28  68   8  25  27]\n",
      " [ 18  19  25  40  15]\n",
      " [ 16  13  27  15 100]]\n"
     ]
    }
   ],
   "source": [
    "A = np.array([\n",
    "    [2,4,5,6,7],\n",
    "    [4,5,12,4,5],\n",
    "    [23,56,4,6,15],\n",
    "    [12,15,19,20,4],\n",
    "    [9,8,12,11,50]\n",
    "])\n",
    "\n",
    "A_t = A.T\n",
    "\n",
    "B = A + A_t\n",
    "\n",
    "print(B)"
   ]
  },
  {
   "cell_type": "code",
   "execution_count": 4,
   "id": "56c7c1ce-fb1c-4858-b1c5-a5bf6ef6048a",
   "metadata": {},
   "outputs": [
    {
     "data": {
      "text/plain": [
       "array([[0.28571429],\n",
       "       [5.        ]])"
      ]
     },
     "execution_count": 4,
     "metadata": {},
     "output_type": "execute_result"
    }
   ],
   "source": [
    "A = np.array([\n",
    "    [-1, 1],\n",
    "    [-2, 1],\n",
    "    [3, 1]\n",
    "])\n",
    "\n",
    "B = np.array([[4], [5], [6]])\n",
    "\n",
    "variables = np.linalg.pinv(A).dot(B)\n",
    "variables"
   ]
  },
  {
   "cell_type": "code",
   "execution_count": 6,
   "id": "601f944a-5c5c-4b9b-83ef-3bf14ce81bf6",
   "metadata": {},
   "outputs": [
    {
     "data": {
      "text/plain": [
       "array([[-1.33333333, -0.33333333,  0.66666667],\n",
       "       [ 1.08333333,  0.33333333, -0.41666667]])"
      ]
     },
     "execution_count": 6,
     "metadata": {},
     "output_type": "execute_result"
    }
   ],
   "source": [
    "mat = np.array([\n",
    "    [1, 2],\n",
    "    [3, 4],\n",
    "    [5, 6]\n",
    "])\n",
    "\n",
    "np.linalg.pinv(mat)"
   ]
  },
  {
   "cell_type": "code",
   "execution_count": 7,
   "id": "ab01aca5-a5b9-4fcd-a560-ad8b933e2470",
   "metadata": {},
   "outputs": [
    {
     "data": {
      "text/plain": [
       "(array([ 6., -1.]),\n",
       " array([[ 0.8       , -0.70710678],\n",
       "        [ 0.6       ,  0.70710678]]))"
      ]
     },
     "execution_count": 7,
     "metadata": {},
     "output_type": "execute_result"
    }
   ],
   "source": [
    "A = [[3, 4], [3, 2]]\n",
    "\n",
    "np.linalg.eig(A)"
   ]
  }
 ],
 "metadata": {
  "kernelspec": {
   "display_name": "Python 3",
   "language": "python",
   "name": "python3"
  },
  "language_info": {
   "codemirror_mode": {
    "name": "ipython",
    "version": 3
   },
   "file_extension": ".py",
   "mimetype": "text/x-python",
   "name": "python",
   "nbconvert_exporter": "python",
   "pygments_lexer": "ipython3",
   "version": "3.8.9"
  }
 },
 "nbformat": 4,
 "nbformat_minor": 5
}
