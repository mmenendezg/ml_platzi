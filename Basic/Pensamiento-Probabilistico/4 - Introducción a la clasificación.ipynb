{
 "metadata": {
  "language_info": {
   "codemirror_mode": {
    "name": "ipython",
    "version": 3
   },
   "file_extension": ".py",
   "mimetype": "text/x-python",
   "name": "python",
   "nbconvert_exporter": "python",
   "pygments_lexer": "ipython3",
   "version": 3
  },
  "orig_nbformat": 2
 },
 "nbformat": 4,
 "nbformat_minor": 2,
 "cells": [
  {
   "source": [
    "# Introducción a la clasificación\n",
    "\n",
    "* Es el proceso de predicción de la clase un dato. \n",
    "\n",
    "* Se clasifica como aprendizaje supervisado ya que depende de las etiquetas. \n",
    "\n",
    "* Se puede dividir en dos pasos principales: aprendizaje y clasificación.\n",
    "\n",
    "## K-nearest Neighbors\n",
    "****\n",
    "* Parte del supuesto que la información ya esta clasificada. \n",
    "\n",
    "* K es la cantidad de datos cercanos que se utilizara para clasificar a los valores. \n",
    "\n",
    "* No es computacionalmente eficiente, y no se recomienda para datos de alta dimensionalidad. \n",
    "\n",
    "## Clasificadores lineales\n",
    "****\n",
    " * Divide los grupos por una linea para separa visualmente los grupos. \n",
    "\n",
    " ## Regresión logística\n",
    "****\n",
    "* Es similar a la anterior, pero en un lugar de generar una linea genera un gradiente con probabilidades de pertenecer a un grupo u a otro. \n",
    "\n",
    "## Support vector machines\n",
    "****\n",
    "* Pueden separar los datos por figuras complejas en lugar de solo lineas o gradientes (Figuras complejas como circulos, triangulos, poligonos, entre otros)\n",
    "\n",
    "## Árboles de decisión \n",
    "****\n",
    "* Genera un árbol que se debe recorrer para clasificarlo, tomando decisiones en cada rama. \n",
    "\n"
   ],
   "cell_type": "markdown",
   "metadata": {}
  }
 ]
}