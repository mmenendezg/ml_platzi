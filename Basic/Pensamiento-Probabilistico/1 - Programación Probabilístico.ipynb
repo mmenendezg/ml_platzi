{
 "cells": [
  {
   "cell_type": "markdown",
   "metadata": {},
   "source": [
    "# Programación Probabilístico\n",
    "\n",
    "* Utiliza probabilidades y modelos probabilísticos para ejecutarse. \n",
    "\n",
    "* La Programación probabilística es usado en investigación científica, inteligencia artificial, medician, etc\n",
    "\n",
    "* Existen lenguajes y librerías especializadas como Pyro de Uber"
   ]
  },
  {
   "cell_type": "markdown",
   "metadata": {},
   "source": [
    "## Probabilidad condicional\n",
    "\n",
    "* La probabilidad condicional son eventos dependientes entre sí.\n",
    "\n",
    "* La probabilidad condicional está definido por:\n",
    ">$$P(AB) = P(A)*P(B|A)$$\n",
    "\n",
    "* La probabilidad de un evento condicional es:\n",
    ">$$P(B) = P(A)*P(B|A) + P(\\bar{A})*P(B|\\bar{A})$$"
   ]
  },
  {
   "cell_type": "markdown",
   "metadata": {},
   "source": [
    "## Teorema de Bayes\n",
    "\n",
    "La ecuación del teorema de Bayes es:\n",
    "\n",
    "$$P(A|B) = \\frac{P(B|A)P(A)}{P(B)}$$\n",
    "\n",
    ">$P(A)$ = prior\n",
    "\n",
    ">$P(B)$ = posterior"
   ]
  },
  {
   "cell_type": "markdown",
   "metadata": {},
   "source": [
    "## Ejercicio: Análisis de Síntomas"
   ]
  },
  {
   "cell_type": "code",
   "execution_count": 8,
   "metadata": {},
   "outputs": [
    {
     "name": "stdout",
     "output_type": "stream",
     "text": [
      "The probability to have cancer if the symptom exists is 9.1%\n"
     ]
    }
   ],
   "source": [
    "def calc_bayes(prob_a, prob_b_a, prob_b):\n",
    "    prob_a_b = (prob_b_a * prob_a) / prob_b\n",
    "    return prob_a_b\n",
    "\n",
    "if __name__ == '__main__':\n",
    "    prob_cancer = 1 / 100000\n",
    "    prob_symptom_cancer = 1\n",
    "    prob_symptom_notcancer = 10 / 99999\n",
    "    prob_notcancer = 1 - prob_cancer\n",
    "\n",
    "    prob_symptom = (prob_symptom_cancer * prob_cancer) + (prob_symptom_notcancer * prob_notcancer)\n",
    "    prob_cancer_symptom = calc_bayes(prob_cancer, prob_symptom_cancer, prob_symptom)\n",
    "\n",
    "    print(f'The probability to have cancer if the symptom exists is {round(prob_cancer_symptom*100, 1)}%')"
   ]
  }
 ],
 "metadata": {
  "kernelspec": {
   "display_name": "Python 3",
   "language": "python",
   "name": "python3"
  },
  "language_info": {
   "codemirror_mode": {
    "name": "ipython",
    "version": 3
   },
   "file_extension": ".py",
   "mimetype": "text/x-python",
   "name": "python",
   "nbconvert_exporter": "python",
   "pygments_lexer": "ipython3",
   "version": "3.8.7"
  }
 },
 "nbformat": 4,
 "nbformat_minor": 4
}
