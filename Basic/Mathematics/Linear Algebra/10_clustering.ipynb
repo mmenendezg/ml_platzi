{
 "cells": [
  {
   "cell_type": "markdown",
   "metadata": {},
   "source": [
    "# 10. Clustering"
   ]
  },
  {
   "cell_type": "markdown",
   "metadata": {},
   "source": [
    "Acá va a ser donde todo el conocimiento que adquirimos hasta ahora se va a juntar. "
   ]
  },
  {
   "cell_type": "markdown",
   "metadata": {},
   "source": [
    "Lo que vamos a hacer es tratar de _clusterizar_ una colección de vectores en grupos o clústers de vectores que son los que estarán cerca unos de otros y todo a través de medir las distancias a pares. "
   ]
  },
  {
   "cell_type": "markdown",
   "metadata": {},
   "source": [
    "Supongamos que tenemos un grupo de $N$ $n$-vectores $x_{0},x_{1},\\dots,x_{N-1}$. El objetivo de _clustering_ es agrupar (si es posible) en $k$ grupos los vectores tal que dentro de esos grupos estén lo más cerca posible unos de otros. "
   ]
  },
  {
   "cell_type": "markdown",
   "metadata": {},
   "source": [
    "![](fig1.png)"
   ]
  },
  {
   "cell_type": "markdown",
   "metadata": {},
   "source": [
    "  "
   ]
  },
  {
   "cell_type": "markdown",
   "metadata": {},
   "source": [
    "## 10.1 El objetivo de clustering"
   ]
  },
  {
   "cell_type": "markdown",
   "metadata": {},
   "source": [
    "**Específicar el asignamiento de clúster**. Uno de los primeros problemas es asignar a una serie de vectores un clúster. Ahora, para empezar, vamos a partir teniendo las etiquetas $1,2,\\dots,k$ que representan los clusters o grupos y estas etiquetas se las vamos a asignar a nuestros $N$ vectores usando al $N$-vector $c$, donde $c_{i}$ va a representar el grupo al que el vector $x_{i}$ está asignado. Por ejemplo, si $N=6$ y $k=3$, y además $c^{T} = [3,1,1,1,2,2]$ entonces esto significa que el vector $x_{0}$ quedará asignado al grupo $3$, los vectores $x_{1},x_{2},x_{3}$ estarán asignados al grupo $1$ y los vectores $x_{4},x_{5}$ quedarán asignados al grupo 2. Ahora, una forma alternativa de expresar esto es con conjuntos de los index de los vectores. Vamos a denotar como $G_{i}$ al grupo $i$ de indices de vectores que pertenecen a cada grupo. Continuando nuestro ejemplo entonces tenemos que\n",
    "\n",
    "$$\n",
    "G_{1} = \\{1,2,3\\}, \\qquad G_{2} = \\{4,5\\}, \\qquad G_{3} = \\{0\\}\n",
    "$$"
   ]
  },
  {
   "cell_type": "markdown",
   "metadata": {},
   "source": [
    "**Representativos de un grupo.** Ahora, consideremos de nuevo que tenemos $k$ grupos, a cada uno de estos grupos le vamos a asignar un vector representativo, el cual vamos a denotar por $z_{1},z_{2},\\dots,z_{k}$. Estos vectores representativos pueden ser cualquier vector, no tience que ser necesariamente uno de los vectores dados sin embargo tiene que ser tal que la distancia de este $z_{i}$ a todos los otros vectores del grupo sea la mínima."
   ]
  },
  {
   "cell_type": "markdown",
   "metadata": {},
   "source": [
    "**Un objetivo de clustering.** Ahora bien, ya que definimos lo anterior podemos dar una métrica que nos ayude a juzgar la elección de un clúster en conjunto con los representativos de cada grupo. Definimos entonces:\n",
    "\n",
    "$$\n",
    "J^{clust} = (||x_{0}-z_{c_{1}}||^{2}+\\cdots+||x_{N-1}-z_{c_{N}}||^{2})/N\n",
    "$$"
   ]
  },
  {
   "cell_type": "markdown",
   "metadata": {},
   "source": [
    "**Clustering óptimo y subóptimo.** Nosotros vamos a buscar un clustering, es decir, un asignamiento de cluster $c_{1},c_{2},\\dots,c_{N}$ y vamos a elegir unos representativos $z_{1},z_{2},\\dots,z_{N}$ que minimicen el objetivo $J^{clust}$. Al que nos retorne el $J^{clust}$ mínimo le vamos a llamar clustering óptimo. Aunque no existe tal solución lo que vamos a hacer es aproximarla por medio del algoritmo *k-means*, a esta solución le llamaremos *subóptima* y aunque no es solución exacta del problema es lo sufientemente buena para poder trabajar con ella. "
   ]
  },
  {
   "cell_type": "markdown",
   "metadata": {},
   "source": [
    "## 10.2 El algoritmo K-Means"
   ]
  },
  {
   "cell_type": "markdown",
   "metadata": {},
   "source": [
    "**ALGORITMO** Algoritmo K-Means  \n",
    "**iniciar** Se da una lista de $N$ vectores y una lista de $k$ vectores representativos $z_{1},z_{2},\\dots,z_{k}$  \n",
    "\n",
    "repetir hasta la convergencia:\n",
    "1. *Parte los vectores en k-grupos*. Para cada vector $i=0,\\dots,N-1$, asigna  $x_{i}$ a un grupo asociado con su representativo más cercano. \n",
    "2. *Actualiza los representativos de cada cluster*. Para cada grupo $1,\\dots, k$ selecciona $z_{j}$ como el promedio de los vectores del grupo $j$."
   ]
  },
  {
   "cell_type": "markdown",
   "metadata": {},
   "source": [
    "![](it1.png)"
   ]
  },
  {
   "cell_type": "markdown",
   "metadata": {},
   "source": [
    "![](it2.png)"
   ]
  },
  {
   "cell_type": "markdown",
   "metadata": {},
   "source": [
    "![](it3.png)"
   ]
  },
  {
   "cell_type": "markdown",
   "metadata": {},
   "source": [
    "![](it4.png)"
   ]
  },
  {
   "cell_type": "markdown",
   "metadata": {},
   "source": [
    "![](it5.png)"
   ]
  },
  {
   "cell_type": "code",
   "execution_count": 1,
   "metadata": {},
   "outputs": [],
   "source": [
    "def group_assignment(data,centroids):\n",
    "    grouping_vec_c = np.zeros(len(data))\n",
    "    for i in range(len(data)):\n",
    "        dist = np.zeros(len(centroids))\n",
    "        for j in range(len(centroids)):\n",
    "            dist[j] = np.linalg.norm(data[i] - centroids[j])\n",
    "        min_dist = min(dist)\n",
    "        for j in range(len(centroids)):\n",
    "            if min_dist == dist[j]:\n",
    "                grouping_vec_c[i] = j+1\n",
    "    return grouping_vec_c"
   ]
  },
  {
   "cell_type": "code",
   "execution_count": 2,
   "metadata": {},
   "outputs": [],
   "source": [
    "def update_centroid(data, grouping, centroids):\n",
    "    new_centroids = []\n",
    "    for i in range(len(centroids)):\n",
    "        cent = np.zeros(len(data[0]))\n",
    "        count = 0\n",
    "        for j in range(len(data)):\n",
    "            if grouping[j] == (i+1):\n",
    "                cent = cent+data[j]\n",
    "                count += 1\n",
    "        group_average = cent/count\n",
    "        new_centroids.append(group_average)\n",
    "    return new_centroids"
   ]
  },
  {
   "cell_type": "code",
   "execution_count": 4,
   "metadata": {},
   "outputs": [],
   "source": [
    "def clustering_objective(data, grouping, centroids):\n",
    "    J_obj = 0\n",
    "    for i in range(len(data)):\n",
    "        for j in range(len(centroids)):\n",
    "            if grouping[i] == (j+1):\n",
    "                J_obj += np.linalg.norm(data[i] - centroids[j])**2\n",
    "    J_obj = J_obj/len(data)\n",
    "    return J_obj"
   ]
  },
  {
   "cell_type": "code",
   "execution_count": 5,
   "metadata": {},
   "outputs": [],
   "source": [
    "def Kmeans_alg(data, centroids):\n",
    "    iteration = 0\n",
    "    J_obj_vector = []\n",
    "    Stop = False\n",
    "    while Stop == False:\n",
    "        grouping = group_assignment(data, centroids)\n",
    "        new_centroids = update_centroid(data, grouping, centroids)\n",
    "        J_obj = clustering_objective(data, grouping,new_centroids)\n",
    "        J_obj_vector.append(J_obj)\n",
    "        iteration += 1\n",
    "        if np.linalg.norm(np.array(new_centroids) - np.array(centroids)) < 1e-6:\n",
    "            Stop = True\n",
    "        else:\n",
    "            centroids = new_centroids\n",
    "    return new_centroids, grouping, J_obj_vector, iteration"
   ]
  },
  {
   "cell_type": "code",
   "execution_count": 6,
   "metadata": {},
   "outputs": [],
   "source": [
    "import matplotlib.pyplot as plt\n",
    "import numpy as np"
   ]
  },
  {
   "cell_type": "code",
   "execution_count": 24,
   "metadata": {},
   "outputs": [
    {
     "data": {
      "image/png": "[encoded data removed]",
      "text/plain": [
       "<Figure size 840x840 with 1 Axes>"
      ]
     },
     "metadata": {
      "needs_background": "light"
     },
     "output_type": "display_data"
    }
   ],
   "source": [
    "fig,ax = plt.subplots(1,1,figsize=(7,7),dpi=120)\n",
    "X = np.concatenate([[0.3*np.random.randn(2) for i in range(100)],\\\n",
    "                    [[1,1] + 0.3*np.random.randn(2) for i in range(100)], \\\n",
    "                    [[1,-1]+ 0.3* np.random.randn(2) for i in range(100)]])\n",
    "ax.scatter( X[:,0],X[:,1])\n",
    "ax.set_xlim(-1.5,2.5)\n",
    "ax.set_ylim(-2,2)\n",
    "plt.show()"
   ]
  },
  {
   "cell_type": "code",
   "execution_count": 26,
   "metadata": {},
   "outputs": [
    {
     "data": {
      "text/plain": [
       "array([[-0.0973489 , -0.34365127],\n",
       "       [ 0.01763835, -0.09043277],\n",
       "       [-0.03010874, -0.46544264],\n",
       "       [ 0.07326327, -0.04116374],\n",
       "       [ 0.19834552, -0.12662844],\n",
       "       [-0.21260485, -0.71612113],\n",
       "       [-0.01702675,  0.34292039],\n",
       "       [ 0.00778897,  0.20526261],\n",
       "       [ 0.26192961, -0.1003308 ],\n",
       "       [-0.14557032, -0.19840537],\n",
       "       [-0.4045416 ,  0.05625317],\n",
       "       [-0.07340348, -0.25008961],\n",
       "       [ 0.01586244, -0.24076895],\n",
       "       [ 0.30087329, -0.32800935],\n",
       "       [ 0.0803672 ,  0.2696816 ],\n",
       "       [-0.20804787, -0.39325618],\n",
       "       [-0.23089647, -0.23772327],\n",
       "       [-0.16372856, -0.07444313],\n",
       "       [ 0.03908284, -0.24533256],\n",
       "       [-0.31582219, -0.06968193],\n",
       "       [ 0.6370457 ,  0.13289259],\n",
       "       [ 0.42753277,  0.14759527],\n",
       "       [-0.10394711,  0.15293738],\n",
       "       [-0.29089451, -0.00386534],\n",
       "       [ 0.02473233, -0.26621085],\n",
       "       [-0.12760737, -0.25979856],\n",
       "       [ 0.31590229, -0.21708687],\n",
       "       [ 0.29557784,  0.64052742],\n",
       "       [ 0.07093112, -0.2925845 ],\n",
       "       [-0.14174641, -0.36618043],\n",
       "       [ 0.19567057, -0.51696534],\n",
       "       [-0.13807523,  0.3639879 ],\n",
       "       [-0.00471035,  0.12093227],\n",
       "       [-0.61599428,  0.07205861],\n",
       "       [ 0.21053717,  1.1433607 ],\n",
       "       [-0.06106372, -0.0188722 ],\n",
       "       [-0.40140514, -0.70446919],\n",
       "       [ 0.19889545,  0.20916439],\n",
       "       [-0.48291594, -0.1581243 ],\n",
       "       [ 0.75677346,  0.32173043],\n",
       "       [ 0.30125651,  0.13222529],\n",
       "       [-0.04835472,  0.54436787],\n",
       "       [-0.35894984, -0.17058384],\n",
       "       [ 0.22989709,  0.25107833],\n",
       "       [-0.21462582, -0.2839665 ],\n",
       "       [-0.58830303,  0.23536765],\n",
       "       [-0.74796897, -0.22256443],\n",
       "       [ 0.18234846, -0.08663466],\n",
       "       [ 0.27548896,  0.16072341],\n",
       "       [-0.01441839,  0.00653941],\n",
       "       [-0.05533995,  0.36369741],\n",
       "       [ 0.21459585, -0.16643461],\n",
       "       [ 0.37125962,  0.02830975],\n",
       "       [-0.01108386,  0.57890349],\n",
       "       [ 0.32603448, -0.4885255 ],\n",
       "       [ 0.45466473, -0.49223398],\n",
       "       [-0.36735832, -0.10280844],\n",
       "       [ 0.33327091, -0.30347668],\n",
       "       [-0.18856215, -0.40893408],\n",
       "       [-0.0635991 ,  0.40471984],\n",
       "       [-0.56553431, -0.18940463],\n",
       "       [ 0.32314378, -0.23424629],\n",
       "       [ 0.12518944,  0.32230089],\n",
       "       [ 0.03252487, -0.17678741],\n",
       "       [-0.19361231,  0.04026203],\n",
       "       [-0.3777583 ,  0.12885309],\n",
       "       [ 0.19373119,  0.28874083],\n",
       "       [-0.38565593,  0.05043669],\n",
       "       [ 0.37285281, -0.02808714],\n",
       "       [-0.32970706,  0.2360253 ],\n",
       "       [ 0.10888622,  0.13186231],\n",
       "       [-0.0173993 ,  0.19196238],\n",
       "       [ 0.59771232,  0.01698503],\n",
       "       [ 0.14509228,  0.15704924],\n",
       "       [-0.03636237, -0.07372393],\n",
       "       [ 0.53657521, -0.58369486],\n",
       "       [-0.17128984, -0.01805262],\n",
       "       [ 0.18018799, -0.22712344],\n",
       "       [-0.0510392 , -0.16967857],\n",
       "       [-0.27781196, -0.44594212],\n",
       "       [-0.34760556, -0.00370781],\n",
       "       [ 0.45608583, -0.2407322 ],\n",
       "       [-0.02153729,  0.11909801],\n",
       "       [ 0.57834088,  0.31353476],\n",
       "       [ 0.4440327 , -0.22468871],\n",
       "       [-0.00460046, -0.07162562],\n",
       "       [-0.04543292, -0.21964831],\n",
       "       [-0.46350155,  0.25863736],\n",
       "       [ 0.34013371,  0.39749962],\n",
       "       [ 0.18637515,  0.0235908 ],\n",
       "       [ 0.28826496,  0.02822766],\n",
       "       [-0.23298594,  0.19437858],\n",
       "       [ 0.09206346,  0.77023391],\n",
       "       [ 0.43912577, -0.01529879],\n",
       "       [-0.0828735 , -0.46157438],\n",
       "       [-0.42593366, -0.31182809],\n",
       "       [-0.28259462,  0.08619157],\n",
       "       [ 0.32068522,  0.38323293],\n",
       "       [-0.11828641,  0.2726402 ],\n",
       "       [-0.22040792, -0.31093943],\n",
       "       [ 0.82103463,  0.93187021],\n",
       "       [ 1.43068585,  1.18336921],\n",
       "       [ 2.02640286,  1.19527398],\n",
       "       [ 1.20898162,  1.26917491],\n",
       "       [ 1.32661931,  1.66435051],\n",
       "       [ 1.3178717 ,  0.67731424],\n",
       "       [ 0.94109815,  1.03654865],\n",
       "       [ 1.5243809 ,  0.91013208],\n",
       "       [ 0.76010543,  1.01500907],\n",
       "       [ 1.02913573,  1.59524201],\n",
       "       [ 0.95488192,  1.29942184],\n",
       "       [ 1.06425681,  0.81755138],\n",
       "       [ 0.95783614,  1.01621425],\n",
       "       [ 0.87817779,  0.97524811],\n",
       "       [ 1.09426958,  0.5168653 ],\n",
       "       [ 0.33678029,  1.36233195],\n",
       "       [ 0.61271748,  0.8974863 ],\n",
       "       [ 0.80389402,  1.00479213],\n",
       "       [ 0.84344862,  1.19680238],\n",
       "       [ 0.84403386,  1.10644579],\n",
       "       [ 1.2718211 ,  1.47403537],\n",
       "       [ 1.1962587 ,  0.75156018],\n",
       "       [ 1.16189786,  1.3017804 ],\n",
       "       [ 0.81468053,  1.03846823],\n",
       "       [ 1.02415344,  0.97006449],\n",
       "       [ 1.11112817,  1.04169618],\n",
       "       [ 1.26809351,  1.25864947],\n",
       "       [ 1.15836906,  0.84117125],\n",
       "       [ 0.91686167,  1.28680722],\n",
       "       [ 0.88675865,  0.97249436],\n",
       "       [ 1.48095365,  0.72170377],\n",
       "       [ 1.251962  ,  0.96999052],\n",
       "       [ 1.27526419,  1.41339241],\n",
       "       [ 1.29331712,  0.65872328],\n",
       "       [ 1.09238916,  1.00587389],\n",
       "       [ 0.8219773 ,  1.49539966],\n",
       "       [ 1.42585771,  0.72742988],\n",
       "       [ 1.42876019,  0.9360162 ],\n",
       "       [ 0.73641919,  1.09952388],\n",
       "       [ 0.5640435 ,  0.96379584],\n",
       "       [ 0.41339676,  0.60335927],\n",
       "       [ 1.13320189,  1.33765307],\n",
       "       [ 1.43378664,  1.23611753],\n",
       "       [ 0.66834047,  0.80615478],\n",
       "       [ 0.86661977,  1.20267689],\n",
       "       [ 0.95456442,  0.81525758],\n",
       "       [ 1.37356135,  0.32957019],\n",
       "       [ 1.37541428,  0.93854116],\n",
       "       [ 1.45977201,  0.57083481],\n",
       "       [ 0.99296269,  1.03560008],\n",
       "       [ 1.00697036,  1.38301757],\n",
       "       [ 0.71361992,  0.56057267],\n",
       "       [ 1.3523305 ,  0.82750341],\n",
       "       [ 1.44010462,  0.71329901],\n",
       "       [ 1.40313119,  1.02616907],\n",
       "       [ 0.88498609,  1.28398397],\n",
       "       [ 0.79264248,  0.79641279],\n",
       "       [ 0.7119786 ,  0.69872656],\n",
       "       [ 0.73161903,  0.92979332],\n",
       "       [ 0.88663781,  1.15397748],\n",
       "       [ 0.96147244,  0.08794929],\n",
       "       [ 0.86571426,  1.30568589],\n",
       "       [ 0.32811198,  0.72958271],\n",
       "       [ 1.04360937,  1.17198076],\n",
       "       [ 1.33227782,  1.26239524],\n",
       "       [ 0.79836306,  0.97162477],\n",
       "       [ 0.90617565,  1.19040725],\n",
       "       [ 0.90254086,  0.9337404 ],\n",
       "       [ 1.39186681,  1.24650991],\n",
       "       [ 1.38264164,  0.59527226],\n",
       "       [ 1.51552991,  0.55991736],\n",
       "       [ 0.85993226,  0.83170667],\n",
       "       [ 0.80248358,  1.33806937],\n",
       "       [ 1.14420897,  0.99823831],\n",
       "       [ 0.76495059,  0.81922691],\n",
       "       [ 1.39605858,  1.5293322 ],\n",
       "       [ 1.09697151,  0.95697032],\n",
       "       [ 0.75921646,  0.83340785],\n",
       "       [ 1.23450231,  0.44285569],\n",
       "       [ 0.97432319,  0.95501489],\n",
       "       [ 1.14863053,  1.01378654],\n",
       "       [ 0.9662038 ,  1.37760925],\n",
       "       [ 1.03629212,  0.88429466],\n",
       "       [ 0.73343844,  0.90647395],\n",
       "       [ 0.20349534,  0.99047734],\n",
       "       [ 1.080052  ,  1.04624648],\n",
       "       [ 0.6761072 ,  0.79537603],\n",
       "       [ 1.12215369,  1.25917654],\n",
       "       [ 0.734704  ,  1.53705285],\n",
       "       [ 0.95702253,  0.50386278],\n",
       "       [ 0.48635337,  0.79933645],\n",
       "       [ 1.75012507,  1.37155589],\n",
       "       [ 0.7467564 ,  0.84858583],\n",
       "       [ 0.72124014,  0.82579248],\n",
       "       [ 1.15841212,  0.95529524],\n",
       "       [ 0.69995328,  0.73851835],\n",
       "       [ 0.95092043,  0.77054803],\n",
       "       [ 1.3380307 ,  1.45787374],\n",
       "       [ 0.81210723,  1.03844384],\n",
       "       [ 0.57612925,  1.33885549],\n",
       "       [ 1.90984067, -0.62917122],\n",
       "       [ 0.81779238, -1.30265117],\n",
       "       [ 0.74311781, -1.26017469],\n",
       "       [ 1.08827532, -1.17817161],\n",
       "       [ 0.83083224, -0.60774187],\n",
       "       [ 1.27393625, -1.46786181],\n",
       "       [ 0.95563777, -1.28643319],\n",
       "       [ 1.41570833, -1.33088528],\n",
       "       [ 1.05370089, -1.05192999],\n",
       "       [ 0.98139463, -1.27590869],\n",
       "       [ 0.91573119, -1.24847365],\n",
       "       [ 0.9666719 , -1.22907832],\n",
       "       [ 0.97137659, -0.85929753],\n",
       "       [ 0.1463483 , -1.19701511],\n",
       "       [ 1.06271952, -1.08801852],\n",
       "       [ 0.99455487, -1.6877679 ],\n",
       "       [ 1.21548617, -1.09959368],\n",
       "       [ 1.01752294, -1.20285344],\n",
       "       [ 0.79808816, -1.38947718],\n",
       "       [ 0.8125131 , -1.35170818],\n",
       "       [ 1.03327684, -1.08853476],\n",
       "       [ 1.1501523 , -0.99072762],\n",
       "       [ 1.20957678, -1.02799517],\n",
       "       [ 1.18802145, -1.05798504],\n",
       "       [ 0.92708324, -0.96898029],\n",
       "       [ 0.52712576, -0.77838197],\n",
       "       [ 1.07824591, -1.14104141],\n",
       "       [ 1.17552855, -1.05331181],\n",
       "       [ 0.51317737, -0.78955222],\n",
       "       [ 1.09388903, -0.92189472],\n",
       "       [ 1.05441625, -1.22835598],\n",
       "       [ 0.82624065, -0.8665399 ],\n",
       "       [ 1.04383716, -0.91414171],\n",
       "       [ 0.48781465, -1.38672863],\n",
       "       [ 1.01118456, -0.85158567],\n",
       "       [ 0.98752379, -1.07163233],\n",
       "       [ 0.70919527, -1.00598116],\n",
       "       [ 0.97214046, -0.92288133],\n",
       "       [ 1.21034187, -0.96068836],\n",
       "       [ 1.03317739, -0.62794877],\n",
       "       [ 0.8135521 , -1.31007347],\n",
       "       [ 1.29297109, -1.24179332],\n",
       "       [ 0.74624281, -1.02727137],\n",
       "       [ 1.11811157, -1.45412818],\n",
       "       [ 1.23500599, -1.40138883],\n",
       "       [ 1.07042948, -0.67414741],\n",
       "       [ 1.03023378, -1.1622585 ],\n",
       "       [ 1.01144799, -0.97727019],\n",
       "       [ 1.11572722, -0.43809058],\n",
       "       [ 1.18649464, -1.17438854],\n",
       "       [ 0.70520077, -1.2124616 ],\n",
       "       [ 1.31466547, -1.05223984],\n",
       "       [ 0.93362137, -0.84769831],\n",
       "       [ 0.99551808, -0.67556565],\n",
       "       [ 0.87614075, -0.61141119],\n",
       "       [ 1.69987046, -1.19698596],\n",
       "       [ 0.91461488, -0.61919596],\n",
       "       [ 1.1029486 , -0.66534919],\n",
       "       [ 0.44690313, -1.18308573],\n",
       "       [ 0.38382962, -0.91135245],\n",
       "       [ 0.53940138, -1.61897728],\n",
       "       [ 1.31111303, -0.46549571],\n",
       "       [ 1.08562119, -1.32033482],\n",
       "       [ 0.66505753, -1.40643902],\n",
       "       [ 0.96139614, -0.14393567],\n",
       "       [ 1.48441976, -0.84529089],\n",
       "       [ 1.15069926, -0.57426766],\n",
       "       [ 0.28895098, -0.71217558],\n",
       "       [ 0.85801344, -0.87444607],\n",
       "       [ 1.18020224, -0.90357047],\n",
       "       [ 1.0839328 , -1.02475654],\n",
       "       [ 1.0529328 , -1.17824654],\n",
       "       [ 1.16159264, -0.70585186],\n",
       "       [ 0.64280058, -1.42435635],\n",
       "       [ 0.90457198, -1.57568455],\n",
       "       [ 1.34352824, -0.93932817],\n",
       "       [ 0.90258652, -0.75345759],\n",
       "       [ 0.40922393, -0.8663618 ],\n",
       "       [ 1.29262675, -1.12632038],\n",
       "       [ 1.01218094, -0.9034726 ],\n",
       "       [ 0.64971249, -1.12582568],\n",
       "       [ 1.19422732, -0.43303796],\n",
       "       [ 1.02498671, -1.04769981],\n",
       "       [ 0.77881598, -0.98893949],\n",
       "       [ 1.14720742, -0.86105977],\n",
       "       [ 1.46369812, -1.02521738],\n",
       "       [ 0.7486754 , -0.8552441 ],\n",
       "       [ 0.83250019, -0.83419578],\n",
       "       [ 1.22769261, -1.14586158],\n",
       "       [ 1.43356392, -0.74844878],\n",
       "       [ 0.70049818, -0.20164001],\n",
       "       [ 1.1117595 , -0.98776559],\n",
       "       [ 0.76279526, -0.81729788],\n",
       "       [ 1.70971652, -1.25310765],\n",
       "       [ 1.52985322, -1.18268217],\n",
       "       [ 1.4975946 , -1.50233191],\n",
       "       [ 0.98720527, -1.4429751 ],\n",
       "       [ 0.936691  , -0.97615869],\n",
       "       [ 1.36718808, -0.42317769],\n",
       "       [ 0.675038  , -1.01593156]])"
      ]
     },
     "execution_count": 26,
     "metadata": {},
     "output_type": "execute_result"
    }
   ],
   "source": []
  },
  {
   "cell_type": "code",
   "execution_count": 8,
   "metadata": {},
   "outputs": [],
   "source": [
    "A = Kmeans_alg(X,X[:3])"
   ]
  },
  {
   "cell_type": "code",
   "execution_count": 9,
   "metadata": {},
   "outputs": [
    {
     "data": {
      "text/plain": [
       "[array([1.05638135, 0.99339861]),\n",
       " array([-0.02468173, -0.0438777 ]),\n",
       " array([ 0.97628182, -1.04321162])]"
      ]
     },
     "execution_count": 9,
     "metadata": {},
     "output_type": "execute_result"
    }
   ],
   "source": [
    "A[0]"
   ]
  },
  {
   "cell_type": "code",
   "execution_count": 10,
   "metadata": {},
   "outputs": [
    {
     "data": {
      "text/plain": [
       "([array([ 0.97748864, -0.98007633]),\n",
       "  array([-0.05164546,  0.04836372]),\n",
       "  array([0.98002363, 1.00129572])],\n",
       " array([2., 2., 2., 2., 2., 2., 2., 2., 2., 2., 2., 2., 2., 2., 2., 2., 2.,\n",
       "        2., 2., 2., 1., 2., 2., 2., 2., 2., 2., 2., 2., 2., 2., 2., 2., 2.,\n",
       "        2., 2., 2., 2., 2., 2., 2., 2., 2., 2., 2., 2., 1., 2., 2., 2., 2.,\n",
       "        2., 1., 2., 3., 2., 2., 2., 2., 2., 2., 2., 2., 2., 2., 2., 2., 2.,\n",
       "        2., 2., 2., 2., 2., 2., 2., 2., 2., 2., 2., 2., 2., 2., 2., 2., 2.,\n",
       "        2., 2., 2., 2., 2., 2., 2., 2., 2., 2., 2., 2., 2., 2., 2., 3., 3.,\n",
       "        3., 3., 3., 3., 3., 3., 3., 3., 3., 3., 3., 3., 3., 3., 3., 3., 3.,\n",
       "        3., 3., 3., 3., 3., 3., 3., 3., 3., 3., 3., 3., 3., 3., 3., 3., 3.,\n",
       "        3., 3., 3., 3., 3., 3., 3., 3., 3., 3., 3., 3., 3., 3., 3., 3., 3.,\n",
       "        3., 3., 3., 3., 3., 3., 3., 3., 3., 3., 3., 3., 3., 3., 3., 3., 3.,\n",
       "        3., 3., 3., 3., 3., 3., 3., 3., 3., 3., 3., 3., 3., 3., 3., 3., 3.,\n",
       "        3., 3., 3., 2., 3., 3., 3., 3., 3., 3., 3., 3., 3., 1., 1., 1., 1.,\n",
       "        1., 1., 1., 1., 1., 1., 1., 2., 1., 1., 1., 1., 1., 1., 1., 1., 1.,\n",
       "        1., 1., 1., 1., 1., 1., 1., 1., 1., 1., 1., 1., 1., 1., 1., 1., 1.,\n",
       "        1., 1., 1., 1., 1., 1., 1., 1., 1., 1., 1., 1., 1., 1., 1., 1., 1.,\n",
       "        1., 3., 1., 1., 1., 1., 1., 1., 1., 1., 1., 1., 1., 1., 1., 1., 1.,\n",
       "        1., 1., 2., 1., 1., 1., 1., 1., 1., 1., 1., 1., 1., 1., 1., 1., 1.,\n",
       "        1., 1., 1., 1., 1., 1., 1., 1., 1., 1., 1.]),\n",
       " [0.47693444390191125,\n",
       "  0.2301342900820468,\n",
       "  0.18918979887679613,\n",
       "  0.18843399573464922,\n",
       "  0.18843399573464922],\n",
       " 5)"
      ]
     },
     "execution_count": 10,
     "metadata": {},
     "output_type": "execute_result"
    }
   ],
   "source": [
    "A"
   ]
  },
  {
   "cell_type": "code",
   "execution_count": 10,
   "metadata": {},
   "outputs": [
    {
     "data": {
      "image/png": "[encoded data removed]",
      "text/plain": [
       "<Figure size 840x840 with 1 Axes>"
      ]
     },
     "metadata": {
      "needs_background": "light"
     },
     "output_type": "display_data"
    }
   ],
   "source": [
    "fig, ax = plt.subplots(1,1,figsize=(7,7),dpi=120)\n",
    "ax.plot(list(range(A[-1])),A[2])\n",
    "plt.show()"
   ]
  },
  {
   "cell_type": "code",
   "execution_count": 11,
   "metadata": {},
   "outputs": [],
   "source": [
    "from sklearn.datasets import fetch_openml\n",
    "import random"
   ]
  },
  {
   "cell_type": "code",
   "execution_count": 27,
   "metadata": {},
   "outputs": [],
   "source": [
    "X, y = fetch_openml('mnist_784', version=1, return_X_y=True)"
   ]
  },
  {
   "cell_type": "markdown",
   "metadata": {},
   "source": [
    "## Mnist Dataset"
   ]
  },
  {
   "cell_type": "code",
   "execution_count": 2,
   "metadata": {},
   "outputs": [],
   "source": [
    "from keras.datasets import mnist"
   ]
  },
  {
   "cell_type": "code",
   "execution_count": 4,
   "metadata": {},
   "outputs": [
    {
     "name": "stdout",
     "output_type": "stream",
     "text": [
      "Training data: (60000, 28, 28)\n",
      "Training labels: (60000,)\n"
     ]
    }
   ],
   "source": [
    "(x_train, y_train), (x_test, y_test) = mnist.load_data()\n",
    "\n",
    "print(f'Training data: {x_train.shape}')\n",
    "print(f'Training labels: {y_train.shape}')"
   ]
  },
  {
   "cell_type": "code",
   "execution_count": 7,
   "metadata": {},
   "outputs": [
    {
     "name": "stdout",
     "output_type": "stream",
     "text": [
      "Testing data: (10000, 28, 28)\n",
      "Testing labels: (10000,)\n"
     ]
    }
   ],
   "source": [
    "print(f'Testing data: {x_test.shape}')\n",
    "print(f'Testing labels: {y_test.shape}')"
   ]
  },
  {
   "cell_type": "code",
   "execution_count": null,
   "metadata": {},
   "outputs": [],
   "source": []
  }
 ],
 "metadata": {
  "kernelspec": {
   "display_name": "Python 3",
   "language": "python",
   "name": "python3"
  },
  "language_info": {
   "codemirror_mode": {
    "name": "ipython",
    "version": 3
   },
   "file_extension": ".py",
   "mimetype": "text/x-python",
   "name": "python",
   "nbconvert_exporter": "python",
   "pygments_lexer": "ipython3",
   "version": "3.8.7"
  }
 },
 "nbformat": 4,
 "nbformat_minor": 4
}
