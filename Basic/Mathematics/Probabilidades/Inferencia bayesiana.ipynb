{
 "cells": [
  {
   "cell_type": "markdown",
   "id": "reported-headline",
   "metadata": {},
   "source": [
    "# Inferencia Bayesiana"
   ]
  },
  {
   "cell_type": "markdown",
   "id": "composite-anger",
   "metadata": {},
   "source": [
    "El teorema de Bayes se puede entender de la siguiente manera:\n",
    "\n",
    "> ### $$\\underbrace{P(A|B)}_{posteriori} = \\frac{ \\overbrace{P(B|A)}^{likelihood} \\overbrace{P(A)}^{priori}}{\\underbrace{P(B)}_{evidence}}$$\n",
    "\n",
    "Donde mi probabilidad de A esta condicionada por la evidencia de la probabilidad de B."
   ]
  },
  {
   "cell_type": "markdown",
   "id": "civil-crystal",
   "metadata": {},
   "source": [
    "## Maximum a posteriori estimation"
   ]
  },
  {
   "cell_type": "markdown",
   "id": "soviet-postcard",
   "metadata": {},
   "source": [
    "En la inferencia bayesiana existe el framework MAP *Maximum a posteriori estimation* que está dado por la ecuación:\n",
    "\n",
    "> ### $$P(\\overbrace{h}^{hypothesys} | \\underbrace{D}_{data}) = \\frac{P(D|h)P(h)}{P(D)}$$\n",
    "\n",
    "Donde podemos tener que:\n",
    "\n",
    "> ### $$maxP(h|D) \\to maxP(D|h)P(h)$$"
   ]
  }
 ],
 "metadata": {
  "kernelspec": {
   "display_name": "Python 3",
   "language": "python",
   "name": "python3"
  },
  "language_info": {
   "codemirror_mode": {
    "name": "ipython",
    "version": 3
   },
   "file_extension": ".py",
   "mimetype": "text/x-python",
   "name": "python",
   "nbconvert_exporter": "python",
   "pygments_lexer": "ipython3",
   "version": "3.8.7"
  }
 },
 "nbformat": 4,
 "nbformat_minor": 5
}
