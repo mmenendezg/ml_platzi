{
 "cells": [
  {
   "cell_type": "markdown",
   "metadata": {
    "id": "7AZc-zbQsRD9"
   },
   "source": [
    "# Distribuciones continuas (e.j. gaussiana)\n",
    "\n",
    "Recordemos que la distribución de probabilidad normal o gaussiana está dada por: \n",
    "\n",
    "$$P(X) = \\frac{1}{\\sigma \\sqrt{2 \\pi}} \\exp{\\left[-\\frac{1}{2}\\left(\\frac{X-\\mu}{\\sigma} \\right)^2 \\right]}$$\n",
    "\n",
    "donde:\n",
    "\n",
    "* $\\mu$: media de la distribución\n",
    "* $\\sigma$: desviación estandar de la distribución\n",
    "\n",
    "`Ejemplo`: considerando una variable aleatoria que sigue una distribución normal con media $\\mu=4$ y desviación estándar $\\sigma=0.3$, la probabilidad de que dicha variable tome el valor de $0.2$ está dada por: \n",
    "\n",
    "$$P(0.2) =  \\frac{1}{0.3 \\sqrt{2 \\pi}} \\exp{\\left[-\\frac{1}{2}\\left(\\frac{0.2-4}{0.3} \\right)^2 \\right]}$$\n",
    "\n",
    "Lo cual en Python se traduce en: \n",
    "\n",
    "```python\n",
    "from scipy.stats import norm\n",
    "\n",
    "norm(mu, sigma).pdf(X)\n",
    "```\n",
    "\n",
    "---\n",
    "\n",
    "Así también, la distribucion de probabilidad acumulada correspondiente está dada por: \n",
    "\n",
    "$$C(X) = \\int_{x<=X} P(x)dx = \\int_{- \\infty}^xP(X)dX $$\n",
    "\n",
    "teniendo en cuenta que $Dom(X) = (-\\infty, \\infty)$. \n",
    "\n",
    "`Ejemplo`: considerando una variable aleatoria que sigue una distribucion normal con media $\\mu=4$ y desviación estándar $\\sigma=0.3$, la probabilidad de que dicha variable tome el valor de $0.2$ o menos está dada por:\n",
    "\n",
    "$$C(0.2) = \\int_{x<=0.2} P(x)dx = \\int_{- \\infty}^{0.2}  \\left\\{\\frac{1}{0.3 \\sqrt{2 \\pi}} \\exp{\\left[-\\frac{1}{2}\\left(\\frac{X-4}{0.3} \\right)^2 \\right]} \\right\\} dX $$\n",
    "\n",
    "La cual se calcula en Python como: \n",
    "\n",
    "```python \n",
    "from scipy.stats import norm\n",
    "\n",
    "norm(mu, sigma).cdf(X)\n",
    "```\n",
    "\n",
    "_**Es importante recordar que la función de probabilidad acumulada de la distribución gaussiana no se puede calcular de forma exacta, ya que la integral anterior no tiene una expresión cerrada conocida. Es decir, los métodos de integración conocidos no funcionan para resolver esta integral.**_"
   ]
  },
  {
   "cell_type": "markdown",
   "metadata": {
    "id": "dUItRlD0u6Xz"
   },
   "source": [
    "# Ejercicios (bloque 1)\n",
    "\n",
    "Considerando una variable aleatoria que sigue una distribución normal con media $\\mu=4$ y desviación estándar $\\sigma=0.1$, calcula las siguientes probabilidades (usando Python):\n",
    "\n",
    "1. $P(X=4)$\n",
    "2. $P(X=-10)$\n",
    "3. $P(X=10)$\n",
    "4. $P(X<=4)$\n",
    "6. $P(X>=4)$\n"
   ]
  },
  {
   "cell_type": "code",
   "execution_count": 14,
   "metadata": {},
   "outputs": [],
   "source": [
    "from scipy.stats import norm\n",
    "\n",
    "mu = 4\n",
    "sigma = 0.1\n",
    "\n",
    "gaussian_model = norm(mu, sigma)"
   ]
  },
  {
   "cell_type": "markdown",
   "metadata": {},
   "source": [
    "1. $P(X=4)$"
   ]
  },
  {
   "cell_type": "code",
   "execution_count": 25,
   "metadata": {},
   "outputs": [
    {
     "name": "stdout",
     "output_type": "stream",
     "text": [
      "La probabilidad de obtener x = -10 cuando la media es 4 y la desviación estandar es 0.1 es 3.9894%\n"
     ]
    }
   ],
   "source": [
    "x1 = 4\n",
    "prob_1 = round(gaussian_model.pdf(x1), 4)\n",
    "print(f'La probabilidad de obtener x = {x} cuando la media es {mu} y la desviación estandar es {sigma} es {prob_1}%')"
   ]
  },
  {
   "cell_type": "markdown",
   "metadata": {},
   "source": [
    "2. $P(X=-10)$"
   ]
  },
  {
   "cell_type": "code",
   "execution_count": 28,
   "metadata": {},
   "outputs": [
    {
     "name": "stdout",
     "output_type": "stream",
     "text": [
      "La probabilidad de obtener x = -10 cuando la media es 4 y la desviación estandar es 0.1 es 0.0%\n"
     ]
    }
   ],
   "source": [
    "x2 = -10\n",
    "prob_2 = round(gaussian_model.pdf(x2), 4)\n",
    "print(f'La probabilidad de obtener x = {x2} cuando la media es {mu} y la desviación estandar es {sigma} es {prob_2}%')"
   ]
  },
  {
   "cell_type": "markdown",
   "metadata": {},
   "source": [
    "3. $P(X=10)$"
   ]
  },
  {
   "cell_type": "code",
   "execution_count": 29,
   "metadata": {},
   "outputs": [
    {
     "name": "stdout",
     "output_type": "stream",
     "text": [
      "La probabilidad de obtener x = 10 cuando la media es 4 y la desviación estandar es 0.1 es 0.0%\n"
     ]
    }
   ],
   "source": [
    "x3 = 10\n",
    "prob_3 = round(gaussian_model.pdf(x3), 4)\n",
    "print(f'La probabilidad de obtener x = {x3} cuando la media es {mu} y la desviación estandar es {sigma} es {prob_3}%')"
   ]
  },
  {
   "cell_type": "markdown",
   "metadata": {},
   "source": [
    "4. $P(X<=4)$\n"
   ]
  },
  {
   "cell_type": "code",
   "execution_count": 33,
   "metadata": {},
   "outputs": [
    {
     "name": "stdout",
     "output_type": "stream",
     "text": [
      "La probabilidad de obtener x <= 4 cuando la media es 4 y la desviación estandar es 0.1 es 0.5%\n"
     ]
    }
   ],
   "source": [
    "x4 = 4\n",
    "prob_4 = round(gaussian_model.cdf(4), 4)\n",
    "print(f'La probabilidad de obtener x <= {x4} cuando la media es {mu} y la desviación estandar es {sigma} es {prob_4}%')"
   ]
  },
  {
   "cell_type": "markdown",
   "metadata": {},
   "source": [
    "5. $P(X>=4)$"
   ]
  },
  {
   "cell_type": "code",
   "execution_count": 34,
   "metadata": {},
   "outputs": [
    {
     "name": "stdout",
     "output_type": "stream",
     "text": [
      "La probabilidad de obtener x >= 4 cuando la media es 4 y la desviación estandar es 0.1 es 0.5%\n"
     ]
    }
   ],
   "source": [
    "prob_5 = 1 - prob_4\n",
    "print(f'La probabilidad de obtener x >= {x4} cuando la media es {mu} y la desviación estandar es {sigma} es {prob_5}%')"
   ]
  },
  {
   "cell_type": "markdown",
   "metadata": {
    "id": "gJZrejp27x1N"
   },
   "source": [
    "# De la binomial a la gaussiana\n",
    "\n",
    "En la clase 8 vimos como generar secuencias aleatorias de experimentos binomiales ([aquí](https://colab.research.google.com/drive/1MR9VZg19vHyZhvWWuxtNcy_3PZQ7AfwW?usp=sharing)), donde cada experimento era lanzar un cierto número de monedas. \n",
    "\n",
    "**¿Qué sucede si el número consecutivo de monedas que lanzamos en cada experimento (trial) es muy largo?**\n",
    "\n",
    "La función `generate_binomial_trials()` nos muestra lo que sucede si graficamos los resultados de muchos experimentos de lanzar 100 monedas en cada intento, con pyplot: "
   ]
  },
  {
   "cell_type": "code",
   "execution_count": 46,
   "metadata": {
    "colab": {
     "base_uri": "https://localhost:8080/",
     "height": 282
    },
    "id": "77J2bk7Io8aW",
    "outputId": "b6b18833-bf2f-4b95-fd05-483f9b3deaa1"
   },
   "outputs": [
    {
     "data": {
      "text/plain": [
       "<BarContainer object of 44 artists>"
      ]
     },
     "execution_count": 46,
     "metadata": {},
     "output_type": "execute_result"
    },
    {
     "data": {
      "image/png": "[encoded data removed]",
      "text/plain": [
       "<Figure size 432x288 with 1 Axes>"
      ]
     },
     "metadata": {
      "needs_background": "light"
     },
     "output_type": "display_data"
    }
   ],
   "source": [
    "import numpy as np\n",
    "from numpy.random import binomial\n",
    "import matplotlib.pyplot as plt\n",
    "\n",
    "def generate_binomial_trials(trials=1000, coin_toss=100):\n",
    "  '''\n",
    "  el resultado de esta funcion es generar un conjuntos \n",
    "  de experimentos binomiales (trials) y de cada uno obtener \n",
    "  las cantidades de exitos en cada secuencia (e.j. lanzar monedas).\n",
    "\n",
    "  * trial: es una secuencia de <coin_toss> lanzamientos de moneda\n",
    "\n",
    "  * coin_toss: es el numero de monedas lanzadas en cada trial\n",
    "  '''\n",
    "  arr = []\n",
    "  for _ in range(trials):\n",
    "    arr.append(binomial(coin_toss, 0.5))\n",
    "  values, dist = np.unique(arr, return_counts=True)\n",
    "\n",
    "  return values, dist\n",
    "\n",
    "values, dist = generate_binomial_trials(100000)\n",
    "plt.bar(values, dist)"
   ]
  },
  {
   "cell_type": "markdown",
   "metadata": {
    "id": "HQ8eIXdj9Vx-"
   },
   "source": [
    "¿Se parece a algo conocido? Tal vez una ditribución normal se ajuste, para verificarlo haremos el siguiente ejercicio: \n",
    "\n",
    "# Ejercicios (bloque 2)\n",
    "\n",
    "1. Con los resultados anteriores guardados en `values, dist` ajusta, usando el método de estimación paramétrica, una distribución gaussiana donde la media y desviación estándar correspondan a lo calculado a partir de los datos, de la misma manera que se hizo en el notebook de la clase 9 ([aquí](https://colab.research.google.com/drive/1weFtkmxdn_WnGW582Xugj9t7Mjzxis5b?usp=sharing))."
   ]
  },
  {
   "cell_type": "code",
   "execution_count": 43,
   "metadata": {},
   "outputs": [
    {
     "data": {
      "image/png": "[encoded data removed]",
      "text/plain": [
       "<Figure size 432x288 with 1 Axes>"
      ]
     },
     "metadata": {
      "needs_background": "light"
     },
     "output_type": "display_data"
    }
   ],
   "source": [
    "sample = normal(loc=50, scale=5, size=1000)\n",
    "mu = sample.mean()\n",
    "sigma = sample.std()\n",
    "dist = norm(mu, sigma)\n",
    "values = [value for value in range(30, 70)]\n",
    "probabilities = [dist.pdf(value) for value in values]\n",
    "plt.hist(sample, bins=30, density=True)\n",
    "plt.plot(values, probabilities)\n",
    "plt.show()"
   ]
  },
  {
   "cell_type": "code",
   "execution_count": 53,
   "metadata": {},
   "outputs": [
    {
     "data": {
      "text/plain": [
       "1.0"
      ]
     },
     "execution_count": 53,
     "metadata": {},
     "output_type": "execute_result"
    }
   ],
   "source": [
    "from numpy.random import normal\n",
    "\n",
    "dist = dist / sum(dist)"
   ]
  },
  {
   "cell_type": "code",
   "execution_count": 54,
   "metadata": {
    "id": "vvVEjooO3qRq"
   },
   "outputs": [
    {
     "data": {
      "image/png": "[encoded data removed]",
      "text/plain": [
       "<Figure size 432x288 with 1 Axes>"
      ]
     },
     "metadata": {
      "needs_background": "light"
     },
     "output_type": "display_data"
    }
   ],
   "source": [
    "plt.plot(values, dist)\n",
    "plt.bar(values, dist)\n",
    "plt.show()"
   ]
  },
  {
   "cell_type": "markdown",
   "metadata": {
    "id": "VvlbR1VC-JX2"
   },
   "source": [
    "Si todo salió bien, habrás notado que en efecto una distribución normal se ajusta perfectamente a los datos. Esto se conoce como el **teorema del límite central**, el cual establece que en muchas situaciones conocidas, cuando variables aleatorias independientes se combinan, su total tiende a seguir una distribución normal cuando el número de variables que se combinan es muy grande $n \\rightarrow \\infty$. "
   ]
  }
 ],
 "metadata": {
  "colab": {
   "name": "[Lecturas-9-10]DistribucionesDeProbabilidadContinuas.ipynb",
   "provenance": []
  },
  "kernelspec": {
   "display_name": "Python 3",
   "language": "python",
   "name": "python3"
  },
  "language_info": {
   "codemirror_mode": {
    "name": "ipython",
    "version": 3
   },
   "file_extension": ".py",
   "mimetype": "text/x-python",
   "name": "python",
   "nbconvert_exporter": "python",
   "pygments_lexer": "ipython3",
   "version": "3.8.7"
  }
 },
 "nbformat": 4,
 "nbformat_minor": 4
}
