{
 "cells": [
  {
   "cell_type": "markdown",
   "metadata": {
    "id": "OuVGSARZqcKF"
   },
   "source": [
    "# Tipos de probabilidad (revisión de conceptos)\n",
    "\n",
    "Según lo visto en clase, tenemos tres tipos de probabilidad a definir. Sean A y B dos eventos aleatorios diferentes, entonces:\n",
    "\n",
    "---\n",
    "\n",
    "`Probabilidad conjunta`: sean $A$ y $B$ dos eventos aleatorios diferentes, definimos la probabilidad conjunta de que ambos eventos ocurran por medio de la regla del producto: \n",
    "\n",
    "$$P(A, B) = P(A|B)P(B)$$\n",
    "\n",
    "donde $P(A|B)$ se define como la `probabilidad condicional` de que ocurra A dado B, y $P(B)$ es la probabilidad de que ocurra B (sin conocimiento extra de otras variables).\n",
    "\n",
    "---\n",
    "\n",
    "`Probabilidad marginal`: la probabilidad marginal de A sobre una distribución conjunta de probabilidades en A y B, se define como la suma de todas las probabilidades conjuntas $P(A, B)$ considerando todos los posibles valores de B: \n",
    "\n",
    "$$P(A) = \\sum_{B=b} P(A,B) = \\sum_{B=b} P(A|B) P(B)$$\n",
    "\n"
   ]
  },
  {
   "cell_type": "markdown",
   "metadata": {
    "id": "YTVHbmebucgL"
   },
   "source": [
    "# Ejercicios (bloque 1)\n",
    "\n",
    "Considerando un lanzamiento de un dado y considerando los siguientes eventos aleatorios: \n",
    "\n",
    "A = {el resultado del lanzamiento de un dado es 6}\n",
    "\n",
    "B = {el resultado del lanzamiento de un dado es par}\n",
    "\n",
    "C = {el resultado del lanzamiento de un dado es impar}\n",
    "\n",
    "calcula las siguientes probabilidades: \n",
    "\n",
    "1. $P(A|B) = ?$\n",
    "2. $P(A|C) = ?$\n",
    "3. $P(B|C) = ?$\n"
   ]
  },
  {
   "cell_type": "markdown",
   "metadata": {},
   "source": [
    "1. Probabilida de que obtenga 6 dado que el dado cayo par. La probabilidad de que caiga seis es $\\frac{1}{6}$ y a su vez, la probabilidad de que caiga par es $\\frac{1}{2}$, por lo tanto tenemos:"
   ]
  },
  {
   "cell_type": "code",
   "execution_count": 6,
   "metadata": {},
   "outputs": [
    {
     "name": "stdout",
     "output_type": "stream",
     "text": [
      "La probabilidad que caiga 6 dado un par es 8.33%\n"
     ]
    }
   ],
   "source": [
    "P_a_dado_b = round((1/6) * (1/2), 4) * 100\n",
    "print(f'La probabilidad que caiga 6 dado un par es {P_a_dado_b}%')"
   ]
  },
  {
   "cell_type": "markdown",
   "metadata": {},
   "source": [
    "2. Probabilidad que obtenga 6 dado que es impar es 0. El número 6 es par, por lo tanto 6 e impar son mutuamente excluyentes y conlleva a un caso nulo. "
   ]
  },
  {
   "cell_type": "markdown",
   "metadata": {},
   "source": [
    "3. Probabilidad de que caiga par dado que el dado cayo impar. Caso similar al anterior, son mutuamente excluyentes, por lo tanto tambien es cero."
   ]
  },
  {
   "cell_type": "markdown",
   "metadata": {
    "id": "8U9IOHWXv89f"
   },
   "source": [
    "# Ejercicios (bloque 2)\n",
    "\n",
    "Considerando una ruleta de doce números \n",
    "\n",
    "{$1,2,3,4,5,6,7,8,9,10,11,12$} \n",
    "\n",
    "dos jugadores eligen 6 números, cada uno de ellos. Supón que el jugador 1 elige A = {$1,2,3,4,5,6$} y calcula las siguientes probabilidades: \n",
    "\n",
    "1. $P(A|B)$ sabiendo que el jugador 2 elige B = {$2,4,6,8,10,12$}\n",
    "2. $P(A|B)$ sabiendo que el jugador 2 elige B = {$1,3,5,7,9,11$}\n",
    "3. $P(A|B)$ sabiendo que el jugador 2 elige B = {$5,6,7,8,9,10$}\n",
    "\n"
   ]
  },
  {
   "cell_type": "markdown",
   "metadata": {},
   "source": [
    "1. Probabilidad que se obtenga un numero de A dado que se obtuvo un numero incluido en B. Los caso comunes son $\\{2,4,6\\}$ y estos representan la mitad de casos posibles de B, por lo tanto $P(A|B) = \\frac{1}{2}$"
   ]
  },
  {
   "cell_type": "markdown",
   "metadata": {},
   "source": [
    "2. En este problema los casos comunes son $\\{1,3,5\\}$, siendo igualmente la mitad de los casos probables de B, por lo tanto en este punto tambien tenemos $P(A|B) = \\frac{1}{2}$"
   ]
  },
  {
   "cell_type": "markdown",
   "metadata": {},
   "source": [
    "3. En este problema los casos exitosos son $\\{5,6\\}$, siendo estos casos $\\frac{2}{6}$ de los casos de B, por lo que $P(A|B) = \\frac{1}{3}$"
   ]
  },
  {
   "cell_type": "markdown",
   "metadata": {
    "id": "NibRqkn-0IlF"
   },
   "source": [
    "# Ejercicios (bloque 3)\n",
    "\n",
    "Considera un problema donde se lanzan dos monedas, sean $m_1$ y $m_2$. Verifica la regla del producto para las siguientes probabilidades (dibuja el espacio muestral y calcula cada probabilidad por separado): \n",
    "1. $P(m_1 = \\text{cara}, m_2 = \\text{sello})$\n",
    "2. $P(m_1 = \\text{cara} | m_2 = \\text{sello})$\n",
    "3. $P(m_2 = \\text{sello})$"
   ]
  },
  {
   "cell_type": "markdown",
   "metadata": {},
   "source": [
    "1. La probabilida que salga una cara y un sello. Para ello calculamos el producto de ambas probabilidades, ya que sabesmos que:\n",
    "\n",
    "> $$P(A\\cap B) = P(A|B)P(B)$$"
   ]
  },
  {
   "cell_type": "code",
   "execution_count": 15,
   "metadata": {},
   "outputs": [],
   "source": [
    "# Definimos las probabilidades aisladas de obtener cara y sello\n",
    "\n",
    "P_cara = 0.5\n",
    "P_sello = 0.5"
   ]
  },
  {
   "cell_type": "code",
   "execution_count": 11,
   "metadata": {},
   "outputs": [
    {
     "name": "stdout",
     "output_type": "stream",
     "text": [
      "La probabilida que salga cara y sello es 25.0%\n"
     ]
    }
   ],
   "source": [
    "P_cara_and_sello = (P_cara * P_sello) * 100\n",
    "print(f'La probabilida que salga cara y sello es {P_cara_and_sello}%')"
   ]
  },
  {
   "cell_type": "markdown",
   "metadata": {},
   "source": [
    "2. La probabilidad de obtener cara dado que ya obtuvimos sello. "
   ]
  },
  {
   "cell_type": "code",
   "execution_count": 14,
   "metadata": {},
   "outputs": [
    {
     "name": "stdout",
     "output_type": "stream",
     "text": [
      "La probabilidad de obtener cara en la primera dado que se obtuvo sello en la segunda moneda es 25.0%\n"
     ]
    }
   ],
   "source": [
    "P_sello_dado_cara = 0.25\n",
    "P_cara_dado_sello = round((P_sello_dado_cara * P_cara) / P_sello, 2) * 100\n",
    "print(f'La probabilidad de obtener cara en la primera dado que se obtuvo sello en la segunda moneda es {P_cara_dado_sello}%')"
   ]
  },
  {
   "cell_type": "markdown",
   "metadata": {},
   "source": [
    "3. La probabilidad de obtener sello en la 2da moneda es $P(m_{2} = sello) = \\frac{1}{2}$"
   ]
  }
 ],
 "metadata": {
  "colab": {
   "collapsed_sections": [],
   "name": "[Lecturas-3-4-5]EjerciciosDeProbabilidad.ipynb",
   "provenance": []
  },
  "kernelspec": {
   "display_name": "Python 3",
   "language": "python",
   "name": "python3"
  },
  "language_info": {
   "codemirror_mode": {
    "name": "ipython",
    "version": 3
   },
   "file_extension": ".py",
   "mimetype": "text/x-python",
   "name": "python",
   "nbconvert_exporter": "python",
   "pygments_lexer": "ipython3",
   "version": "3.8.7"
  }
 },
 "nbformat": 4,
 "nbformat_minor": 4
}
