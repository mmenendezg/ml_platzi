{
 "cells": [
  {
   "cell_type": "markdown",
   "metadata": {},
   "source": [
    "# Fundamentos de probabilidad\n",
    "\n",
    "Los tipos de probabilidad son las siguientes:\n",
    "\n",
    "* Conjunta\n",
    "* Marginal\n",
    "* Condicional\n",
    "\n",
    "## Probabilidad conjunta \n",
    "* La probabilidad de varios eventos sucediendo al mismo tiempo\n",
    "\n",
    "## Probabilidad Marginal\n",
    "* La probabilidad de que un evento ocurra de forma independiente\n",
    "\n",
    "## Probabilidad condicional \n",
    "* La probabilidad de un evento A condicionado por el resultado obtenido en B.\n",
    "\n",
    "## La ley del producto\n",
    "****\n",
    "\n",
    "La ley del producto contiene a las 3 probabilidades anteriores.\n",
    "\n",
    "> $$P(A\\cap B) = P(A|B)P(B)$$\n",
    "\n",
    "En la equación anterior $P(A\\cap B)$ es la probabilidad conjunta de que A y B pasen al mismo tiempo (probabilidad conjunta), $P(A|B)$ es la probabilidad condicional de que A pase dado que B que ha ocurrido, y $P(B)$ es la probabilidad marginal de que B pase independientemente.\n",
    "\n",
    "En las probabilidades condicionales existe una correlación la cual puede ser:\n",
    "\n",
    "* *Positiva* si la probabilidad de A aumenta dado que B ha ocurrido en comparación a la probabilidad marginal de a\n",
    "\n",
    "* *Negativa* si la probaiblidad de ocurrir A disminuye habiendo ocurrido B. "
   ]
  }
 ],
 "metadata": {
  "kernelspec": {
   "display_name": "Python 3",
   "language": "python",
   "name": "python3"
  },
  "language_info": {
   "codemirror_mode": {
    "name": "ipython",
    "version": 3
   },
   "file_extension": ".py",
   "mimetype": "text/x-python",
   "name": "python",
   "nbconvert_exporter": "python",
   "pygments_lexer": "ipython3",
   "version": "3.8.7"
  }
 },
 "nbformat": 4,
 "nbformat_minor": 4
}
