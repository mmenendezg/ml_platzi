{
 "metadata": {
  "language_info": {
   "codemirror_mode": {
    "name": "ipython",
    "version": 3
   },
   "file_extension": ".py",
   "mimetype": "text/x-python",
   "name": "python",
   "nbconvert_exporter": "python",
   "pygments_lexer": "ipython3",
   "version": 3
  },
  "orig_nbformat": 2
 },
 "nbformat": 4,
 "nbformat_minor": 2,
 "cells": [
  {
   "source": [
    "# Muestreo e intervalos de confianza\n",
    "## Muestreo\n",
    "\n",
    "* Permite procesar muestras del _Dataset_, donde las muestras estadísticamente heredan las características de la población de origen. \n",
    "\n",
    "* En el muestreo aleatorio se puede elegir cualquier miembro de la población, teniendo cada uno las mismas probabilidades de ser elegido. \n",
    "\n",
    "* En el muestreo estratificado se consideran las características de los subgrupos de la población, y se toman muestras de cada subgrupo. Esto incrementa las probabilidades de que el muestreo sea representativo. \n",
    "\n"
   ],
   "cell_type": "markdown",
   "metadata": {}
  },
  {
   "source": [
    "## Teorema del līmite central\n",
    "\n",
    "* Permite entender cualquier distribución como una distribución normal de sus medias, y eso nos permite analizarla como distribución normal. \n",
    "\n",
    "* Al aumentar el número de las muestras, mayor será su similitud con la distribución normal\n",
    "\n",
    "* Al aumentar la muestra, aumenta a su vez su desviación estándar. "
   ],
   "cell_type": "markdown",
   "metadata": {}
  }
 ]
}