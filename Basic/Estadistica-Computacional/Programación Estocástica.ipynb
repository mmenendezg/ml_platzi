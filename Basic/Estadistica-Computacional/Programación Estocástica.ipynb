{
 "cells": [
  {
   "cell_type": "markdown",
   "metadata": {},
   "source": [
    "# Programación estocástica\n",
    "\n",
    "* Un programa es determinístico cuando ante un mismo *input* se produce un mismo *output*\n",
    "\n",
    "* La programación estocástica permite introducir aleatoriedad en los programas para crear simulaciones que permiten resolver problemas de otros tipos\n",
    "\n",
    "* Los programas estocásticos se aprovechas de que las distribuciones probabilísticas de un problema se conocen o pueden ser estimadas"
   ]
  },
  {
   "cell_type": "markdown",
   "metadata": {},
   "source": [
    "## Probabilidades\n",
    "\n",
    "* La probabilidad es una medida de la certidumbre asociada a un evento a un suceso futuro y suele expresarse como un número entre 0 y 1\n",
    "\n",
    "* La probabilidad de 0 significa que el evento jamás sucederá; la probabilidad de 1 significa que el evento siempre sucederá.\n",
    "\n",
    "* La probabilidad sumada de que suceda y no suceda debe siempre ser 1. \n",
    "\n",
    "#### Ley del complemento : \n",
    ">$P(A) + P(Ā) = 1$\n",
    "\n",
    "#### Ley multiplicativa : \n",
    ">$P(A y B) = P(A)*P(B)$ *Solo si son independientes*\n",
    "\n",
    "#### Ley Aditiva :\n",
    ">$P(A o B) = P(A) + P(B)$ *Si son mutuamente exclusivos*\n",
    "\n",
    ">$P(A o B) = P(A) + P(B) - P(A y B)$ *No exclusivos*"
   ]
  },
  {
   "cell_type": "markdown",
   "metadata": {},
   "source": [
    "## Simulación de dados"
   ]
  },
  {
   "cell_type": "code",
   "execution_count": 18,
   "metadata": {},
   "outputs": [
    {
     "name": "stdout",
     "output_type": "stream",
     "text": [
      "La probabilidad de obtener por lo menos un 1 en 10 tiros, es 159.4\n"
     ]
    }
   ],
   "source": [
    "import random\n",
    "\n",
    "def tirar_dado(numero_tiros):\n",
    "    \n",
    "    secuencia_tiros = []\n",
    "    for _ in range(numero_tiros):\n",
    "        tiro = random.choice([1, 2, 3, 4, 5, 6])\n",
    "        secuencia_tiros.append(tiro)\n",
    "\n",
    "    return secuencia_tiros\n",
    "\n",
    "def main(numero_tiros, numero_simulacion):\n",
    "    \n",
    "    tiros = []\n",
    "    for _ in range(numero_simulacion):\n",
    "        secuencia_tiros = tirar_dado(numero_tiros)\n",
    "        tiros.append(secuencia_tiros)\n",
    "    \n",
    "    tiros_1 = 0\n",
    "\n",
    "    for tiro in tiros:\n",
    "        if 1 not in tiro:\n",
    "            tiros_1 += 1\n",
    "\n",
    "    probabilidad_tiros_1 = tiros_1 / numero_tiros\n",
    "    print(f'La probabilidad de obtener por lo menos un 1 en {numero_tiros} tiros, es {probabilidad_tiros_1}')\n",
    "\n",
    "if __name__ == '__main__':\n",
    "\n",
    "    numero_tiros = int(input('Define el numero de lanzamientos del dado: '))\n",
    "    numero_simulacion = int(input('Define el numero de veces que se simulará: '))\n",
    "\n",
    "    main(numero_tiros, numero_simulacion)"
   ]
  },
  {
   "cell_type": "markdown",
   "metadata": {},
   "source": [
    "## Inferencia Estadística \n",
    "* Conociendo las probabilidades de eventos simples, podemos conocer las probabilidades de eventos complejos\n",
    "\n",
    "* La inferencia estadística permite inferir/concluir las propiedades de ua población de una muestra aleatoria\n",
    "\n",
    "* Una muestra aleatoria tiende a exhibir las caracteristicas de la población de la cual fue extraída\n",
    "\n",
    "#### Ley de los grandes números : \n",
    "> Conforme la cantidad de pruebas tiende al infinito para pruebas independientes, la fracción de desviaciones tiende a cero\n",
    ">\n",
    ">$P(lim_{n -> \\infty} \\bar{X_{n}} = \\mu) = 1$\n",
    "\n",
    "#### Falacia del apostador : \n",
    ">*Después de un evento extremo, ocurrirán eventos menos extremos para nivelar la media* __ESTO ES UNA FALACIA__\n",
    ">\n",
    ">La *regresión a la media* señala que después de un evento aleatorio extremo, el siguiente evento probablemente será menos extremo"
   ]
  },
  {
   "cell_type": "markdown",
   "metadata": {},
   "source": [
    "## Media"
   ]
  },
  {
   "cell_type": "code",
   "execution_count": 1,
   "metadata": {},
   "outputs": [
    {
     "name": "stdout",
     "output_type": "stream",
     "text": [
      "Arreglo X => [12, 10, 17, 19, 18, 12, 16, 12, 9, 11, 17, 18, 15, 14, 14, 20, 19, 15, 16, 10]\n",
      "Media => 14.7\n",
      "Varianza => 10.71\n",
      "Desviación estándar => 3.27\n"
     ]
    }
   ],
   "source": [
    "import random\n",
    "import math\n",
    "\n",
    "def media(x):\n",
    "\n",
    "    mean = round(sum(x) / len(x), 2)\n",
    "\n",
    "    return mean\n",
    "\n",
    "def varianza(x):\n",
    "\n",
    "    mu = media(x)\n",
    "    \n",
    "    acumulador = 0\n",
    "    for x_value in x:\n",
    "        acumulador += (x_value - mu) ** 2\n",
    "    \n",
    "    varianza = round(acumulador / len(x), 2)\n",
    "    return varianza\n",
    "\n",
    "def desviacion_estandar(x):\n",
    "    desviacion_estandar = round(math.sqrt(varianza(x)), 2)\n",
    "    return desviacion_estandar\n",
    "\n",
    "if __name__ == '__main__':\n",
    "    x = [random.randint(9, 21) for i in range(20)]\n",
    "    mu = media(x)\n",
    "    var = varianza(x)\n",
    "    sigma = desviacion_estandar(x)\n",
    "\n",
    "    print(f'Arreglo X => {x}')\n",
    "    print(f'Media => {mu}')\n",
    "    print(f'Varianza => {var}')\n",
    "    print(f'Desviación estándar => {sigma}')"
   ]
  }
 ],
 "metadata": {
  "kernelspec": {
   "display_name": "Python 3",
   "language": "python",
   "name": "python3"
  },
  "language_info": {
   "codemirror_mode": {
    "name": "ipython",
    "version": 3
   },
   "file_extension": ".py",
   "mimetype": "text/x-python",
   "name": "python",
   "nbconvert_exporter": "python",
   "pygments_lexer": "ipython3",
   "version": "3.8.7"
  }
 },
 "nbformat": 4,
 "nbformat_minor": 4
}
