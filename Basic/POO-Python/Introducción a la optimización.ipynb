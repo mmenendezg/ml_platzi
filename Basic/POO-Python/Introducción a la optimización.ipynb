{
 "metadata": {
  "language_info": {
   "codemirror_mode": {
    "name": "ipython",
    "version": 3
   },
   "file_extension": ".py",
   "mimetype": "text/x-python",
   "name": "python",
   "nbconvert_exporter": "python",
   "pygments_lexer": "ipython3",
   "version": "3.8.7-final"
  },
  "orig_nbformat": 2,
  "kernelspec": {
   "name": "python3",
   "display_name": "Python 3",
   "language": "python"
  }
 },
 "nbformat": 4,
 "nbformat_minor": 2,
 "cells": [
  {
   "source": [
    "# Optimización \n",
    "\n",
    "## Introducción a la Optimización\n",
    "\n",
    "* Existe una función objetivo que debe ser maximizada o minimizada. \n",
    "* Una serie de limitantes que debe ser respetada."
   ],
   "cell_type": "markdown",
   "metadata": {}
  },
  {
   "source": [
    "## El problema del morral\n"
   ],
   "cell_type": "markdown",
   "metadata": {}
  },
  {
   "cell_type": "code",
   "execution_count": 7,
   "metadata": {},
   "outputs": [
    {
     "output_type": "stream",
     "name": "stdout",
     "text": [
      "0\n"
     ]
    }
   ],
   "source": [
    "def morral(tamano_morral, pesos, valores, n):\n",
    "    \n",
    "    if n == 0 or tamano_morral == 0:\n",
    "        return 0\n",
    "    \n",
    "    if pesos[n - 1] > tamano_morral:\n",
    "        return morral(tamano_morral, pesos, valores, n - 1)\n",
    "    return max(\n",
    "        valores[n - 1] + morral(tamano_morral - pesos[n - 1], pesos, valores, n - 1),\n",
    "        morral(tamano_morral, pesos, valores, n - 1)\n",
    "    )\n",
    "\n",
    "if __name__ == '__main__':\n",
    "    valores = [60, 100, 120]\n",
    "    pesos = [10, 20, 30]\n",
    "    tamano_morral = 5\n",
    "    n = len(valores)\n",
    "\n",
    "    resultado = morral(tamano_morral, pesos, valores, n)\n",
    "    print(resultado)"
   ]
  },
  {
   "source": [],
   "cell_type": "markdown",
   "metadata": {}
  }
 ]
}