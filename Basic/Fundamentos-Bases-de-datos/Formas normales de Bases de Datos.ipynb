{
 "metadata": {
  "language_info": {
   "codemirror_mode": {
    "name": "ipython",
    "version": 3
   },
   "file_extension": ".py",
   "mimetype": "text/x-python",
   "name": "python",
   "nbconvert_exporter": "python",
   "pygments_lexer": "ipython3",
   "version": 3
  },
  "orig_nbformat": 2
 },
 "nbformat": 4,
 "nbformat_minor": 2,
 "cells": [
  {
   "source": [
    "# Formas normales de bases de datos relacionales\n",
    "\n",
    "## Primera forma normal (1FN)\n",
    "****\n",
    "Una tabla se considera que está en primera forma normal si:\n",
    ">* Todos los atributos son atómicos\n",
    ">\n",
    ">* No debe existir variación en el número de columnas\n",
    ">\n",
    ">* Los campos no clave deben identificarse por la clave\n",
    "> \n",
    ">* Los datos deben ser independientes por columna y fila\n",
    "\n",
    "## Segunda forma normal (2FN)\n",
    "****\n",
    "Una tabla está en segunda forma normal si:\n",
    ">* Está en 1FN\n",
    ">\n",
    ">* Los datos que no forman parte de ninguna clave dependen de forma completa de la clave principal\n",
    "> \n",
    ">* Todos los atributos que no son clave principal deben depender únicamente de la clave principal\n",
    "\n",
    "## Tercera forma normal (3FN)\n",
    "****\n",
    "Una tabla está en tercera forma normal si:\n",
    ">* Está en 2FN\n",
    "> \n",
    ">* No existe ninguna dependencia funcional transitiva en los atributos que no son clave\n",
    "\n",
    "## Cuarta forma normal (4FN)\n",
    "****\n",
    "Una tabla está en la cuarta forma normal si:\n",
    ">* Está en 3FN\n",
    ">\n",
    ">* Los campos multivvaluados se identifican por una clave única\n"
   ],
   "cell_type": "markdown",
   "metadata": {}
  },
  {
   "cell_type": "code",
   "execution_count": null,
   "metadata": {},
   "outputs": [],
   "source": []
  }
 ]
}