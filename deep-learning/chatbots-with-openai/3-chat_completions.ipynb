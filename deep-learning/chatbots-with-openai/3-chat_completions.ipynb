{
 "cells": [
  {
   "cell_type": "code",
   "execution_count": 1,
   "metadata": {},
   "outputs": [],
   "source": [
    "import os\n",
    "import openai\n"
   ]
  },
  {
   "cell_type": "code",
   "execution_count": 2,
   "metadata": {},
   "outputs": [],
   "source": [
    "client = openai.OpenAI(\n",
    "    api_key=os.environ[\"OPENAI_KEY\"]\n",
    ")"
   ]
  },
  {
   "cell_type": "code",
   "execution_count": null,
   "metadata": {},
   "outputs": [],
   "source": []
  },
  {
   "cell_type": "code",
   "execution_count": 4,
   "metadata": {},
   "outputs": [],
   "source": [
    "response = client.chat.completions.create(\n",
    "    model=\"gpt-3.5-turbo\",\n",
    "    messages=[\n",
    "        {\"role\": \"system\", \"content\": \"You are a scientific assistant\"},\n",
    "        {\"role\": \"user\", \"content\": \"What is the moon?\"},\n",
    "        {\"role\": \"assistant\", \"content\": \"It is the natural satellite of the Earth\"},\n",
    "        {\"role\": \"user\", \"content\": \"And what is a neutron star\"}\n",
    "    ]\n",
    ")"
   ]
  },
  {
   "cell_type": "code",
   "execution_count": 11,
   "metadata": {},
   "outputs": [
    {
     "name": "stdout",
     "output_type": "stream",
     "text": [
      "A neutron star is a highly dense celestial object that forms after certain types of massive stars undergo a supernova explosion. Neutron stars are incredibly compact, typically only about 20 kilometers (12 miles) in diameter, yet they contain more mass than the Sun. They consist primarily of densely packed neutrons and are incredibly dense, with an average density millions of times greater than that of any terrestrial matter. Neutron stars also have extremely strong gravitational and magnetic fields, and they often rotate rapidly, emitting beams of electromagnetic radiation that can be observed as pulsars.\n"
     ]
    }
   ],
   "source": [
    "print(response.choices[0].message.content)"
   ]
  },
  {
   "cell_type": "code",
   "execution_count": 12,
   "metadata": {},
   "outputs": [],
   "source": [
    "response = client.chat.completions.create(\n",
    "    model=\"gpt-3.5-turbo\",\n",
    "    messages=[\n",
    "        {\"role\": \"system\", \"content\": \"You are a scientific assistant\"},\n",
    "        {\"role\": \"user\", \"content\": \"What is the moon?\"},\n",
    "        {\"role\": \"assistant\", \"content\": \"It is the natural satellite of the Earth\"},\n",
    "        {\"role\": \"user\", \"content\": \"And what is a neutron star\"},\n",
    "    ],\n",
    "    temperature=0.2\n",
    ")"
   ]
  },
  {
   "cell_type": "code",
   "execution_count": 13,
   "metadata": {},
   "outputs": [
    {
     "name": "stdout",
     "output_type": "stream",
     "text": [
      "A neutron star is a highly dense celestial object that forms after the core collapse of a massive star during a supernova explosion. It is composed primarily of neutrons, hence the name. Neutron stars are incredibly dense, with a mass greater than that of the Sun packed into a sphere only about 10 kilometers in diameter. They have extremely strong gravitational fields and rotate rapidly, emitting beams of electromagnetic radiation that can be observed as pulsars. Neutron stars are considered one of the most extreme objects in the universe.\n"
     ]
    }
   ],
   "source": [
    "print(response.choices[0].message.content)"
   ]
  },
  {
   "cell_type": "code",
   "execution_count": 14,
   "metadata": {},
   "outputs": [],
   "source": [
    "response = client.chat.completions.create(\n",
    "    model=\"gpt-3.5-turbo\",\n",
    "    messages=[\n",
    "        {\"role\": \"system\", \"content\": \"You are a scientific assistant\"},\n",
    "        {\"role\": \"user\", \"content\": \"What is the moon?\"},\n",
    "        {\"role\": \"assistant\", \"content\": \"It is the natural satellite of the Earth\"},\n",
    "        {\"role\": \"user\", \"content\": \"And what is a neutron star\"},\n",
    "    ],\n",
    "    temperature=1,\n",
    ")"
   ]
  },
  {
   "cell_type": "code",
   "execution_count": 15,
   "metadata": {},
   "outputs": [
    {
     "name": "stdout",
     "output_type": "stream",
     "text": [
      "A neutron star is a highly dense celestial object that forms after a massive star explodes in a supernova. It is composed primarily of tightly packed neutrons, which are subatomic particles without an electric charge. Neutron stars are incredibly dense, with a mass greater than that of the Sun, but compressed into a sphere with a radius of only a few kilometers. They are also known for their strong gravitational fields and fast rotation, which can result in the emission of beams of radiation from their magnetic poles, creating pulsars.\n"
     ]
    }
   ],
   "source": [
    "print(response.choices[0].message.content)"
   ]
  },
  {
   "cell_type": "code",
   "execution_count": null,
   "metadata": {},
   "outputs": [],
   "source": []
  }
 ],
 "metadata": {
  "kernelspec": {
   "display_name": ".venv",
   "language": "python",
   "name": "python3"
  },
  "language_info": {
   "codemirror_mode": {
    "name": "ipython",
    "version": 3
   },
   "file_extension": ".py",
   "mimetype": "text/x-python",
   "name": "python",
   "nbconvert_exporter": "python",
   "pygments_lexer": "ipython3",
   "version": "3.11.6"
  }
 },
 "nbformat": 4,
 "nbformat_minor": 2
}
