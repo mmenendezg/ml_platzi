{
 "cells": [
  {
   "cell_type": "code",
   "execution_count": 1,
   "metadata": {},
   "outputs": [],
   "source": [
    "import openai\n",
    "import os"
   ]
  },
  {
   "cell_type": "code",
   "execution_count": 2,
   "metadata": {},
   "outputs": [],
   "source": [
    "client = openai.OpenAI(\n",
    "    api_key=os.environ[\"OPEN_AI_KEY\"]\n",
    ")"
   ]
  },
  {
   "cell_type": "code",
   "execution_count": 3,
   "metadata": {},
   "outputs": [
    {
     "name": "stdout",
     "output_type": "stream",
     "text": [
      "\n",
      "\n",
      "The generally accepted answer is that Italian explorer Christopher Columbus discovered America in 1492.\n"
     ]
    }
   ],
   "source": [
    "response = client.completions.create(\n",
    "    model=\"text-davinci-003\",\n",
    "    prompt=\"Who discovered America?\",\n",
    "    max_tokens=50,\n",
    ")\n",
    "\n",
    "print(response.choices[0].text)"
   ]
  },
  {
   "cell_type": "code",
   "execution_count": 4,
   "metadata": {},
   "outputs": [
    {
     "name": "stdout",
     "output_type": "stream",
     "text": [
      "Completion(id='cmpl-8SwXYhVJXYTq47SzjNtyvekHySwyw', choices=[CompletionChoice(finish_reason='stop', index=0, logprobs=None, text=\"\\n\\nThe answer is that it depends. Christopher Columbus is widely credited with 'discovering' America when he sailed there in 1492, although it should be noted that humans already lived in the Americas prior to that.\"), CompletionChoice(finish_reason='stop', index=1, logprobs=None, text='\\n\\nIt is commonly believed that the first Europeans to reach the Americas were Christopher Columbus and his expedition in 1492. However, people of many different indigenous societies had already established settlements in the continents of North and South America.')], created=1701908904, model='text-davinci-003', object='text_completion', system_fingerprint=None, usage=CompletionUsage(completion_tokens=90, prompt_tokens=4, total_tokens=94), warning='This model version is deprecated. Migrate before January 4, 2024 to avoid disruption of service. Learn more https://platform.openai.com/docs/deprecations')\n"
     ]
    }
   ],
   "source": [
    "response = client.completions.create(\n",
    "    model=\"text-davinci-003\",\n",
    "    prompt=\"Who discovered America?\",\n",
    "    max_tokens=50,\n",
    "    temperature=1,\n",
    "    top_p=1,\n",
    "    n=2,\n",
    ")\n",
    "\n",
    "print(response)"
   ]
  },
  {
   "cell_type": "code",
   "execution_count": 14,
   "metadata": {},
   "outputs": [
    {
     "name": "stdout",
     "output_type": "stream",
     "text": [
      "\n",
      "\n",
      "LLM (Linear Learning Machines) models are a type of machine learning algorithm that use linear functions to make predictions. These models are based on the concept of linear regression, where a line is fitted to a set of data points to make predictions about\n"
     ]
    }
   ],
   "source": [
    "response = client.completions.create(\n",
    "    model=\"gpt-3.5-turbo-instruct\",\n",
    "    prompt=\"What are LLM models in Machine Learning\",\n",
    "    max_tokens=50,\n",
    "    temperature=0,\n",
    "    top_p=1,\n",
    "    n=1,\n",
    ")\n",
    "\n",
    "print(response.choices[0].text)"
   ]
  },
  {
   "cell_type": "code",
   "execution_count": null,
   "metadata": {},
   "outputs": [],
   "source": []
  },
  {
   "cell_type": "code",
   "execution_count": null,
   "metadata": {},
   "outputs": [],
   "source": []
  }
 ],
 "metadata": {
  "kernelspec": {
   "display_name": ".venv",
   "language": "python",
   "name": "python3"
  },
  "language_info": {
   "codemirror_mode": {
    "name": "ipython",
    "version": 3
   },
   "file_extension": ".py",
   "mimetype": "text/x-python",
   "name": "python",
   "nbconvert_exporter": "python",
   "pygments_lexer": "ipython3",
   "version": "3.11.6"
  }
 },
 "nbformat": 4,
 "nbformat_minor": 2
}
