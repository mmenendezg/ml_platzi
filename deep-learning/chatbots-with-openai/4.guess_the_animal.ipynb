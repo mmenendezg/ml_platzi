{
 "cells": [
  {
   "cell_type": "code",
   "execution_count": 2,
   "metadata": {},
   "outputs": [],
   "source": [
    "import os\n",
    "import random\n",
    "import openai"
   ]
  },
  {
   "cell_type": "code",
   "execution_count": 3,
   "metadata": {},
   "outputs": [],
   "source": [
    "client = openai.OpenAI(\n",
    "    api_key=os.environ[\"OPENAI_KEY\"]\n",
    ")"
   ]
  },
  {
   "cell_type": "code",
   "execution_count": 10,
   "metadata": {},
   "outputs": [],
   "source": [
    "def get_clue():\n",
    "    animals = [\"elephant\", \"lion\", \"girafe\", \"hypopotamus\", \"monkey\"]\n",
    "    random_animal = random.choice(animals)\n",
    "    prompt = \"Guess the animal I am thinking about. The animal lives in the jungle\"\n",
    "    return prompt, random_animal\n",
    "\n",
    "\n",
    "def check_answer(user_input, answer):\n",
    "    if user_input == answer:\n",
    "        return True\n",
    "    return False\n",
    "\n",
    "\n",
    "def give_properties(animal):\n",
    "    response = client.completions.create(\n",
    "        model=\"text-davinci-003\",\n",
    "        prompt=f\"Give me a feature of the animal {animal}, but do not tell me what the actual animal is.\",\n",
    "        max_tokens=100,\n",
    "    )\n",
    "    return response.choices[0].text\n",
    "\n",
    "\n",
    "def play_game():\n",
    "    prompt, answer = get_clue()\n",
    "    print(prompt)\n",
    "    while True:\n",
    "        user_input = input(\"Insert your input: \")\n",
    "        if check_answer(user_input, answer):\n",
    "            print(f\"Correct! The answer was {answer}\")\n",
    "            break\n",
    "        else:\n",
    "            print(\"Wrong Answer! Try again!\")\n",
    "            print(give_properties(answer))"
   ]
  },
  {
   "cell_type": "code",
   "execution_count": 11,
   "metadata": {},
   "outputs": [
    {
     "name": "stdout",
     "output_type": "stream",
     "text": [
      "Guess the animal I am thinking about. The animal lives in the jungle\n",
      "Wrong Answer! Try again!\n",
      "\n",
      "\n",
      "Monkeys have dexterous hands and feet with opposable thumbs that enable them to pick up and manipulate objects.\n",
      "Correct! The answer was monkey\n"
     ]
    }
   ],
   "source": [
    "play_game()"
   ]
  }
 ],
 "metadata": {
  "kernelspec": {
   "display_name": ".venv",
   "language": "python",
   "name": "python3"
  },
  "language_info": {
   "codemirror_mode": {
    "name": "ipython",
    "version": 3
   },
   "file_extension": ".py",
   "mimetype": "text/x-python",
   "name": "python",
   "nbconvert_exporter": "python",
   "pygments_lexer": "ipython3",
   "version": "3.11.6"
  }
 },
 "nbformat": 4,
 "nbformat_minor": 2
}
