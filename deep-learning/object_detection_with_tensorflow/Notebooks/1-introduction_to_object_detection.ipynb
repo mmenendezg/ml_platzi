{
 "cells": [
  {
   "attachments": {},
   "cell_type": "markdown",
   "metadata": {},
   "source": [
    "# Introduction to Object Detection"
   ]
  },
  {
   "attachments": {},
   "cell_type": "markdown",
   "metadata": {},
   "source": [
    "## Setup"
   ]
  },
  {
   "cell_type": "code",
   "execution_count": null,
   "metadata": {},
   "outputs": [],
   "source": [
    "import cv2\n",
    "import matplotlib.pyplot as plt\n",
    "import matplotlib.patches as patches\n",
    "import os\n",
    "import re\n",
    "\n",
    "import numpy as np"
   ]
  },
  {
   "attachments": {},
   "cell_type": "markdown",
   "metadata": {},
   "source": [
    "## Sliding Windows"
   ]
  },
  {
   "cell_type": "code",
   "execution_count": null,
   "metadata": {},
   "outputs": [],
   "source": [
    "image_path = \"../images/pexels-frank-cone-2330502-cropped_e07fcbdc-984c-4f0a-92ab-8fd298a6101d.webp\"\n",
    "\n",
    "np_image = cv2.imread(image_path)\n",
    "np_image = cv2.cvtColor(np_image, cv2.COLOR_BGR2RGB)\n",
    "np_image = cv2.resize(np_image, dsize=(1000, 1000))\n",
    "plt.imshow(np_image)"
   ]
  },
  {
   "cell_type": "code",
   "execution_count": null,
   "metadata": {},
   "outputs": [],
   "source": [
    "def sliding_window(image, step, window_size):\n",
    "    for y in range(0, image.shape[0] - window_size[1] + 1, step):\n",
    "        for x in range(0, image.shape[1] - window_size[0] + 1, step):\n",
    "            yield (x, y, image[y : y + window_size[1], x : x + window_size[0]])"
   ]
  },
  {
   "cell_type": "code",
   "execution_count": null,
   "metadata": {},
   "outputs": [],
   "source": [
    "windows = sliding_window(np_image, 200, (200, 200))"
   ]
  },
  {
   "cell_type": "code",
   "execution_count": null,
   "metadata": {},
   "outputs": [],
   "source": [
    "os.makedirs(\"../images/sliding_windows\", exist_ok=True)"
   ]
  },
  {
   "cell_type": "code",
   "execution_count": null,
   "metadata": {},
   "outputs": [],
   "source": [
    "for x, window in enumerate(windows):\n",
    "    f, axes = plt.subplots(1, 2, figsize=(12, 12))\n",
    "    axes[0].imshow(np_image)\n",
    "    rect = patches.Rectangle(\n",
    "        (window[0], window[1]), 200, 200, linewidth=2, edgecolor=\"g\", facecolor=\"none\"\n",
    "    )\n",
    "    axes[0].add_patch(rect)\n",
    "    axes[1].imshow(window[2])\n",
    "    f.savefig(f\"../images/sliding_windows/image-{x}.png\", dpi=f.dpi)"
   ]
  },
  {
   "attachments": {},
   "cell_type": "markdown",
   "metadata": {},
   "source": [
    "## Create a video with the images"
   ]
  },
  {
   "cell_type": "code",
   "execution_count": null,
   "metadata": {},
   "outputs": [],
   "source": [
    "image_folder = \"../images/sliding_windows/\"\n",
    "video_name = \"sliding_window.mp4\"\n",
    "\n",
    "images = [img for img in os.listdir(image_folder) if img.endswith(\".png\")]"
   ]
  },
  {
   "cell_type": "code",
   "execution_count": null,
   "metadata": {},
   "outputs": [],
   "source": [
    "pattern = \"[0-9]+\"\n",
    "images = sorted(images, key=lambda x: int(re.search(pattern, x).group(0)))\n",
    "\n",
    "# Get the shape of the images\n",
    "frame = cv2.imread(os.path.join(image_folder, images[0]))\n",
    "height, width, channels = frame.shape\n",
    "\n",
    "video = cv2.VideoWriter(video_name, 0, 1, (height, width))\n",
    "for image in images:\n",
    "    video.write(cv2.imread(os.path.join(image_folder, image)))\n",
    "\n",
    "video.release()"
   ]
  },
  {
   "cell_type": "code",
   "execution_count": null,
   "metadata": {},
   "outputs": [],
   "source": [
    "print(images)"
   ]
  },
  {
   "attachments": {},
   "cell_type": "markdown",
   "metadata": {},
   "source": [
    "## Object Detection metrics"
   ]
  },
  {
   "attachments": {},
   "cell_type": "markdown",
   "metadata": {},
   "source": [
    "#### IoU = Intersection over Union\n",
    "\n",
    "The formula to calculate this is:\n",
    "\n",
    "$$IoU = \\frac{\\text{Area of Intersection}}{\\text{Ground Truth Area} + \\text{Predicted Box Area} - \\text{Area of Intersection}}$$"
   ]
  },
  {
   "cell_type": "code",
   "execution_count": null,
   "metadata": {},
   "outputs": [],
   "source": [
    "def intersection_over_union(ground_truth_bbox, predicted_bbox):\n",
    "    x_a = max(ground_truth_bbox[0], predicted_bbox[0])\n",
    "    y_a = max(ground_truth_bbox[1], predicted_bbox[1])\n",
    "    x_b = min(ground_truth_bbox[2], predicted_bbox[2])\n",
    "    y_b = min(ground_truth_bbox[3], predicted_bbox[3])\n",
    "\n",
    "    intersection_area = max(0, x_b - x_a + 1) * max(0, y_b - y_a + 1)\n",
    "    ground_truth_bb_area = (ground_truth_bbox[2] - ground_truth_bbox[0] + 1) * (\n",
    "        ground_truth_bbox[3] - ground_truth_bbox[1] + 1\n",
    "    )\n",
    "    predicted_bb_area = (predicted_bbox[2] - predicted_bbox[0] + 1) * (\n",
    "        predicted_bbox[3] - predicted_bbox[1] + 1\n",
    "    )\n",
    "\n",
    "    iou = intersection_area / float(\n",
    "        ground_truth_bb_area + predicted_bb_area - intersection_area\n",
    "    )\n",
    "\n",
    "    return iou"
   ]
  },
  {
   "cell_type": "code",
   "execution_count": null,
   "metadata": {},
   "outputs": [],
   "source": [
    "image = cv2.imread(\n",
    "    \"../images/pexels-frank-cone-2330502-cropped_d19e5e67-9b2e-4134-a2b2-fccd10209453.jpg\"\n",
    ")\n",
    "image = cv2.cvtColor(image, cv2.COLOR_BGR2RGB)"
   ]
  },
  {
   "cell_type": "code",
   "execution_count": null,
   "metadata": {},
   "outputs": [],
   "source": [
    "example = ([700, 425, 825, 550], [710, 435, 810, 560])\n",
    "iou = intersection_over_union(example[0], example[1])\n",
    "print(iou)"
   ]
  },
  {
   "cell_type": "code",
   "execution_count": null,
   "metadata": {},
   "outputs": [],
   "source": [
    "fig, ax = plt.subplots(figsize=(15, 15))\n",
    "ax.imshow(image)\n",
    "rect = patches.Rectangle(\n",
    "    tuple(example[0][:2]),\n",
    "    example[0][2] - example[0][0],\n",
    "    example[0][3] - example[0][1],\n",
    "    linewidth=3,\n",
    "    edgecolor=\"g\",\n",
    "    facecolor=\"none\",\n",
    ")\n",
    "ax.add_patch(rect)\n",
    "\n",
    "rect_2 = rect = patches.Rectangle(\n",
    "    tuple(example[1][:2]),\n",
    "    example[1][2] - example[1][0],\n",
    "    example[1][3] - example[1][1],\n",
    "    linewidth=3,\n",
    "    edgecolor=\"r\",\n",
    "    facecolor=\"none\",\n",
    ")\n",
    "ax.add_patch(rect_2)\n",
    "plt.show()"
   ]
  },
  {
   "cell_type": "code",
   "execution_count": null,
   "metadata": {},
   "outputs": [],
   "source": []
  }
 ],
 "metadata": {
  "kernelspec": {
   "display_name": ".venv",
   "language": "python",
   "name": "python3"
  },
  "language_info": {
   "codemirror_mode": {
    "name": "ipython",
    "version": 3
   },
   "file_extension": ".py",
   "mimetype": "text/x-python",
   "name": "python",
   "nbconvert_exporter": "python",
   "pygments_lexer": "ipython3",
   "version": "3.11.4"
  },
  "orig_nbformat": 4
 },
 "nbformat": 4,
 "nbformat_minor": 2
}
