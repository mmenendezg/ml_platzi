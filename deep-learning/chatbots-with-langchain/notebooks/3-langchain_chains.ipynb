{
 "cells": [
  {
   "cell_type": "code",
   "execution_count": 30,
   "metadata": {},
   "outputs": [],
   "source": [
    "import requests\n",
    "from langchain.document_loaders import PyPDFLoader\n",
    "from langchain.vectorstores import Chroma\n",
    "from langchain.embeddings.openai import OpenAIEmbeddings\n",
    "from langchain.chains.summarize import load_summarize_chain\n",
    "from langchain.llms import OpenAI\n",
    "from langchain import PromptTemplate\n",
    "from langchain.chains import RetrievalQA, TransformChain, SequentialChain, LLMChain"
   ]
  },
  {
   "cell_type": "code",
   "execution_count": 4,
   "metadata": {},
   "outputs": [],
   "source": [
    "url = \"https://www.cs.virginia.edu/~evans/greatworks/diffie.pdf\"\n",
    "response = requests.get(url)"
   ]
  },
  {
   "cell_type": "code",
   "execution_count": 5,
   "metadata": {},
   "outputs": [],
   "source": [
    "with open(\"../files/public_key_crytptography.pdf\", \"wb\") as f:\n",
    "    f.write(response.content)\n",
    "\n",
    "loader = PyPDFLoader(\"../files/public_key_crytptography.pdf\")\n",
    "data = loader.load()"
   ]
  },
  {
   "cell_type": "code",
   "execution_count": 6,
   "metadata": {},
   "outputs": [],
   "source": [
    "embeddings = OpenAIEmbeddings()\n",
    "vectorstore = Chroma.from_documents(data, embeddings)"
   ]
  },
  {
   "cell_type": "code",
   "execution_count": 7,
   "metadata": {},
   "outputs": [
    {
     "data": {
      "text/plain": [
       "18"
      ]
     },
     "execution_count": 7,
     "metadata": {},
     "output_type": "execute_result"
    }
   ],
   "source": [
    "len(data)"
   ]
  },
  {
   "cell_type": "code",
   "execution_count": 12,
   "metadata": {},
   "outputs": [
    {
     "data": {
      "text/plain": [
       "' \\n\\nPublic-key cryptography was discovered in 1975 and revolutionized communication security by allowing for secure communication between many subscribers. It was developed by Roger Needham and Martin Hellman and uses one-way and trap-door functions to protect computer passwords. The RSA cryptosystem, using large prime numbers, is one of its implementations. The development of public-key cryptography faced challenges, but it has been used in various applications, including military identification systems. It has also been commercialized by companies such as RSA Data Security and Cylink Corporation. The National Security Agency has also conducted feasibility studies for a new secure phone system using public-key technology. Research in this field is ongoing, with a focus on improving factoring and finding prime numbers. The success of public-key cryptography has delayed the introduction of new systems, and it is widely accepted and used in various secure devices. Mathematician Whitfield Diffie made significant contributions to public-key cryptography, and conferences and publications related to the topic continue to take place.'"
      ]
     },
     "execution_count": 12,
     "metadata": {},
     "output_type": "execute_result"
    }
   ],
   "source": [
    "llm_gpt = OpenAI()\n",
    "chain_summarize = load_summarize_chain(llm_gpt, chain_type=\"map_reduce\")\n",
    "chain_summarize.run(data)"
   ]
  },
  {
   "cell_type": "code",
   "execution_count": 14,
   "metadata": {},
   "outputs": [],
   "source": [
    "template = \"\"\"\n",
    "Escribe un resumen bien chido del siguient rollo:\n",
    "\n",
    "{text}\n",
    "\n",
    "RESUMEN CORTO CON SLANG MEXICANO:\n",
    "\"\"\"\n",
    "\n",
    "prompt = PromptTemplate(\n",
    "    template=template,\n",
    "    input_variables=[\"text\"],\n",
    ")"
   ]
  },
  {
   "cell_type": "code",
   "execution_count": 15,
   "metadata": {},
   "outputs": [
    {
     "name": "stdout",
     "output_type": "stream",
     "text": [
      "\n",
      "\n",
      "\u001b[1m> Entering new StuffDocumentsChain chain...\u001b[0m\n",
      "\n",
      "\n",
      "\u001b[1m> Entering new LLMChain chain...\u001b[0m\n",
      "Prompt after formatting:\n",
      "\u001b[32;1m\u001b[1;3m\n",
      "Escribe un resumen bien chido del siguient rollo:\n",
      "\n",
      "The First Ten Years of Public-Key \n",
      "Cryptography \n",
      "WH lTFl ELD DI FFlE \n",
      "Invited Paper \n",
      "Public-key cryptosystems separate the capacities for encryption \n",
      "and decryption so that 7) many people can encrypt messages in \n",
      "such a way that only one person can read them, or 2) one person \n",
      "can encrypt messages in such a way that many people can read \n",
      "them. This separation allows important improvements in the man- \n",
      "agement of cryptographic keys and makes it possible to ‘sign’ a \n",
      "purely digital message. \n",
      "Public key cryptography was discovered in the Spring of 1975 \n",
      "and has followed a surprising course. Although diverse systems \n",
      "were proposed early on, the ones that appear both practical and \n",
      "secure today are all very closely related and the search for new and \n",
      "different ones has met with little success. Despite this reliance on \n",
      "a limited mathematical foundation public-key cryptography is rev- \n",
      "olutionizing communication security by making possible secure \n",
      "communication networks with hundreds of thousands of subscrib- \n",
      "ers. \n",
      "Equally important is the impact of public key cryptography on \n",
      "the theoretical side of communication security. It has given cryp- \n",
      "tographers a systematic means of addressing a broad range of \n",
      "security objectives and pointed the way toward a more theoretical \n",
      "approach that allows the development of cryptographic protocols \n",
      "with proven security characteristics. \n",
      "I. INITIAL DISCOVERIES \n",
      "Public key cryptography was born in May 1975, the child \n",
      "First came the problem of key distribution. If two peo- \n",
      "ple who have never met before are to communicate \n",
      "privately using conventional cryptographic means, \n",
      "they must somehow agree in advance on a key that will \n",
      "be known to themselves and to no one else. \n",
      "The second problem, apparently unrelated to the first, \n",
      "was the problem of signatures. Could a method be \n",
      "devised that would provide the recipient of a purely \n",
      "digital electronic message with a way of demonstrat- \n",
      "ing to other people that it had come from a particular \n",
      "person, just as awritten signature on a letter allows the \n",
      "recipient to hold the author to its contents? \n",
      "On the face of it, both problems seem to demand the \n",
      "impossible. In the first case, if two people could somehow \n",
      "communicate a secret key from one to the other without \n",
      "ever having met, why could they not communicate their \n",
      "Manuscript received January 19, 1988; revised March 25,1988. \n",
      "The author is with Bell-Northern Research, Mountain View, CA \n",
      "IEEE Log Number 8821645. of two problems and a misunderstanding. \n",
      "94039, USA. message in secret? The second is no better. To be effective, \n",
      "a signature must be hard to copy. How then can a digital \n",
      "message, which can be copied perfectly, bear a signature? \n",
      "The misunderstanding was mine and prevented me from \n",
      "rediscovering the conventional key distri bution center. The \n",
      "virtue of cryptography, I reasoned, was that, unlike any \n",
      "other known security technology, it did not require trust \n",
      "in any party not directly involved in the communication, \n",
      "only trust in the cryptographic systems. What good would \n",
      "it do to develop impenetrable cryptosystems, I reasoned, \n",
      "if their users were forced to share their keys with a key dis- \n",
      "tribution center that could be compromised by either bur- \n",
      "glary or subpoena. \n",
      "The discovery consisted not of a solution, but of the rec- \n",
      "ognition that the two problems, each of which seemed \n",
      "unsolvable by definition, could be solved at all and that the \n",
      "solutions to both problems came in one package. \n",
      "First to succumb was the signature problem. The con- \n",
      "ventional use of cryptography to authenticate messages had \n",
      "been joined in the 1950s by two new applications, whose \n",
      "functions when combined constitute a signature. \n",
      "Beginning in 1952, a group under the direction of Horst \n",
      "Feistel at the Air Force Cambridge Research Center began \n",
      "to apply cryptography to the military problem of distin- \n",
      "guishing friendly from hostile aircraft. In traditional Iden- \n",
      "tification Friend or Foe systems, a fire control radar deter- \n",
      "mines the identity of an aircraft by challenging it, much as \n",
      "a sentry challenges a soldier on foot. If the airplane returns \n",
      "the correct identifying information, it is judged to be \n",
      "friendly, otherwise it is thought to be hostile or at best neu- \n",
      "tral. To allow the correct response to remain constant for \n",
      "any significant period of time, however, is to invite oppo- \n",
      "nents to record a legitimate friendly response and play it \n",
      "back whenever they themselves are challenged. The \n",
      "approach taken by Feistel’s group, and now used in the MK \n",
      "XI1 IFF system, is to vary the exchange cryptographically \n",
      "from encounter to encounter. The radar sends a randomly \n",
      "selected challenge and judges the aircraft by whether it \n",
      "receives a correctly encrypted response. Because the chal- \n",
      "lenges are never repeated, previously recorded responses \n",
      "will not be judged correct by a challenging radar. \n",
      "Later in the decade, this novel authentication technique \n",
      "was joined by another, which seems first to have been \n",
      "560 001&9219/88/0500-0560$01.00 0 1988 IEEE \n",
      "PROCEEDINGS OF THE IEEE, VOL. 76, NO. 5, MAY 1988 \n",
      "\n",
      "applied by Roger Needham of Cambridge University [112]. \n",
      "This timethe problem was protectingcomputer passwords. \n",
      "Access control systems often suffer from the extreme sen- \n",
      "sitivity of their password tables. The tables gather all of the \n",
      "passwards together in one place and anyone who gets \n",
      "access to this information can impersonate any of the sys- \n",
      "tem‘s users. To guard against this possibility, the password \n",
      "table is filled not with the passwords themselves, but with \n",
      "the images of the passwords under a one-way function. A \n",
      "one-way function is easy to compute, but difficult to invert. \n",
      "For any password, the correct table entry can be calculated \n",
      "easily. Given an output from the one-way function, how- \n",
      "ever, it is exceedingly difficult to find any input that will \n",
      "produce it. This reduces the value of the password table to \n",
      "an intruder tremendously, since its entries are not pass- \n",
      "words and are not acceptable to the password verification \n",
      "routine. \n",
      "Challenge and response identification and one-wayfunc- \n",
      "tions provide protection against two quite different sorts \n",
      "of threats. Challengeand response identification resists the \n",
      "efforts of an eavesdropper who can spy on the commu- \n",
      "nication channel. Since the challengevaries randomlyfrom \n",
      "event to event, the spy is unable to replay it and fool the \n",
      "challenging radar. There is, however, no protection against \n",
      "an opponent who captures the radar and learns its cryp- \n",
      "tographic keys. This opponent can use what he has learned \n",
      "to fool any other radar that is keyed the same. In contrast, \n",
      "the one-way function defeats the efforts of an intruder who \n",
      "captures the system password table (analogous to captur- \n",
      "ing the radar) but scuccumbs to anyone who intercepts the \n",
      "login message because the password does not change with \n",
      "time. \n",
      "I realized that the two goals might be achieved simul- \n",
      "taneously if the challenger could pose questions that it was \n",
      "unable to answer, but whose answers it could judge for cor- \n",
      "rectness. I saw the solution as a generalization of the one- \n",
      "way function: a trap-door one-way function that allowed \n",
      "someone in possession of secret information to go back- \n",
      "wards and compute the function’s inverse. The challenger \n",
      "would issue a value in the range of the one-way function \n",
      "and demand to know its inverse. Onlythe person who knew \n",
      "the trapdoor would be able to find the corresponding ele- \n",
      "ment in the domain, but the challenger, in possession of \n",
      "an algorithm for computing the one-way function, could \n",
      "readilychecktheanswer. In theapplicaticnsthat later came \n",
      "toseem most important, the roleof thechallengewas played \n",
      "by a message and the process took on the character of a \n",
      "signature, a digital signature. \n",
      "It did not take long to realize that the trap-door one-way \n",
      "function could also be applied to the baffling problem of \n",
      "key distribution. For someone in possession of the forward \n",
      "form of the one-way function to send a secret message to \n",
      "the person who knew the trapdoor, he had only to trans- \n",
      "form the message with the one-way function. Only the \n",
      "holder of the trap-door information would be able to invert \n",
      "the operation and recover the message. Because knowing \n",
      "the forward form of the function did not make it possible \n",
      "to compute the inverse, the function could be made freely \n",
      "available. It is this possibility that gave the field its name: \n",
      "public-ke y cryptography. \n",
      "The concept that emerges is that of a public-key cryp- \n",
      "tosystem: a cryptosystem in which keys come in inverse \n",
      "pairs [36] and each pair of keys has two properties. - Anything encrypted with one key can be decrypted \n",
      "with the other. \n",
      "Given one member of the pair, the public key, it is \n",
      "infeasible to discover the other, the secret key. \n",
      "This separation of encryption and decryption makes it \n",
      "possible for the subscribers to a communication system to \n",
      "list their public keys in a “telephone directory” along with \n",
      "their names and addresses. This done, the solutions to the \n",
      "original problems can be achieved by simple protocols. \n",
      "One subscriber can send a private message to another \n",
      "simply by looking up the addressee’s public key and \n",
      "using it to encrypt the message. Only the holder of the \n",
      "corresponding secret key can read such a message; \n",
      "even the sender, should he lose the plaintext, is inca- \n",
      "pable of extracting it from the ciphertext. \n",
      "A subscriber can sign a message by encrypting it with \n",
      "his own secret key. Anyone with access to the public \n",
      "key can verify that it must have been encrypted with \n",
      "the corresponding secret key, but this is of no help to \n",
      "him in creating (forging) a message with this property. \n",
      "The first aspect of public-key cryptography greatly sim- \n",
      "plifies the management of keys, especially in large com- \n",
      "munication networks. In order for a pair of subscribers to \n",
      "communicate privately using conventional end-to-end \n",
      "cryptography, they must both have copies of the same cryp- \n",
      "tographic key and this key must be kept secret from anyone \n",
      "they do not wish to take into their confidence. If a network \n",
      "has only a few subscribers, each person simply stores one \n",
      "key for every other subscriber against the day he will need \n",
      "it, but for a large network, this is impractical. \n",
      "In a network with n subscribers there are n(n - 1)/2 pairs, \n",
      "each of which may require a key. This amounts to five thou- \n",
      "sand keys in a network with only a hundred subscribers, \n",
      "half a million in a network with one thousand, and twenty \n",
      "million billion in a network the size of the North American \n",
      "telephone system. It is unthinkable to distribute this many \n",
      "keys in advance and undesirable to postpone secure com- \n",
      "munication while they are carried from one party to the \n",
      "other by courier. \n",
      "The second aspect makes its possible to conduct a much \n",
      "broader range of normal business practices over a tele- \n",
      "communication network. Theavailabilityof asignature that \n",
      "the receiver of a message cannot forge and the sender can- \n",
      "not readily disavow makes it possible to trust the network \n",
      "with negotiations and transactions of much higher value \n",
      "than would otherwise be possible. \n",
      "It must be noted that both problems can be solved with- \n",
      "out public-key cryptography, but that conventional solu- \n",
      "tions come at a great price. Centralized key distribution \n",
      "centers can on request provide a subscriber with a key for \n",
      "communicating with any other subscriber and protocols \n",
      "for this purpose will be discussed later on. The function of \n",
      "the signature can also beapproximated byacentral registry \n",
      "that records all transactions and bears witness in cases of \n",
      "dispute. Both mechanisms, however, encumber the net- \n",
      "work with the intrusion of a third party into many conver- \n",
      "sations, diminishing security and degrading performance. \n",
      "At the time public-key cryptography was discovered, I \n",
      "was working with Martin Hellman in the Electrical Engi- \n",
      "neering Department at Stanford University. It was our \n",
      "immediate reaction, and by no means ours alone, that the \n",
      "DIFFIE: TEN YEARS OF PUBLIC-KEY CRYPTOGRAPHY 561 \n",
      "\n",
      "RESUMEN CORTO CON SLANG MEXICANO:\n",
      "\u001b[0m\n",
      "\n",
      "\u001b[1m> Finished chain.\u001b[0m\n",
      "\n",
      "\u001b[1m> Finished chain.\u001b[0m\n"
     ]
    },
    {
     "data": {
      "text/plain": [
       "'\\nEl broncón de la criptografía de llave pública revolucionó la seguridad de las comunicaciones al permitir a muchas personas encriptar mensajes de manera que solo una persona pueda leerlos o viceversa. Se descubrió en 1975 y ha tenido un gran impacto tanto en la práctica como en la teoría de la seguridad de las comunicaciones. Antes de esto, se creía que era imposible resolver el problema de la distribución de llaves y de las firmas digitales, pero gracias a la utilización de una función de llave trap-door (conocida como función de un solo sentido), se pudo solucionar ambos problemas al mismo tiempo. Esto permitió una gestión más fácil de las llaves y la realización de transacciones de mayor valor en redes de comunicación. Aunque existen otras soluciones, la criptografía de llave pública es la más eficiente y evita la intervención de terceros en las comunicaciones. Todo esto se logró gracias al trabajo de Whitfield Diffie y Martin Hellman en 1975 en la Universidad de Stanford.'"
      ]
     },
     "execution_count": 15,
     "metadata": {},
     "output_type": "execute_result"
    }
   ],
   "source": [
    "chain_summarizer_w_slang = load_summarize_chain(\n",
    "    llm_gpt, chain_type=\"stuff\", prompt=prompt, verbose=True\n",
    ")\n",
    "\n",
    "chain_summarizer_w_slang.run(data[:2])"
   ]
  },
  {
   "cell_type": "code",
   "execution_count": 17,
   "metadata": {},
   "outputs": [],
   "source": [
    "chain_qa = RetrievalQA.from_chain_type(\n",
    "    llm=llm_gpt,\n",
    "    chain_type=\"stuff\",\n",
    "    retriever=vectorstore.as_retriever(search_kwargs={\"k\": 2}),\n",
    ")"
   ]
  },
  {
   "cell_type": "code",
   "execution_count": 18,
   "metadata": {},
   "outputs": [
    {
     "data": {
      "text/plain": [
       "' La criptografía de llave pública es un método de encriptación en el que se utiliza un par de llaves, una pública y otra privada, para cifrar y descifrar información. Es especialmente relevante en la seguridad de comunicaciones en línea, ya que permite a los usuarios comunicarse de forma segura sin necesidad de compartir una llave secreta previamente acordada. Además, la criptografía de llave pública también se utiliza en la autenticación y firma digital, lo que la hace esencial para la seguridad en transacciones y operaciones en línea.'"
      ]
     },
     "execution_count": 18,
     "metadata": {},
     "output_type": "execute_result"
    }
   ],
   "source": [
    "chain_qa.run(\"Cual es la relevancia de la criptografia de llave publica?\")"
   ]
  },
  {
   "cell_type": "markdown",
   "metadata": {},
   "source": [
    "## Foundational Chains"
   ]
  },
  {
   "cell_type": "code",
   "execution_count": 19,
   "metadata": {},
   "outputs": [],
   "source": [
    "import re"
   ]
  },
  {
   "cell_type": "code",
   "execution_count": 21,
   "metadata": {},
   "outputs": [],
   "source": [
    "def clean_text(inputs: dict) -> dict:\n",
    "    text = inputs[\"text\"]\n",
    "\n",
    "    emoji_pattern = re.compile(\n",
    "        \"[\"\n",
    "        \"\\U0001F600-\\U0001f64f\"\n",
    "        \"\\U0001F300-\\U0001F5FF\"\n",
    "        \"\\U0001F680-\\U0001F6FF\"\n",
    "        \"\\U0001F1E0-\\U0001F1FF\"\n",
    "        \"\\U00002702-\\U000027B0\"\n",
    "        \"\\U000024C2-\\U0001F251\"\n",
    "        \"]+\",\n",
    "        flags=re.UNICODE,\n",
    "    )\n",
    "    text = emoji_pattern.sub(r\"\", text)\n",
    "\n",
    "    url_pattern = re.compile(r\"https?://\\S+|www\\.\\S+\")\n",
    "    text = url_pattern.sub(r\"\", text)\n",
    "    return {\"clean_text\": text}"
   ]
  },
  {
   "cell_type": "code",
   "execution_count": 24,
   "metadata": {},
   "outputs": [],
   "source": [
    "chain_cleaner = TransformChain(\n",
    "    input_variables=[\"text\"], output_variables=[\"clean_text\"], transform=clean_text\n",
    ")"
   ]
  },
  {
   "cell_type": "code",
   "execution_count": 25,
   "metadata": {},
   "outputs": [
    {
     "data": {
      "text/plain": [
       "'Check this page  '"
      ]
     },
     "execution_count": 25,
     "metadata": {},
     "output_type": "execute_result"
    }
   ],
   "source": [
    "chain_cleaner.run(\"Check this page https://x.com/home 🔥\")"
   ]
  },
  {
   "cell_type": "code",
   "execution_count": 28,
   "metadata": {},
   "outputs": [],
   "source": [
    "template = \"\"\"\n",
    "Parafrasea este texto:\n",
    "\n",
    "{clean_text}\n",
    "\n",
    "Con acento y estilo {style}\n",
    "\n",
    "Parafraseado:\n",
    "\"\"\""
   ]
  },
  {
   "cell_type": "code",
   "execution_count": 29,
   "metadata": {},
   "outputs": [],
   "source": [
    "prompt = PromptTemplate(input_variables=[\"clean_text\", \"style\"], template=template)"
   ]
  },
  {
   "cell_type": "code",
   "execution_count": 31,
   "metadata": {},
   "outputs": [],
   "source": [
    "chain_change_style = LLMChain(llm=llm_gpt, prompt=prompt, output_key=\"final_text\")"
   ]
  },
  {
   "cell_type": "code",
   "execution_count": 32,
   "metadata": {},
   "outputs": [],
   "source": [
    "chain_sequential = SequentialChain(\n",
    "    chains=[chain_cleaner, chain_change_style],\n",
    "    input_variables=[\"text\", \"style\"],\n",
    "    output_variables=[\"final_text\"],\n",
    ")"
   ]
  },
  {
   "cell_type": "code",
   "execution_count": 33,
   "metadata": {},
   "outputs": [],
   "source": [
    "input_text = \"\"\"\n",
    "El Salvador 🇸🇻 (en náhuat, Kuskatan), oficialmente República de El Salvador www.elsalvador.com, \n",
    "es un país soberano de América Central ubicado en el litoral del océano \n",
    "Pacífico🌊, con una extensión territorial de 21 041 km².10​ En el año 2021 \n",
    "contaba con una población estimada en 6 803 023 habitantes según una estimación \n",
    "realizada por la Dirección General de Estadísticas y Censos en compañía de la CEPAL,\n",
    "11​ y poseía una densidad demográfica aproximada de 323 hab./km², lo que lo \n",
    "convierte en el país más densamente poblado del continente americano, \n",
    "sin incluir algunas islas en el mar Caribe. Su clima es cálido tropical🌴, \n",
    "pero debido al contraste geográfico el clima☔️ puede variar.\n",
    "\"\"\""
   ]
  },
  {
   "cell_type": "code",
   "execution_count": 39,
   "metadata": {},
   "outputs": [
    {
     "data": {
      "text/plain": [
       "{'text': '\\nEl Salvador 🇸🇻 (en náhuat, Kuskatan), oficialmente República de El Salvador www.elsalvador.com, \\nes un país soberano de América Central ubicado en el litoral del océano \\nPacífico🌊, con una extensión territorial de 21 041 km².10\\u200b En el año 2021 \\ncontaba con una población estimada en 6 803 023 habitantes según una estimación \\nrealizada por la Dirección General de Estadísticas y Censos en compañía de la CEPAL,\\n11\\u200b y poseía una densidad demográfica aproximada de 323 hab./km², lo que lo \\nconvierte en el país más densamente poblado del continente americano, \\nsin incluir algunas islas en el mar Caribe. Su clima es cálido tropical🌴, \\npero debido al contraste geográfico el clima☔️ puede variar.\\n',\n",
       " 'style': 'nahuat',\n",
       " 'final_text': '\\nSālākhuān (in tetl Kuskatan), tlahtohco República de Sālākhuān, tlācatlampa ye kōzkatlāntli īpan īlhuicac okeānōtlācatl, ye īpan īpantlācatl ye ōmpatlācatl kālīhuatl īpan 21 041 km².10\\u200b Īka 2021 ye tlahtohco īpan 6 803 023 ininēhualtin īpalnēmohuāyōtl īpan īlhuicac tlahtōlli ye tlahtolli īpan Dirección General de Estadísticas y Censos in tlahtōlli ye CEPAL, 11\\u200b ye kātōtētl ye īpantlācatl caxtolnamikilhuāyōtl īpan 323 ininēhualtin/km², tlahtlālli īpan tlahtohco tlahtōlli ī'}"
      ]
     },
     "execution_count": 39,
     "metadata": {},
     "output_type": "execute_result"
    }
   ],
   "source": [
    "chain_sequential({\"text\": input_text, \"style\": \"nahuat\"})"
   ]
  },
  {
   "cell_type": "code",
   "execution_count": null,
   "metadata": {},
   "outputs": [],
   "source": []
  }
 ],
 "metadata": {
  "kernelspec": {
   "display_name": ".venv",
   "language": "python",
   "name": "python3"
  },
  "language_info": {
   "codemirror_mode": {
    "name": "ipython",
    "version": 3
   },
   "file_extension": ".py",
   "mimetype": "text/x-python",
   "name": "python",
   "nbconvert_exporter": "python",
   "pygments_lexer": "ipython3",
   "version": "3.11.6"
  }
 },
 "nbformat": 4,
 "nbformat_minor": 2
}
