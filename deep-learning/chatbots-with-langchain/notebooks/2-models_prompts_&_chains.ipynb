{
 "cells": [
  {
   "cell_type": "code",
   "execution_count": 5,
   "metadata": {},
   "outputs": [],
   "source": [
    "from transformers import AutoTokenizer, pipeline\n",
    "import torch\n",
    "import os"
   ]
  },
  {
   "cell_type": "code",
   "execution_count": 2,
   "metadata": {},
   "outputs": [],
   "source": [
    "MODEL = \"tiiuae/falcon-7b-instruct\""
   ]
  },
  {
   "cell_type": "code",
   "execution_count": 3,
   "metadata": {},
   "outputs": [
    {
     "data": {
      "application/vnd.jupyter.widget-view+json": {
       "model_id": "eb28ddbdcf014e1c9555da5bc7cc84ad",
       "version_major": 2,
       "version_minor": 0
      },
      "text/plain": [
       "Loading checkpoint shards:   0%|          | 0/2 [00:00<?, ?it/s]"
      ]
     },
     "metadata": {},
     "output_type": "display_data"
    }
   ],
   "source": [
    "tokenizer = AutoTokenizer.from_pretrained(MODEL)\n",
    "pipeline = pipeline(\n",
    "    \"text-generation\",\n",
    "    model=MODEL,\n",
    "    tokenizer=tokenizer,\n",
    ")"
   ]
  },
  {
   "cell_type": "code",
   "execution_count": 4,
   "metadata": {},
   "outputs": [
    {
     "data": {
      "text/plain": [
       "transformers.pipelines.text_generation.TextGenerationPipeline"
      ]
     },
     "execution_count": 4,
     "metadata": {},
     "output_type": "execute_result"
    }
   ],
   "source": [
    "type(pipeline)"
   ]
  },
  {
   "cell_type": "code",
   "execution_count": 6,
   "metadata": {},
   "outputs": [],
   "source": [
    "OPENAI_API_KEY = os.environ[\"OPENAI_API_KEY\"]"
   ]
  },
  {
   "cell_type": "code",
   "execution_count": 32,
   "metadata": {},
   "outputs": [],
   "source": [
    "from langchain.llms import OpenAIChat"
   ]
  },
  {
   "cell_type": "code",
   "execution_count": 34,
   "metadata": {},
   "outputs": [
    {
     "data": {
      "text/plain": [
       "'\\n\\n1. Diagnóstico de enfermedades: El machine learning puede ser utilizado para analizar grandes cantidades de datos médicos y ayudar en la detección temprana de enfermedades, incluyendo cáncer, enfermedades cardíacas, trastornos neurológicos, entre otros.\\n\\n2. Pronóstico y tratamiento de enfermedades: Al analizar datos históricos de pacientes y su respuesta a diferentes tratamientos, el machine learning puede ayudar a los médicos a predecir la progresión y el resultado de una enfermedad, así como a recomendar el mejor plan de tratamiento para cada paciente.\\n\\n3. Descubrimiento de medicamentos: El machine learning puede acelerar el proceso de descubrimiento de nuevos medicamentos al analizar grandes cantidades de datos moleculares y de ensayos clínicos para identificar posibles fármacos y sus posibles efectos secundarios.\\n\\n4. Análisis de imágenes médicas: El machine learning puede ser utilizado para analizar imágenes médicas, como resonancias magnéticas, tomografías computarizadas y radiografías, para detectar anomalías y ayudar en el diagnóstico'"
      ]
     },
     "execution_count": 34,
     "metadata": {},
     "output_type": "execute_result"
    }
   ],
   "source": [
    "llm_gpt = OpenAI()\n",
    "llm_gpt.invoke(\"Que problemas de biomedica se pueden resolver con machine learning?\")"
   ]
  },
  {
   "cell_type": "code",
   "execution_count": 35,
   "metadata": {},
   "outputs": [],
   "source": [
    "llm_davinci = OpenAI(model=\"davinci\", n=2, temperature=0.2)"
   ]
  },
  {
   "cell_type": "code",
   "execution_count": 38,
   "metadata": {},
   "outputs": [],
   "source": [
    "generation = llm_davinci.generate(\n",
    "    [\n",
    "        \"Gimme a golden advice to learn machine learning\",\n",
    "        \"How can I learn to draw with pen?\",\n",
    "    ]\n",
    ")"
   ]
  },
  {
   "cell_type": "code",
   "execution_count": 39,
   "metadata": {},
   "outputs": [
    {
     "data": {
      "text/plain": [
       "LLMResult(generations=[[Generation(text='.\\n\\nI think you should start with the basics.\\n\\nLearn the basic of probability theory.\\n\\nLearn the basic of statistics.\\n\\nLearn the basic of linear algebra.\\n\\nLearn the basic of calculus.\\n\\nLearn the basic of computer science.\\n\\nLearn the basic of programming.\\n\\nLearn the basic of data structures.\\n\\nLearn the basic of algorithms.\\n\\nLearn the basic of data analysis.\\n\\nLearn the basic of machine learning.\\n\\nLearn the basic of deep learning.\\n\\nLearn the basic of artificial intelligence.\\n\\nLearn the basic of natural language processing.\\n\\nLearn the basic of natural language understanding.\\n\\nLearn the basic of natural language generation.\\n\\nLearn the basic of natural language processing.\\n\\nLearn the basic of natural language understanding.\\n\\nLearn the basic of natural language generation.\\n\\nLearn the basic of natural language processing.\\n\\nLearn the basic of natural language understanding.\\n\\nLearn the basic of natural language generation.\\n\\nLearn the basic of natural language processing.\\n\\nLearn the basic of natural language understanding.\\n\\nLearn the basic of natural language generation.\\n\\nLearn the basic of natural language processing.\\n\\nLearn the basic of natural language understanding.', generation_info={'finish_reason': 'length', 'logprobs': None}), Generation(text='\\n\\nI am a beginner in machine learning. I have read a lot of books and online resources. I have a lot of questions. I want to ask you some questions.\\n\\nWhat is the best way to learn machine learning?\\n\\nWhat is the best way to learn machine learning?\\n\\nWhat is the best way to learn machine learning?\\n\\nWhat is the best way to learn machine learning?\\n\\nWhat is the best way to learn machine learning?\\n\\nWhat is the best way to learn machine learning?\\n\\nWhat is the best way to learn machine learning?\\n\\nWhat is the best way to learn machine learning?\\n\\nWhat is the best way to learn machine learning?\\n\\nWhat is the best way to learn machine learning?\\n\\nWhat is the best way to learn machine learning?\\n\\nWhat is the best way to learn machine learning?\\n\\nWhat is the best way to learn machine learning?\\n\\nWhat is the best way to learn machine learning?\\n\\nWhat is the best way to learn machine learning?\\n\\nWhat is the best way to learn machine learning?\\n\\nWhat is the best way to learn machine learning?\\n\\nWhat is the best way to learn machine learning?\\n\\nWhat is', generation_info={'finish_reason': 'length', 'logprobs': None})], [Generation(text=\"\\n\\nI have been drawing with pencil for a long time, but I want to learn to draw with pen. I know that I have to practice a lot, but I don't know how to start. I have a lot of ideas, but I don't know how to draw them.\\n\\nI would like to learn to draw with pen, but I don't know how to start. I have a lot of ideas, but I don't know how to draw them.\\n\\nI have been drawing with pencil for a long time, but I want to learn to draw with pen. I know that I have to practice a lot, but I don't know how to start. I have a lot of ideas, but I don't know how to draw them.\\n\\nI would like to learn to draw with pen, but I don't know how to start. I have a lot of ideas, but I don't know how to draw them.\\n\\nI have been drawing with pencil for a long time, but I want to learn to draw with pen. I know that I have to practice a lot, but I don't know how to start. I have a lot of ideas, but I don't know how to draw them.\\n\\nI\", generation_info={'finish_reason': 'length', 'logprobs': None}), Generation(text='\\n\\nThere are many ways to learn to draw with pen. The first is to practice. The more you practice, the better you will get. The second is to learn from others. There are many books and videos available that will teach you how to draw with pen. The third is to practice with a model. A model is someone who poses for you while you draw. You can find models at a local art school or at a local art store. The fourth is to practice with your friends. You can draw each other and critique each other. The fifth is to practice with yourself. You can draw yourself and critique yourself. The sixth is to practice with a mirror. You can draw yourself in the mirror and critique yourself. The seventh is to practice with a camera. You can take pictures of yourself and critique yourself. The eighth is to practice with a camera. You can take pictures of others and critique them. The ninth is to practice with a camera. You can take pictures of yourself and critique yourself. The tenth is to practice with a camera. You can take pictures of others and critique them. The eleventh is to practice with a camera. You can take pictures of yourself and critique yourself. The twelfth is to practice with a camera. You can take', generation_info={'finish_reason': 'length', 'logprobs': None})]], llm_output={'token_usage': {'prompt_tokens': 19, 'completion_tokens': 1024, 'total_tokens': 1043}, 'model_name': 'davinci'}, run=[RunInfo(run_id=UUID('0e7ca7be-dada-4da8-b7d7-a381ab3eef0f')), RunInfo(run_id=UUID('591f95f1-2034-40c0-bc64-238fc911fbfd'))])"
      ]
     },
     "execution_count": 39,
     "metadata": {},
     "output_type": "execute_result"
    }
   ],
   "source": [
    "generation"
   ]
  },
  {
   "cell_type": "code",
   "execution_count": 41,
   "metadata": {},
   "outputs": [
    {
     "data": {
      "text/plain": [
       "{'token_usage': {'prompt_tokens': 19,\n",
       "  'completion_tokens': 1024,\n",
       "  'total_tokens': 1043},\n",
       " 'model_name': 'davinci'}"
      ]
     },
     "execution_count": 41,
     "metadata": {},
     "output_type": "execute_result"
    }
   ],
   "source": [
    "generation.llm_output"
   ]
  },
  {
   "cell_type": "code",
   "execution_count": 42,
   "metadata": {},
   "outputs": [
    {
     "data": {
      "text/plain": [
       "13"
      ]
     },
     "execution_count": 42,
     "metadata": {},
     "output_type": "execute_result"
    }
   ],
   "source": [
    "llm_davinci.get_num_tokens(\"Hola cual es la longitud de este modelo?\")"
   ]
  },
  {
   "cell_type": "markdown",
   "metadata": {},
   "source": [
    "## Prompt Templates"
   ]
  },
  {
   "cell_type": "code",
   "execution_count": 45,
   "metadata": {},
   "outputs": [],
   "source": [
    "prompt_argentino = \"\"\"\n",
    "Respondé la pregunta basandote en el context de abajo. \n",
    "Si la pregunta no puede ser respondida usando la informacion proporcionada,\n",
    "responde con \"Ni idea, che\".\n",
    "\n",
    "ContextoL Los modelos de lenguage de Gran Escala (MLGEs) son lo ulitmo en modelos usados \n",
    "en el procesamiento del lenguaje natural (NLP). Su desempeño superior a los modelos mas chicos\n",
    "los hizo increiblemente utiles para los desarrolladores que arman aplicaciones con NLP.\n",
    "\n",
    "Pregunta: Que librerias y proveedores de modelos ofrecen MLGEs?\n",
    "\n",
    "Respuesta (escribe como argentino informal): \n",
    "\"\"\""
   ]
  },
  {
   "cell_type": "code",
   "execution_count": 63,
   "metadata": {},
   "outputs": [
    {
     "name": "stdout",
     "output_type": "stream",
     "text": [
      "\n",
      "Y...los MLGEs son lo más, así que hay varias librerías y proveedores que los ofrecen, pero no sabría decirte cuáles específicamente porque soy un programa y no tengo acceso a esa información. Ni idea, che.\n"
     ]
    }
   ],
   "source": [
    "print(llm_gpt(prompt_argentino))"
   ]
  },
  {
   "cell_type": "code",
   "execution_count": 64,
   "metadata": {},
   "outputs": [],
   "source": [
    "from langchain import PromptTemplate"
   ]
  },
  {
   "cell_type": "code",
   "execution_count": 66,
   "metadata": {},
   "outputs": [],
   "source": [
    "prompt_argentino = \"\"\"\n",
    "Respondé la pregunta basandote en el context de abajo. \n",
    "Si la pregunta no puede ser respondida usando la informacion proporcionada,\n",
    "responde con \"Ni idea, che\".\n",
    "\n",
    "ContextoL Los modelos de lenguage de Gran Escala (MLGEs) son lo ulitmo en modelos usados \n",
    "en el procesamiento del lenguaje natural (NLP). Su desempeño superior a los modelos mas chicos\n",
    "los hizo increiblemente utiles para los desarrolladores que arman aplicaciones con NLP.\n",
    "\n",
    "Pregunta: {query}\n",
    "\n",
    "Respuesta (escribe como argentino informal): \n",
    "\"\"\"\n",
    "\n",
    "prompt_template_argentino = PromptTemplate(\n",
    "    input_variables=[\"query\"], template=prompt_argentino\n",
    ")"
   ]
  },
  {
   "cell_type": "code",
   "execution_count": 67,
   "metadata": {},
   "outputs": [],
   "source": [
    "from langchain import LLMChain\n",
    "\n",
    "llm_gpt_chain = LLMChain(\n",
    "    prompt=prompt_template_argentino,\n",
    "    llm=llm_gpt,\n",
    ")"
   ]
  },
  {
   "cell_type": "code",
   "execution_count": 68,
   "metadata": {},
   "outputs": [
    {
     "data": {
      "text/plain": [
       "'Ni idea, che. Son siglas que no conozco y no puedo sacar conclusiones del contexto.'"
      ]
     },
     "execution_count": 68,
     "metadata": {},
     "output_type": "execute_result"
    }
   ],
   "source": [
    "query = \"Que son los LLM?\"\n",
    "\n",
    "llm_gpt_chain.run(query)"
   ]
  },
  {
   "cell_type": "code",
   "execution_count": 77,
   "metadata": {},
   "outputs": [
    {
     "data": {
      "text/plain": [
       "'Ni idea, che.'"
      ]
     },
     "execution_count": 77,
     "metadata": {},
     "output_type": "execute_result"
    }
   ],
   "source": [
    "query = \"Donde esta la plata?\"\n",
    "\n",
    "llm_gpt_chain.run(query)"
   ]
  },
  {
   "cell_type": "code",
   "execution_count": null,
   "metadata": {},
   "outputs": [],
   "source": []
  }
 ],
 "metadata": {
  "kernelspec": {
   "display_name": ".venv",
   "language": "python",
   "name": "python3"
  },
  "language_info": {
   "codemirror_mode": {
    "name": "ipython",
    "version": 3
   },
   "file_extension": ".py",
   "mimetype": "text/x-python",
   "name": "python",
   "nbconvert_exporter": "python",
   "pygments_lexer": "ipython3",
   "version": "3.11.7"
  }
 },
 "nbformat": 4,
 "nbformat_minor": 2
}
