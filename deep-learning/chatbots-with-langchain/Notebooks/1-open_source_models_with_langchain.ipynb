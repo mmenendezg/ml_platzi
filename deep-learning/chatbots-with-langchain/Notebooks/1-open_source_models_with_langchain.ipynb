{
 "cells": [
  {
   "cell_type": "code",
   "execution_count": 1,
   "metadata": {},
   "outputs": [],
   "source": [
    "from transformers import AutoTokenizer, pipeline, GemmaForCausalLM, TFAutoModelForCausalLM\n",
    "import torch\n",
    "from langchain import HuggingFacePipeline"
   ]
  },
  {
   "cell_type": "code",
   "execution_count": 2,
   "metadata": {},
   "outputs": [],
   "source": [
    "GEMMA_MODEL = \"google/gemma-2b-it\""
   ]
  },
  {
   "cell_type": "code",
   "execution_count": 14,
   "metadata": {},
   "outputs": [
    {
     "data": {
      "application/vnd.jupyter.widget-view+json": {
       "model_id": "0dcca305ac314a56ae4cabc089215ae5",
       "version_major": 2,
       "version_minor": 0
      },
      "text/plain": [
       "Loading checkpoint shards:   0%|          | 0/2 [00:00<?, ?it/s]"
      ]
     },
     "metadata": {},
     "output_type": "display_data"
    }
   ],
   "source": [
    "tokenizer = AutoTokenizer.from_pretrained(GEMMA_MODEL)\n",
    "# llm_gemma = AutoModelForCausalLM.from_pretrained(\n",
    "#     GEMMA_MODEL, device_map=\"auto\", torch_dtype=torch.float32\n",
    "# )\n",
    "\n",
    "\n",
    "gemma_pipeline = pipeline(\n",
    "    \"text-generation\",\n",
    "    model=GEMMA_MODEL,\n",
    "    tokenizer=tokenizer,\n",
    "    device_map=\"auto\",\n",
    "    trust_remote_code=True,\n",
    ")\n",
    "\n",
    "gemma_llm = HuggingFacePipeline(\n",
    "    pipeline=gemma_pipeline,\n",
    "    model_kwargs={\n",
    "        \"temperature\": 0.2,\n",
    "        \"max_new_tokens\": 250,\n",
    "        \"do_sample\": True,\n",
    "        \"top_k\": 10,\n",
    "        \"num_return_sequences\": 3,\n",
    "        \"eos_token_id\": tokenizer.eos_token_id,\n",
    "    },\n",
    ")"
   ]
  },
  {
   "cell_type": "code",
   "execution_count": 15,
   "metadata": {},
   "outputs": [
    {
     "name": "stderr",
     "output_type": "stream",
     "text": [
      "/Users/mmenendezg/Developer/Projects/gemma-project/.venv/lib/python3.11/site-packages/transformers/generation/utils.py:1178: UserWarning: Using the model-agnostic default `max_length` (=20) to control the generation length. We recommend setting `max_new_tokens` to control the maximum length of the generation.\n",
      "  warnings.warn(\n"
     ]
    },
    {
     "data": {
      "text/plain": [
       "''"
      ]
     },
     "execution_count": 15,
     "metadata": {},
     "output_type": "execute_result"
    }
   ],
   "source": [
    "gemma_llm(\"Give me a code snippet on how to create a polars dataframe of 3 columns in python\")"
   ]
  },
  {
   "cell_type": "code",
   "execution_count": 10,
   "metadata": {},
   "outputs": [],
   "source": [
    "# input_text = \"Give me a code snippet to create a transformers using tensorflow\"\n",
    "# input_ids = tokenizer(input_text, return_tensors=\"pt\").to(\"mps\")\n",
    "# output_ids = llm_gemma.generate(**input_ids, max_length=250)\n",
    "# output_text = tokenizer.decode(output_ids[0])\n",
    "# print(output_text)"
   ]
  }
 ],
 "metadata": {
  "kernelspec": {
   "display_name": ".venv",
   "language": "python",
   "name": "python3"
  },
  "language_info": {
   "codemirror_mode": {
    "name": "ipython",
    "version": 3
   },
   "file_extension": ".py",
   "mimetype": "text/x-python",
   "name": "python",
   "nbconvert_exporter": "python",
   "pygments_lexer": "ipython3",
   "version": "3.11.7"
  }
 },
 "nbformat": 4,
 "nbformat_minor": 2
}
