{
 "cells": [
  {
   "cell_type": "code",
   "execution_count": 1,
   "metadata": {},
   "outputs": [],
   "source": [
    "import polars as pl\n",
    "from sentence_transformers import SentenceTransformer, util\n",
    "import chromadb\n",
    "from chromadb.utils import embedding_functions\n",
    "import os\n",
    "import pinecone\n",
    "from tqdm.auto import tqdm"
   ]
  },
  {
   "cell_type": "code",
   "execution_count": 2,
   "metadata": {},
   "outputs": [
    {
     "name": "stderr",
     "output_type": "stream",
     "text": [
      "/Users/mmenendezg/Developer/Platzi/.venv/lib/python3.11/site-packages/tensorflow_io/python/ops/__init__.py:98: UserWarning: unable to load libtensorflow_io_plugins.so: unable to open file: libtensorflow_io_plugins.so, from paths: ['/Users/mmenendezg/Developer/Platzi/.venv/lib/python3.11/site-packages/tensorflow_io/python/ops/libtensorflow_io_plugins.so']\n",
      "caused by: [\"[Errno 2] The file to load file system plugin from does not exist.: '/Users/mmenendezg/Developer/Platzi/.venv/lib/python3.11/site-packages/tensorflow_io/python/ops/libtensorflow_io_plugins.so'\"]\n",
      "  warnings.warn(f\"unable to load libtensorflow_io_plugins.so: {e}\")\n",
      "/Users/mmenendezg/Developer/Platzi/.venv/lib/python3.11/site-packages/tensorflow_io/python/ops/__init__.py:104: UserWarning: file system plugins are not loaded: unable to open file: libtensorflow_io.so, from paths: ['/Users/mmenendezg/Developer/Platzi/.venv/lib/python3.11/site-packages/tensorflow_io/python/ops/libtensorflow_io.so']\n",
      "caused by: [\"dlopen(/Users/mmenendezg/Developer/Platzi/.venv/lib/python3.11/site-packages/tensorflow_io/python/ops/libtensorflow_io.so, 0x0006): tried: '/Users/mmenendezg/Developer/Platzi/.venv/lib/python3.11/site-packages/tensorflow_io/python/ops/libtensorflow_io.so' (no such file), '/System/Volumes/Preboot/Cryptexes/OS/Users/mmenendezg/Developer/Platzi/.venv/lib/python3.11/site-packages/tensorflow_io/python/ops/libtensorflow_io.so' (no such file), '/Users/mmenendezg/Developer/Platzi/.venv/lib/python3.11/site-packages/tensorflow_io/python/ops/libtensorflow_io.so' (no such file)\"]\n",
      "  warnings.warn(f\"file system plugins are not loaded: {e}\")\n"
     ]
    }
   ],
   "source": [
    "model = SentenceTransformer(\"sentence-transformers/all-MiniLM-L6-v2\")"
   ]
  },
  {
   "cell_type": "code",
   "execution_count": 3,
   "metadata": {},
   "outputs": [],
   "source": [
    "def get_embeddings(text):\n",
    "    return model.encode(text).tolist()"
   ]
  },
  {
   "cell_type": "code",
   "execution_count": 4,
   "metadata": {},
   "outputs": [],
   "source": [
    "df = (\n",
    "    pl.scan_csv(\"../data/imdb_top_1000.csv\")\n",
    "    .drop(\"\")\n",
    "    .with_row_count(\"ids\")\n",
    "    .with_columns(\n",
    "        [\n",
    "            pl.format(\"{} {} {}\", \"Title\", \"Description\", \"Cast\").alias(\"text\"),\n",
    "            pl.col(\"ids\").cast(pl.Utf8),\n",
    "        ]\n",
    "    )\n",
    "    .with_columns(pl.col(\"text\").apply(get_embeddings).alias(\"embeddings\"))\n",
    "    .collect()\n",
    ")"
   ]
  },
  {
   "cell_type": "markdown",
   "metadata": {},
   "source": [
    "# Chroma"
   ]
  },
  {
   "cell_type": "code",
   "execution_count": null,
   "metadata": {},
   "outputs": [],
   "source": [
    "openai_api_key = os.environ[\"OPENAI_API_KEY\"]\n",
    "\n",
    "openai_ef = embedding_functions.OpenAIEmbeddingFunction(\n",
    "    api_key=openai_api_key, model_name=\"text_embedding-ada-002\"\n",
    ")\n",
    "\n",
    "sentence_transformer_ef = embedding_functions.SentenceTransformerEmbeddingFunction(\n",
    "    model_name=\"all-MiniLM-L6-v2\"\n",
    ")"
   ]
  },
  {
   "cell_type": "code",
   "execution_count": null,
   "metadata": {},
   "outputs": [],
   "source": [
    "chroma_client = chromadb.Client()\n",
    "client_persistent = chromadb.PersistentClient(path=\"../data/data-embeddings\")\n",
    "db = client_persistent.create_collection(\n",
    "    name=\"movies_db\", embedding_function=sentence_transformer_ef\n",
    ")"
   ]
  },
  {
   "cell_type": "code",
   "execution_count": null,
   "metadata": {},
   "outputs": [],
   "source": []
  },
  {
   "cell_type": "code",
   "execution_count": null,
   "metadata": {},
   "outputs": [],
   "source": [
    "db.add(\n",
    "    ids=df[\"ids\"].to_list(),\n",
    "    embeddings=df[\"embeddings\"].to_list(),\n",
    "    metadatas=(\n",
    "        df.drop([\"ids\", \"embeddings\", \"text\"]).with_columns(\n",
    "            [pl.col(\"Certificate\").fill_null(0), pl.col(\"Metascore\").fill_null(0)]\n",
    "        )\n",
    "    ).to_dicts(),\n",
    ")"
   ]
  },
  {
   "cell_type": "code",
   "execution_count": null,
   "metadata": {},
   "outputs": [],
   "source": [
    "db.peek(1)"
   ]
  },
  {
   "cell_type": "markdown",
   "metadata": {},
   "source": [
    "## Chroma Embeddings"
   ]
  },
  {
   "cell_type": "code",
   "execution_count": null,
   "metadata": {},
   "outputs": [],
   "source": [
    "db_no_embeddings = client_persistent.create_collection(\n",
    "    name=\"movies_db_no_embeddings\", embedding_function=sentence_transformer_ef\n",
    ")"
   ]
  },
  {
   "cell_type": "code",
   "execution_count": null,
   "metadata": {},
   "outputs": [],
   "source": [
    "db_no_embeddings.add(\n",
    "    ids=df[\"ids\"].to_list(),\n",
    "    documents=df[\"text\"].to_list(),\n",
    "    metadatas=(\n",
    "        df.drop([\"ids\", \"embeddings\", \"text\"]).with_columns(\n",
    "            [pl.col(\"Certificate\").fill_null(0), pl.col(\"Metascore\").fill_null(0)]\n",
    "        )\n",
    "    ).to_dicts(),\n",
    ")"
   ]
  },
  {
   "cell_type": "code",
   "execution_count": null,
   "metadata": {},
   "outputs": [],
   "source": [
    "db_no_embeddings.peek(1)"
   ]
  },
  {
   "cell_type": "code",
   "execution_count": null,
   "metadata": {},
   "outputs": [],
   "source": [
    "db_no_embeddings.delete(ids=[\"0\"])"
   ]
  },
  {
   "cell_type": "code",
   "execution_count": null,
   "metadata": {},
   "outputs": [],
   "source": [
    "db_no_embeddings.peek(1)"
   ]
  },
  {
   "cell_type": "markdown",
   "metadata": {},
   "source": [
    "## Chroma Query"
   ]
  },
  {
   "cell_type": "code",
   "execution_count": null,
   "metadata": {},
   "outputs": [],
   "source": [
    "results = db_no_embeddings.query(\n",
    "    query_texts=[\"a history of the second world war\"], n_results=3\n",
    ")"
   ]
  },
  {
   "cell_type": "code",
   "execution_count": null,
   "metadata": {},
   "outputs": [],
   "source": [
    "results[\"metadatas\"][0][1]"
   ]
  },
  {
   "cell_type": "code",
   "execution_count": null,
   "metadata": {},
   "outputs": [],
   "source": [
    "for result in results[\"metadatas\"][0]:\n",
    "    print(f\"->>{result['Title']}\\n\")"
   ]
  },
  {
   "cell_type": "code",
   "execution_count": null,
   "metadata": {},
   "outputs": [],
   "source": [
    "results_where = db_no_embeddings.query(\n",
    "    query_texts=[\"A history of a romance where one dies\"],\n",
    "    n_results=3,\n",
    "    where={\"Rate\": {\"$gte\": 8}},\n",
    ")"
   ]
  },
  {
   "cell_type": "code",
   "execution_count": null,
   "metadata": {},
   "outputs": [],
   "source": [
    "for result in results_where[\"metadatas\"][0]:\n",
    "    print(f\"->>{result['Title']}\\n\")"
   ]
  },
  {
   "cell_type": "code",
   "execution_count": null,
   "metadata": {},
   "outputs": [],
   "source": [
    "results_where = db_no_embeddings.query(\n",
    "    query_texts=[\"A history of a romance where one dies\"],\n",
    "    n_results=3,\n",
    "    where={\"$and\": [{\"Rate\": {\"$gte\": 8}}, {\"Metascore\": {\"$gte\": 80}}]},\n",
    ")\n",
    "for result in results_where[\"metadatas\"][0]:\n",
    "    print(f\"->>{result['Title']}\\n\")"
   ]
  },
  {
   "cell_type": "markdown",
   "metadata": {},
   "source": [
    "## Load chroma registers"
   ]
  },
  {
   "cell_type": "code",
   "execution_count": null,
   "metadata": {},
   "outputs": [],
   "source": [
    "client_persistent_2 = chromadb.PersistentClient(path=\"../data/data-embeddings/\")\n",
    "db2 = client_persistent_2.get_collection(\"movies_db_no_embeddings\")\n",
    "db2.peek(1)"
   ]
  },
  {
   "cell_type": "markdown",
   "metadata": {},
   "source": [
    "# Pinecone"
   ]
  },
  {
   "cell_type": "code",
   "execution_count": 5,
   "metadata": {},
   "outputs": [],
   "source": [
    "pinecone_api_key = os.environ[\"PINECONE_API_KEY\"]\n",
    "pinecone.init(api_key=pinecone_api_key, environment=\"gcp-starter\")\n",
    "dimension_embeddings = len(df[\"embeddings\"][0])\n",
    "pinecone.create_index(\n",
    "    \"movies-embeddings\", dimension=dimension_embeddings, metric=\"cosine\"\n",
    ")\n",
    "index = pinecone.Index(\"movies-embeddings\")"
   ]
  },
  {
   "cell_type": "code",
   "execution_count": 6,
   "metadata": {},
   "outputs": [],
   "source": [
    "df = df.with_columns(\n",
    "    [pl.col(\"Certificate\").fill_null(\"\"), pl.col(\"Metascore\").fill_null(\"\")]\n",
    ")"
   ]
  },
  {
   "cell_type": "code",
   "execution_count": 7,
   "metadata": {},
   "outputs": [
    {
     "data": {
      "application/vnd.jupyter.widget-view+json": {
       "model_id": "f8b8d1785c07483e98bbdcdab77e8ffb",
       "version_major": 2,
       "version_minor": 0
      },
      "text/plain": [
       "  0%|          | 0/16 [00:00<?, ?it/s]"
      ]
     },
     "metadata": {},
     "output_type": "display_data"
    },
    {
     "data": {
      "text/plain": [
       "{'dimension': 384,\n",
       " 'index_fullness': 0.0,\n",
       " 'namespaces': {},\n",
       " 'total_vector_count': 0}"
      ]
     },
     "execution_count": 7,
     "metadata": {},
     "output_type": "execute_result"
    }
   ],
   "source": [
    "batch_size = 64\n",
    "for i in tqdm(range(0, len(df), batch_size)):\n",
    "    i_end = min(i + batch_size, len(df))\n",
    "    # Get batch of data\n",
    "    batch = df[i:i_end]\n",
    "    # Generate embeddings for the batch\n",
    "    ids = batch[\"ids\"].to_list()\n",
    "    emb = batch[\"embeddings\"].to_list()\n",
    "    metadata = batch.drop([\"ids\", \"embeddings\", \"text\"]).to_dicts()\n",
    "\n",
    "    # Update or add values to the database\n",
    "    to_upsert = list(zip(ids, emb, metadata))\n",
    "    _ = index.upsert(to_upsert)\n",
    "\n",
    "index.describe_index_stats()"
   ]
  },
  {
   "cell_type": "code",
   "execution_count": 8,
   "metadata": {},
   "outputs": [
    {
     "data": {
      "text/plain": [
       "{'namespace': '',\n",
       " 'vectors': {'0': {'id': '0',\n",
       "                   'metadata': {'Cast': 'Director: Frank Darabont | Stars: Tim '\n",
       "                                        'Robbins, Morgan Freeman, Bob Gunton, '\n",
       "                                        'William Sadler',\n",
       "                                'Certificate': 'R',\n",
       "                                'Description': 'Two imprisoned men bond over a '\n",
       "                                               'number of years, finding '\n",
       "                                               'solace and eventual redemption '\n",
       "                                               'through acts of common '\n",
       "                                               'decency.',\n",
       "                                'Duration': '142 min',\n",
       "                                'Genre': 'Drama',\n",
       "                                'Info': 'Votes: 2,295,987 | Gross: $28.34M',\n",
       "                                'Metascore': '80',\n",
       "                                'Rate': 9.3,\n",
       "                                'Title': '1. The Shawshank Redemption (1994)'},\n",
       "                   'values': [-0.123317607,\n",
       "                              -0.0329927243,\n",
       "                              -0.081794329,\n",
       "                              -0.0383751579,\n",
       "                              0.0151425591,\n",
       "                              0.0531365387,\n",
       "                              0.0720962137,\n",
       "                              -0.0492281504,\n",
       "                              0.0888941064,\n",
       "                              -0.0863627195,\n",
       "                              0.00448204577,\n",
       "                              0.03479027,\n",
       "                              -0.0419193618,\n",
       "                              0.0635724366,\n",
       "                              -0.0151256472,\n",
       "                              -0.0269159451,\n",
       "                              -0.0200404581,\n",
       "                              0.0449503176,\n",
       "                              0.0394336954,\n",
       "                              0.0251982287,\n",
       "                              0.022110777,\n",
       "                              -0.00521939388,\n",
       "                              0.0452961251,\n",
       "                              -0.0453493223,\n",
       "                              -0.0181260686,\n",
       "                              -0.00835999846,\n",
       "                              0.0134275,\n",
       "                              -0.0791391134,\n",
       "                              -0.064524956,\n",
       "                              0.0733923167,\n",
       "                              0.0335887484,\n",
       "                              0.00213205931,\n",
       "                              0.00923072733,\n",
       "                              0.00373327057,\n",
       "                              0.0342421941,\n",
       "                              0.0518064536,\n",
       "                              0.0181509778,\n",
       "                              -0.055415839,\n",
       "                              0.0578931496,\n",
       "                              -0.0672528,\n",
       "                              -0.0054649557,\n",
       "                              0.0384727493,\n",
       "                              0.0770624,\n",
       "                              -0.010119753,\n",
       "                              0.0852385759,\n",
       "                              -0.08604265,\n",
       "                              -0.0317068212,\n",
       "                              -0.071603328,\n",
       "                              -0.0130562484,\n",
       "                              -0.0664863065,\n",
       "                              -0.0289822351,\n",
       "                              0.0630487204,\n",
       "                              -0.0598590076,\n",
       "                              0.0393083394,\n",
       "                              0.00269927969,\n",
       "                              -0.0706665069,\n",
       "                              -0.0411697589,\n",
       "                              0.00712736463,\n",
       "                              -0.0535264239,\n",
       "                              -0.0791493729,\n",
       "                              -0.00282731582,\n",
       "                              -0.00846957695,\n",
       "                              0.00953733176,\n",
       "                              0.0410947353,\n",
       "                              0.0491202623,\n",
       "                              0.0559298806,\n",
       "                              -0.0479538329,\n",
       "                              -0.024499299,\n",
       "                              0.0267185885,\n",
       "                              0.00245424407,\n",
       "                              -0.074402906,\n",
       "                              0.0388899595,\n",
       "                              -0.0732521117,\n",
       "                              -0.143354043,\n",
       "                              0.00674891146,\n",
       "                              -0.0651534423,\n",
       "                              -0.0473323576,\n",
       "                              0.0827920213,\n",
       "                              -0.0608083904,\n",
       "                              -0.081698589,\n",
       "                              -0.0372351073,\n",
       "                              -0.102181241,\n",
       "                              -0.0182228032,\n",
       "                              0.115585551,\n",
       "                              -0.0566822439,\n",
       "                              0.0202138796,\n",
       "                              0.00646901317,\n",
       "                              0.0393987671,\n",
       "                              -0.016294172,\n",
       "                              0.0677409619,\n",
       "                              0.0406443253,\n",
       "                              0.0596401431,\n",
       "                              0.0205869265,\n",
       "                              0.0413246416,\n",
       "                              -0.068526186,\n",
       "                              -0.0411217734,\n",
       "                              -0.0450276695,\n",
       "                              0.0155312568,\n",
       "                              -0.0746565536,\n",
       "                              0.0368367881,\n",
       "                              0.00123319204,\n",
       "                              -0.0399417244,\n",
       "                              -0.0547899865,\n",
       "                              -0.123220287,\n",
       "                              0.121081829,\n",
       "                              0.0431655645,\n",
       "                              0.0139175747,\n",
       "                              -0.0807964578,\n",
       "                              0.0229654424,\n",
       "                              -0.0227719378,\n",
       "                              -0.00262295571,\n",
       "                              0.0274780672,\n",
       "                              0.0303719975,\n",
       "                              0.0995478258,\n",
       "                              0.072385259,\n",
       "                              0.0389589854,\n",
       "                              -0.0332231857,\n",
       "                              0.034888953,\n",
       "                              0.0433334261,\n",
       "                              0.0835729241,\n",
       "                              0.0555240735,\n",
       "                              0.014342363,\n",
       "                              -0.00659623556,\n",
       "                              0.0234476291,\n",
       "                              -0.132437289,\n",
       "                              -0.0353001207,\n",
       "                              -0.0178974923,\n",
       "                              1.80551102e-33,\n",
       "                              0.0223900694,\n",
       "                              -0.025891073,\n",
       "                              0.0440379195,\n",
       "                              -0.0206597708,\n",
       "                              -0.0324059092,\n",
       "                              -0.00436024647,\n",
       "                              -0.0665613636,\n",
       "                              0.0065653543,\n",
       "                              -0.0574876703,\n",
       "                              -0.00459040795,\n",
       "                              -0.0338716395,\n",
       "                              -0.0839303955,\n",
       "                              -0.0211269949,\n",
       "                              -0.0304226745,\n",
       "                              -0.0221904013,\n",
       "                              -0.00853914302,\n",
       "                              -0.0047004479,\n",
       "                              0.0117303068,\n",
       "                              0.125335932,\n",
       "                              -0.0392925,\n",
       "                              -0.00769147882,\n",
       "                              0.0755429044,\n",
       "                              0.00550271245,\n",
       "                              0.00150317606,\n",
       "                              -0.0754725188,\n",
       "                              -0.0726673082,\n",
       "                              -0.0223046355,\n",
       "                              0.0578186102,\n",
       "                              0.0501976572,\n",
       "                              0.00222431915,\n",
       "                              -0.00816294551,\n",
       "                              0.0888797194,\n",
       "                              0.0917639732,\n",
       "                              -0.01997393,\n",
       "                              0.0466287658,\n",
       "                              0.0230804831,\n",
       "                              -0.0179827753,\n",
       "                              0.0180750787,\n",
       "                              0.0340495631,\n",
       "                              0.0417356566,\n",
       "                              -0.0343583301,\n",
       "                              0.032418821,\n",
       "                              -0.0173111111,\n",
       "                              -0.038709648,\n",
       "                              0.0127730556,\n",
       "                              -0.0147719784,\n",
       "                              0.0342607647,\n",
       "                              0.0225955434,\n",
       "                              -0.0586659573,\n",
       "                              0.0714218915,\n",
       "                              -0.0510930829,\n",
       "                              0.0217225254,\n",
       "                              0.00707077282,\n",
       "                              -0.0634419769,\n",
       "                              -0.109320588,\n",
       "                              0.0462704934,\n",
       "                              -0.00281087146,\n",
       "                              -0.00779754715,\n",
       "                              -0.0183938537,\n",
       "                              0.0593939126,\n",
       "                              0.042568896,\n",
       "                              -0.0682990626,\n",
       "                              0.00602889806,\n",
       "                              0.00148297229,\n",
       "                              -0.0640422478,\n",
       "                              0.00935495831,\n",
       "                              0.0745292157,\n",
       "                              0.0226372201,\n",
       "                              -0.0747396424,\n",
       "                              0.0674923137,\n",
       "                              -0.100317493,\n",
       "                              0.000166649785,\n",
       "                              0.0141010163,\n",
       "                              0.010867266,\n",
       "                              0.0229062941,\n",
       "                              -0.0267440621,\n",
       "                              0.030126879,\n",
       "                              0.0823361129,\n",
       "                              -0.0484287366,\n",
       "                              0.000911414449,\n",
       "                              -0.0290605407,\n",
       "                              0.0133855641,\n",
       "                              -0.0173650887,\n",
       "                              -0.0202564038,\n",
       "                              -0.0530781038,\n",
       "                              0.0134703489,\n",
       "                              0.00644229306,\n",
       "                              -0.0801989734,\n",
       "                              0.0627562255,\n",
       "                              0.0790628344,\n",
       "                              0.0303018671,\n",
       "                              -0.026136104,\n",
       "                              -0.0683784783,\n",
       "                              -0.0306552704,\n",
       "                              0.0633897558,\n",
       "                              -4.04817149e-33,\n",
       "                              0.0852636322,\n",
       "                              -0.047256384,\n",
       "                              -0.0980263799,\n",
       "                              -0.0936059505,\n",
       "                              0.00130581297,\n",
       "                              0.0104682399,\n",
       "                              -0.0774862766,\n",
       "                              -0.0401067175,\n",
       "                              0.0635812506,\n",
       "                              0.00887034275,\n",
       "                              -0.080245629,\n",
       "                              -0.0201538969,\n",
       "                              0.0541273914,\n",
       "                              0.0334676541,\n",
       "                              -0.0396971777,\n",
       "                              0.0553499535,\n",
       "                              -0.0398946106,\n",
       "                              -0.0164097026,\n",
       "                              -0.000156128037,\n",
       "                              0.0591407828,\n",
       "                              0.0581803843,\n",
       "                              -0.0437399596,\n",
       "                              -0.0378644243,\n",
       "                              -0.0550448038,\n",
       "                              -0.0253678598,\n",
       "                              0.0444905683,\n",
       "                              -0.0116294418,\n",
       "                              0.0877437666,\n",
       "                              -0.0679284334,\n",
       "                              -0.0430481695,\n",
       "                              -0.0311499145,\n",
       "                              -0.0605036356,\n",
       "                              -0.070247069,\n",
       "                              -0.00263556489,\n",
       "                              -0.0728528276,\n",
       "                              0.0528374724,\n",
       "                              0.079150632,\n",
       "                              -0.0586864613,\n",
       "                              0.00941777229,\n",
       "                              0.0165962316,\n",
       "                              0.0271529052,\n",
       "                              0.0163357332,\n",
       "                              -0.0488100424,\n",
       "                              0.0365822949,\n",
       "                              0.0216560401,\n",
       "                              -0.016749626,\n",
       "                              -0.0436897762,\n",
       "                              0.0075172442,\n",
       "                              -0.0839808956,\n",
       "                              -0.0318056047,\n",
       "                              -0.0828134194,\n",
       "                              0.0299522,\n",
       "                              -0.0145636275,\n",
       "                              -0.0231261775,\n",
       "                              0.0206583813,\n",
       "                              0.00922084413,\n",
       "                              0.0435752757,\n",
       "                              0.0446632,\n",
       "                              0.0844320059,\n",
       "                              -0.0106868707,\n",
       "                              -0.09062922,\n",
       "                              0.0162076466,\n",
       "                              -0.00111478532,\n",
       "                              0.000644061831,\n",
       "                              0.00237916247,\n",
       "                              -0.0571490526,\n",
       "                              -0.0344791748,\n",
       "                              -0.0526057556,\n",
       "                              -0.0254530162,\n",
       "                              0.00991456863,\n",
       "                              0.0346109085,\n",
       "                              -0.0619683526,\n",
       "                              -0.0229965076,\n",
       "                              -0.0720474944,\n",
       "                              -0.0464562736,\n",
       "                              0.0746922791,\n",
       "                              -0.0130538931,\n",
       "                              -0.0142932776,\n",
       "                              -0.0643905,\n",
       "                              -0.0464329794,\n",
       "                              0.0489221327,\n",
       "                              0.00993016176,\n",
       "                              0.0216273386,\n",
       "                              0.047557082,\n",
       "                              -0.0701379851,\n",
       "                              0.0884907618,\n",
       "                              0.167221248,\n",
       "                              0.0398413949,\n",
       "                              -0.0262476578,\n",
       "                              0.00181968859,\n",
       "                              0.0102889277,\n",
       "                              -0.0227680355,\n",
       "                              0.126224905,\n",
       "                              0.0402079709,\n",
       "                              -0.0158659872,\n",
       "                              -3.5509256e-08,\n",
       "                              -0.0674232,\n",
       "                              0.0298601706,\n",
       "                              -0.125909269,\n",
       "                              0.0451082774,\n",
       "                              -0.0521844067,\n",
       "                              0.0588008426,\n",
       "                              -0.0181114264,\n",
       "                              0.0816992223,\n",
       "                              -0.0646325722,\n",
       "                              0.00792115368,\n",
       "                              0.0182879101,\n",
       "                              -0.0291207358,\n",
       "                              0.0184376128,\n",
       "                              -0.0294511672,\n",
       "                              -0.0635634437,\n",
       "                              0.0534605607,\n",
       "                              0.0070066303,\n",
       "                              -0.0544492342,\n",
       "                              0.0193443578,\n",
       "                              -0.0123400176,\n",
       "                              0.0325987563,\n",
       "                              -0.0355944335,\n",
       "                              0.109757684,\n",
       "                              0.0302307121,\n",
       "                              -0.0126567325,\n",
       "                              0.0422144,\n",
       "                              -0.0225945748,\n",
       "                              -0.031964615,\n",
       "                              0.0302521624,\n",
       "                              0.0635332,\n",
       "                              -0.0124517325,\n",
       "                              -0.0491391718,\n",
       "                              0.0559893884,\n",
       "                              -0.0323678032,\n",
       "                              0.0598091744,\n",
       "                              -0.00545705855,\n",
       "                              -0.0435117558,\n",
       "                              -0.0387716107,\n",
       "                              0.131704763,\n",
       "                              0.0396451652,\n",
       "                              0.0382489413,\n",
       "                              0.0309234466,\n",
       "                              -0.0625129417,\n",
       "                              0.000943036866,\n",
       "                              0.0737339631,\n",
       "                              0.0628551692,\n",
       "                              0.0310666543,\n",
       "                              0.00908033,\n",
       "                              0.0692652166,\n",
       "                              0.0513401777,\n",
       "                              0.0788885,\n",
       "                              -0.000429230189,\n",
       "                              -0.00923826545,\n",
       "                              0.0144409267,\n",
       "                              0.0727860332,\n",
       "                              0.0168013368,\n",
       "                              -0.00339509523,\n",
       "                              0.0503253415,\n",
       "                              -0.0041374038,\n",
       "                              -0.0136296209,\n",
       "                              0.0189657453,\n",
       "                              0.0157305934,\n",
       "                              -0.0383409187,\n",
       "                              -0.0267379228]}}}"
      ]
     },
     "execution_count": 8,
     "metadata": {},
     "output_type": "execute_result"
    }
   ],
   "source": [
    "index.fetch([\"0\"])"
   ]
  },
  {
   "cell_type": "code",
   "execution_count": 9,
   "metadata": {},
   "outputs": [
    {
     "data": {
      "text/plain": [
       "{'namespace': '', 'vectors': {}}"
      ]
     },
     "execution_count": 9,
     "metadata": {},
     "output_type": "execute_result"
    }
   ],
   "source": [
    "index.delete(ids=[\"0\"])\n",
    "index.fetch([\"0\"])"
   ]
  },
  {
   "cell_type": "markdown",
   "metadata": {},
   "source": [
    "## Pinecone Query"
   ]
  },
  {
   "cell_type": "code",
   "execution_count": 10,
   "metadata": {},
   "outputs": [],
   "source": [
    "model = SentenceTransformer(\"sentence-transformers/all-MiniLM-L6-v2\")\n",
    "query = \"A world war I story\"\n",
    "query_vector = model.encode(query).tolist()\n",
    "\n",
    "responses = index.query(vector=query_vector, top_k=3, include_metadata=True)"
   ]
  },
  {
   "cell_type": "code",
   "execution_count": 11,
   "metadata": {},
   "outputs": [
    {
     "data": {
      "text/plain": [
       "{'matches': [], 'namespace': ''}"
      ]
     },
     "execution_count": 11,
     "metadata": {},
     "output_type": "execute_result"
    }
   ],
   "source": [
    "responses"
   ]
  },
  {
   "cell_type": "markdown",
   "metadata": {},
   "source": [
    "## Pinecone Filters"
   ]
  },
  {
   "cell_type": "code",
   "execution_count": 12,
   "metadata": {},
   "outputs": [],
   "source": [
    "query = \"a science fiction movie about the space\"\n",
    "query_vector = model.encode(query).tolist()"
   ]
  },
  {
   "cell_type": "code",
   "execution_count": 13,
   "metadata": {},
   "outputs": [],
   "source": [
    "responses = index.query(\n",
    "    vector=query_vector,\n",
    "    top_k=3,\n",
    "    include_metadata=True,\n",
    "    filter={\"Genre\": {\"$ne\": \"Horror, Sci-Fi\"}},\n",
    ")"
   ]
  },
  {
   "cell_type": "code",
   "execution_count": 14,
   "metadata": {},
   "outputs": [
    {
     "data": {
      "text/plain": [
       "{'matches': [], 'namespace': ''}"
      ]
     },
     "execution_count": 14,
     "metadata": {},
     "output_type": "execute_result"
    }
   ],
   "source": [
    "responses"
   ]
  },
  {
   "cell_type": "markdown",
   "metadata": {},
   "source": [
    "## Load Index"
   ]
  },
  {
   "cell_type": "code",
   "execution_count": 16,
   "metadata": {},
   "outputs": [],
   "source": [
    "pinecone.init(api_key=pinecone_api_key, environment=\"gcp-starter\")\n",
    "index_2 = pinecone.Index(\"movies-embeddings\")\n",
    "query = \"An space journey movie\"\n",
    "query_vector = model.encode(query).tolist()\n",
    "responses = index_2.query(\n",
    "    vector=query_vector,\n",
    "    top_k=3,\n",
    "    include_metadata=True,\n",
    "    filter={\"Genre\": {\"$ne\": \"Horror, Sci-Fi\"}},\n",
    ")"
   ]
  },
  {
   "cell_type": "code",
   "execution_count": 17,
   "metadata": {},
   "outputs": [
    {
     "data": {
      "text/plain": [
       "{'matches': [{'id': '20',\n",
       "              'metadata': {'Cast': 'Director: Christopher Nolan | Stars: '\n",
       "                                   'Matthew McConaughey, Anne Hathaway, '\n",
       "                                   'Jessica Chastain, Mackenzie Foy',\n",
       "                           'Certificate': 'PG-13',\n",
       "                           'Description': 'A team of explorers travel through '\n",
       "                                          'a wormhole in space in an attempt '\n",
       "                                          \"to ensure humanity's survival.\",\n",
       "                           'Duration': '169 min',\n",
       "                           'Genre': 'Adventure, Drama, Sci-Fi',\n",
       "                           'Info': 'Votes: 1,468,447 | Gross: $188.02M',\n",
       "                           'Metascore': '74',\n",
       "                           'Rate': 8.6,\n",
       "                           'Title': '21. Interstellar (2014)'},\n",
       "              'score': 0.620471,\n",
       "              'values': []},\n",
       "             {'id': '427',\n",
       "              'metadata': {'Cast': 'Director: Ridley Scott | Stars: Matt '\n",
       "                                   'Damon, Jessica Chastain, Kristen Wiig, '\n",
       "                                   'Kate Mara',\n",
       "                           'Certificate': 'PG-13',\n",
       "                           'Description': 'An astronaut becomes stranded on '\n",
       "                                          'Mars after his team assume him '\n",
       "                                          'dead, and must rely on his '\n",
       "                                          'ingenuity to find a way to signal '\n",
       "                                          'to Earth that he is alive.',\n",
       "                           'Duration': '144 min',\n",
       "                           'Genre': 'Adventure, Drama, Sci-Fi',\n",
       "                           'Info': 'Votes: 746,037 | Gross: $228.43M',\n",
       "                           'Metascore': '80',\n",
       "                           'Rate': 8.0,\n",
       "                           'Title': '330. The Martian (2015)'},\n",
       "              'score': 0.502429128,\n",
       "              'values': []},\n",
       "             {'id': '327',\n",
       "              'metadata': {'Cast': 'Director: Ridley Scott | Stars: Matt '\n",
       "                                   'Damon, Jessica Chastain, Kristen Wiig, '\n",
       "                                   'Kate Mara',\n",
       "                           'Certificate': 'PG-13',\n",
       "                           'Description': 'An astronaut becomes stranded on '\n",
       "                                          'Mars after his team assume him '\n",
       "                                          'dead, and must rely on his '\n",
       "                                          'ingenuity to find a way to signal '\n",
       "                                          'to Earth that he is alive.',\n",
       "                           'Duration': '144 min',\n",
       "                           'Genre': 'Adventure, Drama, Sci-Fi',\n",
       "                           'Info': 'Votes: 746,037 | Gross: $228.43M',\n",
       "                           'Metascore': '80',\n",
       "                           'Rate': 8.0,\n",
       "                           'Title': '330. The Martian (2015)'},\n",
       "              'score': 0.502429128,\n",
       "              'values': []}],\n",
       " 'namespace': ''}"
      ]
     },
     "execution_count": 17,
     "metadata": {},
     "output_type": "execute_result"
    }
   ],
   "source": [
    "responses"
   ]
  }
 ],
 "metadata": {
  "kernelspec": {
   "display_name": ".venv",
   "language": "python",
   "name": "python3"
  },
  "language_info": {
   "codemirror_mode": {
    "name": "ipython",
    "version": 3
   },
   "file_extension": ".py",
   "mimetype": "text/x-python",
   "name": "python",
   "nbconvert_exporter": "python",
   "pygments_lexer": "ipython3",
   "version": "3.11.6"
  }
 },
 "nbformat": 4,
 "nbformat_minor": 2
}
