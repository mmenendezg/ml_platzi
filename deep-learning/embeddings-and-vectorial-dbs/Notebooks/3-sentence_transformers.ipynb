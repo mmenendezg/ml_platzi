{
 "cells": [
  {
   "cell_type": "markdown",
   "metadata": {},
   "source": [
    "# Setup"
   ]
  },
  {
   "cell_type": "code",
   "execution_count": 18,
   "metadata": {},
   "outputs": [],
   "source": [
    "import pandas as pd\n",
    "from sentence_transformers import SentenceTransformer, util\n",
    "import torch"
   ]
  },
  {
   "cell_type": "markdown",
   "metadata": {},
   "source": [
    "# Load Dataset"
   ]
  },
  {
   "cell_type": "code",
   "execution_count": 4,
   "metadata": {},
   "outputs": [
    {
     "data": {
      "text/html": [
       "<div>\n",
       "<style scoped>\n",
       "    .dataframe tbody tr th:only-of-type {\n",
       "        vertical-align: middle;\n",
       "    }\n",
       "\n",
       "    .dataframe tbody tr th {\n",
       "        vertical-align: top;\n",
       "    }\n",
       "\n",
       "    .dataframe thead th {\n",
       "        text-align: right;\n",
       "    }\n",
       "</style>\n",
       "<table border=\"1\" class=\"dataframe\">\n",
       "  <thead>\n",
       "    <tr style=\"text-align: right;\">\n",
       "      <th></th>\n",
       "      <th>Character</th>\n",
       "      <th>script</th>\n",
       "      <th>ep_number</th>\n",
       "      <th>Book</th>\n",
       "      <th>total_number</th>\n",
       "    </tr>\n",
       "  </thead>\n",
       "  <tbody>\n",
       "    <tr>\n",
       "      <th>0</th>\n",
       "      <td>NaN</td>\n",
       "      <td>As the title card fades, the scene opens onto ...</td>\n",
       "      <td>1</td>\n",
       "      <td>1</td>\n",
       "      <td>1</td>\n",
       "    </tr>\n",
       "    <tr>\n",
       "      <th>1</th>\n",
       "      <td>Sokka</td>\n",
       "      <td>It's not getting away from me this time. [Clos...</td>\n",
       "      <td>1</td>\n",
       "      <td>1</td>\n",
       "      <td>1</td>\n",
       "    </tr>\n",
       "    <tr>\n",
       "      <th>2</th>\n",
       "      <td>NaN</td>\n",
       "      <td>The shot pans quickly from Sokka to Katara, wh...</td>\n",
       "      <td>1</td>\n",
       "      <td>1</td>\n",
       "      <td>1</td>\n",
       "    </tr>\n",
       "    <tr>\n",
       "      <th>3</th>\n",
       "      <td>Katara</td>\n",
       "      <td>[Happily surprised.] Sokka, look!</td>\n",
       "      <td>1</td>\n",
       "      <td>1</td>\n",
       "      <td>1</td>\n",
       "    </tr>\n",
       "    <tr>\n",
       "      <th>4</th>\n",
       "      <td>Sokka</td>\n",
       "      <td>[Close-up of Sokka; whispering.] Sshh! Katara,...</td>\n",
       "      <td>1</td>\n",
       "      <td>1</td>\n",
       "      <td>1</td>\n",
       "    </tr>\n",
       "  </tbody>\n",
       "</table>\n",
       "</div>"
      ],
      "text/plain": [
       "  Character                                             script  ep_number  \\\n",
       "0       NaN  As the title card fades, the scene opens onto ...          1   \n",
       "1     Sokka  It's not getting away from me this time. [Clos...          1   \n",
       "2       NaN  The shot pans quickly from Sokka to Katara, wh...          1   \n",
       "3    Katara                  [Happily surprised.] Sokka, look!          1   \n",
       "4     Sokka  [Close-up of Sokka; whispering.] Sshh! Katara,...          1   \n",
       "\n",
       "   Book  total_number  \n",
       "0     1             1  \n",
       "1     1             1  \n",
       "2     1             1  \n",
       "3     1             1  \n",
       "4     1             1  "
      ]
     },
     "execution_count": 4,
     "metadata": {},
     "output_type": "execute_result"
    }
   ],
   "source": [
    "df_avatar = pd.read_csv(\"../data/avatar-dataset.csv\")\n",
    "df_avatar.head()"
   ]
  },
  {
   "cell_type": "code",
   "execution_count": 5,
   "metadata": {},
   "outputs": [],
   "source": [
    "sentences = [\"This is the first example\", \"This is the second example\"]"
   ]
  },
  {
   "cell_type": "code",
   "execution_count": 6,
   "metadata": {},
   "outputs": [
    {
     "name": "stderr",
     "output_type": "stream",
     "text": [
      "/Users/mmenendezg/Developer/Platzi/.venv/lib/python3.11/site-packages/tensorflow_io/python/ops/__init__.py:98: UserWarning: unable to load libtensorflow_io_plugins.so: unable to open file: libtensorflow_io_plugins.so, from paths: ['/Users/mmenendezg/Developer/Platzi/.venv/lib/python3.11/site-packages/tensorflow_io/python/ops/libtensorflow_io_plugins.so']\n",
      "caused by: [\"[Errno 2] The file to load file system plugin from does not exist.: '/Users/mmenendezg/Developer/Platzi/.venv/lib/python3.11/site-packages/tensorflow_io/python/ops/libtensorflow_io_plugins.so'\"]\n",
      "  warnings.warn(f\"unable to load libtensorflow_io_plugins.so: {e}\")\n",
      "/Users/mmenendezg/Developer/Platzi/.venv/lib/python3.11/site-packages/tensorflow_io/python/ops/__init__.py:104: UserWarning: file system plugins are not loaded: unable to open file: libtensorflow_io.so, from paths: ['/Users/mmenendezg/Developer/Platzi/.venv/lib/python3.11/site-packages/tensorflow_io/python/ops/libtensorflow_io.so']\n",
      "caused by: [\"dlopen(/Users/mmenendezg/Developer/Platzi/.venv/lib/python3.11/site-packages/tensorflow_io/python/ops/libtensorflow_io.so, 0x0006): tried: '/Users/mmenendezg/Developer/Platzi/.venv/lib/python3.11/site-packages/tensorflow_io/python/ops/libtensorflow_io.so' (no such file), '/System/Volumes/Preboot/Cryptexes/OS/Users/mmenendezg/Developer/Platzi/.venv/lib/python3.11/site-packages/tensorflow_io/python/ops/libtensorflow_io.so' (no such file), '/Users/mmenendezg/Developer/Platzi/.venv/lib/python3.11/site-packages/tensorflow_io/python/ops/libtensorflow_io.so' (no such file)\"]\n",
      "  warnings.warn(f\"file system plugins are not loaded: {e}\")\n"
     ]
    }
   ],
   "source": [
    "model = SentenceTransformer(\"sentence-transformers/all-MiniLM-L6-v2\")\n",
    "embeddings = model.encode(sentences)"
   ]
  },
  {
   "cell_type": "code",
   "execution_count": 12,
   "metadata": {},
   "outputs": [
    {
     "data": {
      "text/plain": [
       "0.04896088"
      ]
     },
     "execution_count": 12,
     "metadata": {},
     "output_type": "execute_result"
    }
   ],
   "source": [
    "embeddings[0][383]"
   ]
  },
  {
   "cell_type": "code",
   "execution_count": 13,
   "metadata": {},
   "outputs": [
    {
     "data": {
      "application/vnd.jupyter.widget-view+json": {
       "model_id": "12b337b8ab8b486aac04aa1a241b2c0d",
       "version_major": 2,
       "version_minor": 0
      },
      "text/plain": [
       "Batches:   0%|          | 0/209 [00:00<?, ?it/s]"
      ]
     },
     "metadata": {},
     "output_type": "display_data"
    }
   ],
   "source": [
    "embeddings = model.encode(df_avatar[\"script\"], batch_size=64, show_progress_bar=True)"
   ]
  },
  {
   "cell_type": "code",
   "execution_count": 14,
   "metadata": {},
   "outputs": [
    {
     "data": {
      "application/vnd.jupyter.widget-view+json": {
       "model_id": "0a304947a3764173a5c5cdd529e84f2d",
       "version_major": 2,
       "version_minor": 0
      },
      "text/plain": [
       "Batches:   0%|          | 0/209 [00:00<?, ?it/s]"
      ]
     },
     "metadata": {},
     "output_type": "display_data"
    }
   ],
   "source": [
    "embeddings = model.encode(df_avatar[\"script\"], batch_size=64, show_progress_bar=True, device=\"cpu\")"
   ]
  },
  {
   "cell_type": "code",
   "execution_count": 15,
   "metadata": {},
   "outputs": [],
   "source": [
    "df_avatar[\"embeddngs\"] = embeddings.tolist()"
   ]
  },
  {
   "cell_type": "code",
   "execution_count": 17,
   "metadata": {},
   "outputs": [
    {
     "data": {
      "text/html": [
       "<div>\n",
       "<style scoped>\n",
       "    .dataframe tbody tr th:only-of-type {\n",
       "        vertical-align: middle;\n",
       "    }\n",
       "\n",
       "    .dataframe tbody tr th {\n",
       "        vertical-align: top;\n",
       "    }\n",
       "\n",
       "    .dataframe thead th {\n",
       "        text-align: right;\n",
       "    }\n",
       "</style>\n",
       "<table border=\"1\" class=\"dataframe\">\n",
       "  <thead>\n",
       "    <tr style=\"text-align: right;\">\n",
       "      <th></th>\n",
       "      <th>Character</th>\n",
       "      <th>script</th>\n",
       "      <th>ep_number</th>\n",
       "      <th>Book</th>\n",
       "      <th>total_number</th>\n",
       "      <th>embeddngs</th>\n",
       "    </tr>\n",
       "  </thead>\n",
       "  <tbody>\n",
       "    <tr>\n",
       "      <th>0</th>\n",
       "      <td>NaN</td>\n",
       "      <td>As the title card fades, the scene opens onto ...</td>\n",
       "      <td>1</td>\n",
       "      <td>1</td>\n",
       "      <td>1</td>\n",
       "      <td>[-0.07994642853736877, 0.08622035384178162, 0....</td>\n",
       "    </tr>\n",
       "    <tr>\n",
       "      <th>1</th>\n",
       "      <td>Sokka</td>\n",
       "      <td>It's not getting away from me this time. [Clos...</td>\n",
       "      <td>1</td>\n",
       "      <td>1</td>\n",
       "      <td>1</td>\n",
       "      <td>[0.01779155246913433, 0.05984475463628769, -0....</td>\n",
       "    </tr>\n",
       "    <tr>\n",
       "      <th>2</th>\n",
       "      <td>NaN</td>\n",
       "      <td>The shot pans quickly from Sokka to Katara, wh...</td>\n",
       "      <td>1</td>\n",
       "      <td>1</td>\n",
       "      <td>1</td>\n",
       "      <td>[-0.022184552624821663, 0.05684060975909233, -...</td>\n",
       "    </tr>\n",
       "    <tr>\n",
       "      <th>3</th>\n",
       "      <td>Katara</td>\n",
       "      <td>[Happily surprised.] Sokka, look!</td>\n",
       "      <td>1</td>\n",
       "      <td>1</td>\n",
       "      <td>1</td>\n",
       "      <td>[-0.01815211772918701, 0.11454905569553375, 0....</td>\n",
       "    </tr>\n",
       "    <tr>\n",
       "      <th>4</th>\n",
       "      <td>Sokka</td>\n",
       "      <td>[Close-up of Sokka; whispering.] Sshh! Katara,...</td>\n",
       "      <td>1</td>\n",
       "      <td>1</td>\n",
       "      <td>1</td>\n",
       "      <td>[-0.01388164795935154, 0.0842692106962204, -0....</td>\n",
       "    </tr>\n",
       "  </tbody>\n",
       "</table>\n",
       "</div>"
      ],
      "text/plain": [
       "  Character                                             script  ep_number  \\\n",
       "0       NaN  As the title card fades, the scene opens onto ...          1   \n",
       "1     Sokka  It's not getting away from me this time. [Clos...          1   \n",
       "2       NaN  The shot pans quickly from Sokka to Katara, wh...          1   \n",
       "3    Katara                  [Happily surprised.] Sokka, look!          1   \n",
       "4     Sokka  [Close-up of Sokka; whispering.] Sshh! Katara,...          1   \n",
       "\n",
       "   Book  total_number                                          embeddngs  \n",
       "0     1             1  [-0.07994642853736877, 0.08622035384178162, 0....  \n",
       "1     1             1  [0.01779155246913433, 0.05984475463628769, -0....  \n",
       "2     1             1  [-0.022184552624821663, 0.05684060975909233, -...  \n",
       "3     1             1  [-0.01815211772918701, 0.11454905569553375, 0....  \n",
       "4     1             1  [-0.01388164795935154, 0.0842692106962204, -0....  "
      ]
     },
     "execution_count": 17,
     "metadata": {},
     "output_type": "execute_result"
    }
   ],
   "source": [
    "df_avatar.head()"
   ]
  },
  {
   "cell_type": "markdown",
   "metadata": {},
   "source": [
    "# Searching"
   ]
  },
  {
   "cell_type": "code",
   "execution_count": 19,
   "metadata": {},
   "outputs": [],
   "source": [
    "query_embedding = model.encode([\"Show me your strength\"])\n",
    "\n",
    "df_avatar[\"similarity\"] = df_avatar.embeddngs.apply(lambda x: util.cos_sim(x, query_embedding[0]))"
   ]
  },
  {
   "cell_type": "code",
   "execution_count": 20,
   "metadata": {},
   "outputs": [
    {
     "data": {
      "text/html": [
       "<div>\n",
       "<style scoped>\n",
       "    .dataframe tbody tr th:only-of-type {\n",
       "        vertical-align: middle;\n",
       "    }\n",
       "\n",
       "    .dataframe tbody tr th {\n",
       "        vertical-align: top;\n",
       "    }\n",
       "\n",
       "    .dataframe thead th {\n",
       "        text-align: right;\n",
       "    }\n",
       "</style>\n",
       "<table border=\"1\" class=\"dataframe\">\n",
       "  <thead>\n",
       "    <tr style=\"text-align: right;\">\n",
       "      <th></th>\n",
       "      <th>Character</th>\n",
       "      <th>script</th>\n",
       "      <th>ep_number</th>\n",
       "      <th>Book</th>\n",
       "      <th>total_number</th>\n",
       "      <th>embeddngs</th>\n",
       "      <th>similarity</th>\n",
       "    </tr>\n",
       "  </thead>\n",
       "  <tbody>\n",
       "    <tr>\n",
       "      <th>0</th>\n",
       "      <td>NaN</td>\n",
       "      <td>As the title card fades, the scene opens onto ...</td>\n",
       "      <td>1</td>\n",
       "      <td>1</td>\n",
       "      <td>1</td>\n",
       "      <td>[-0.07994642853736877, 0.08622035384178162, 0....</td>\n",
       "      <td>[[tensor(0.0736)]]</td>\n",
       "    </tr>\n",
       "    <tr>\n",
       "      <th>1</th>\n",
       "      <td>Sokka</td>\n",
       "      <td>It's not getting away from me this time. [Clos...</td>\n",
       "      <td>1</td>\n",
       "      <td>1</td>\n",
       "      <td>1</td>\n",
       "      <td>[0.01779155246913433, 0.05984475463628769, -0....</td>\n",
       "      <td>[[tensor(0.1297)]]</td>\n",
       "    </tr>\n",
       "    <tr>\n",
       "      <th>2</th>\n",
       "      <td>NaN</td>\n",
       "      <td>The shot pans quickly from Sokka to Katara, wh...</td>\n",
       "      <td>1</td>\n",
       "      <td>1</td>\n",
       "      <td>1</td>\n",
       "      <td>[-0.022184552624821663, 0.05684060975909233, -...</td>\n",
       "      <td>[[tensor(0.0923)]]</td>\n",
       "    </tr>\n",
       "    <tr>\n",
       "      <th>3</th>\n",
       "      <td>Katara</td>\n",
       "      <td>[Happily surprised.] Sokka, look!</td>\n",
       "      <td>1</td>\n",
       "      <td>1</td>\n",
       "      <td>1</td>\n",
       "      <td>[-0.01815211772918701, 0.11454905569553375, 0....</td>\n",
       "      <td>[[tensor(0.0916)]]</td>\n",
       "    </tr>\n",
       "    <tr>\n",
       "      <th>4</th>\n",
       "      <td>Sokka</td>\n",
       "      <td>[Close-up of Sokka; whispering.] Sshh! Katara,...</td>\n",
       "      <td>1</td>\n",
       "      <td>1</td>\n",
       "      <td>1</td>\n",
       "      <td>[-0.01388164795935154, 0.0842692106962204, -0....</td>\n",
       "      <td>[[tensor(0.1331)]]</td>\n",
       "    </tr>\n",
       "  </tbody>\n",
       "</table>\n",
       "</div>"
      ],
      "text/plain": [
       "  Character                                             script  ep_number  \\\n",
       "0       NaN  As the title card fades, the scene opens onto ...          1   \n",
       "1     Sokka  It's not getting away from me this time. [Clos...          1   \n",
       "2       NaN  The shot pans quickly from Sokka to Katara, wh...          1   \n",
       "3    Katara                  [Happily surprised.] Sokka, look!          1   \n",
       "4     Sokka  [Close-up of Sokka; whispering.] Sshh! Katara,...          1   \n",
       "\n",
       "   Book  total_number                                          embeddngs  \\\n",
       "0     1             1  [-0.07994642853736877, 0.08622035384178162, 0....   \n",
       "1     1             1  [0.01779155246913433, 0.05984475463628769, -0....   \n",
       "2     1             1  [-0.022184552624821663, 0.05684060975909233, -...   \n",
       "3     1             1  [-0.01815211772918701, 0.11454905569553375, 0....   \n",
       "4     1             1  [-0.01388164795935154, 0.0842692106962204, -0....   \n",
       "\n",
       "           similarity  \n",
       "0  [[tensor(0.0736)]]  \n",
       "1  [[tensor(0.1297)]]  \n",
       "2  [[tensor(0.0923)]]  \n",
       "3  [[tensor(0.0916)]]  \n",
       "4  [[tensor(0.1331)]]  "
      ]
     },
     "execution_count": 20,
     "metadata": {},
     "output_type": "execute_result"
    }
   ],
   "source": [
    "df_avatar.head()"
   ]
  },
  {
   "cell_type": "code",
   "execution_count": 21,
   "metadata": {},
   "outputs": [
    {
     "data": {
      "text/html": [
       "<div>\n",
       "<style scoped>\n",
       "    .dataframe tbody tr th:only-of-type {\n",
       "        vertical-align: middle;\n",
       "    }\n",
       "\n",
       "    .dataframe tbody tr th {\n",
       "        vertical-align: top;\n",
       "    }\n",
       "\n",
       "    .dataframe thead th {\n",
       "        text-align: right;\n",
       "    }\n",
       "</style>\n",
       "<table border=\"1\" class=\"dataframe\">\n",
       "  <thead>\n",
       "    <tr style=\"text-align: right;\">\n",
       "      <th></th>\n",
       "      <th>Character</th>\n",
       "      <th>script</th>\n",
       "      <th>ep_number</th>\n",
       "      <th>Book</th>\n",
       "      <th>total_number</th>\n",
       "      <th>embeddngs</th>\n",
       "      <th>similarity</th>\n",
       "    </tr>\n",
       "  </thead>\n",
       "  <tbody>\n",
       "    <tr>\n",
       "      <th>12367</th>\n",
       "      <td>Katara</td>\n",
       "      <td>Oh, don't you worry about my strength. I have ...</td>\n",
       "      <td>16</td>\n",
       "      <td>3</td>\n",
       "      <td>56</td>\n",
       "      <td>[0.054552704095840454, 0.033963628113269806, -...</td>\n",
       "      <td>[[tensor(0.5567)]]</td>\n",
       "    </tr>\n",
       "    <tr>\n",
       "      <th>3671</th>\n",
       "      <td>Roku</td>\n",
       "      <td>You think I am weak?</td>\n",
       "      <td>16</td>\n",
       "      <td>1</td>\n",
       "      <td>16</td>\n",
       "      <td>[0.05899662524461746, -0.02860417403280735, -0...</td>\n",
       "      <td>[[tensor(0.5538)]]</td>\n",
       "    </tr>\n",
       "    <tr>\n",
       "      <th>9961</th>\n",
       "      <td>Azula</td>\n",
       "      <td>Your arms look so strong.</td>\n",
       "      <td>5</td>\n",
       "      <td>3</td>\n",
       "      <td>45</td>\n",
       "      <td>[-0.005173529032617807, 0.004467979539185762, ...</td>\n",
       "      <td>[[tensor(0.5153)]]</td>\n",
       "    </tr>\n",
       "    <tr>\n",
       "      <th>8801</th>\n",
       "      <td>Sokka</td>\n",
       "      <td>You don't know how much this means to me, Dad....</td>\n",
       "      <td>19</td>\n",
       "      <td>2</td>\n",
       "      <td>39</td>\n",
       "      <td>[0.024889236316084862, 0.061347633600234985, -...</td>\n",
       "      <td>[[tensor(0.4714)]]</td>\n",
       "    </tr>\n",
       "    <tr>\n",
       "      <th>13305</th>\n",
       "      <td>Ozai</td>\n",
       "      <td>Even with all the power in the world, you are ...</td>\n",
       "      <td>21</td>\n",
       "      <td>3</td>\n",
       "      <td>61</td>\n",
       "      <td>[0.06141240522265434, 0.01065730582922697, 0.0...</td>\n",
       "      <td>[[tensor(0.4669)]]</td>\n",
       "    </tr>\n",
       "    <tr>\n",
       "      <th>4389</th>\n",
       "      <td>Yue</td>\n",
       "      <td>Our strength comes from the spirit of the moon...</td>\n",
       "      <td>19</td>\n",
       "      <td>1</td>\n",
       "      <td>19</td>\n",
       "      <td>[-0.010262452997267246, 0.08041387796401978, 0...</td>\n",
       "      <td>[[tensor(0.4547)]]</td>\n",
       "    </tr>\n",
       "    <tr>\n",
       "      <th>6456</th>\n",
       "      <td>Azula</td>\n",
       "      <td>Do you really want to fight me?</td>\n",
       "      <td>8</td>\n",
       "      <td>2</td>\n",
       "      <td>28</td>\n",
       "      <td>[0.007166208233684301, 0.040309466421604156, 0...</td>\n",
       "      <td>[[tensor(0.4106)]]</td>\n",
       "    </tr>\n",
       "    <tr>\n",
       "      <th>1812</th>\n",
       "      <td>Roku</td>\n",
       "      <td>[Close-up.] Yes. Stronger than you could even ...</td>\n",
       "      <td>8</td>\n",
       "      <td>1</td>\n",
       "      <td>8</td>\n",
       "      <td>[0.010861261747777462, 0.07865262776613235, -0...</td>\n",
       "      <td>[[tensor(0.4094)]]</td>\n",
       "    </tr>\n",
       "    <tr>\n",
       "      <th>6442</th>\n",
       "      <td>Toph</td>\n",
       "      <td>People see me and think I'm weak. They want to...</td>\n",
       "      <td>8</td>\n",
       "      <td>2</td>\n",
       "      <td>28</td>\n",
       "      <td>[0.021143291145563126, 0.015663184225559235, 0...</td>\n",
       "      <td>[[tensor(0.4093)]]</td>\n",
       "    </tr>\n",
       "    <tr>\n",
       "      <th>902</th>\n",
       "      <td>Suki</td>\n",
       "      <td>[Peeks her head around the door to look at the...</td>\n",
       "      <td>4</td>\n",
       "      <td>1</td>\n",
       "      <td>4</td>\n",
       "      <td>[0.08349473029375076, 0.0786832720041275, -0.0...</td>\n",
       "      <td>[[tensor(0.3976)]]</td>\n",
       "    </tr>\n",
       "  </tbody>\n",
       "</table>\n",
       "</div>"
      ],
      "text/plain": [
       "      Character                                             script  ep_number  \\\n",
       "12367    Katara  Oh, don't you worry about my strength. I have ...         16   \n",
       "3671       Roku                               You think I am weak?         16   \n",
       "9961      Azula                          Your arms look so strong.          5   \n",
       "8801      Sokka  You don't know how much this means to me, Dad....         19   \n",
       "13305      Ozai  Even with all the power in the world, you are ...         21   \n",
       "4389        Yue  Our strength comes from the spirit of the moon...         19   \n",
       "6456      Azula                    Do you really want to fight me?          8   \n",
       "1812       Roku  [Close-up.] Yes. Stronger than you could even ...          8   \n",
       "6442       Toph  People see me and think I'm weak. They want to...          8   \n",
       "902        Suki  [Peeks her head around the door to look at the...          4   \n",
       "\n",
       "       Book  total_number                                          embeddngs  \\\n",
       "12367     3            56  [0.054552704095840454, 0.033963628113269806, -...   \n",
       "3671      1            16  [0.05899662524461746, -0.02860417403280735, -0...   \n",
       "9961      3            45  [-0.005173529032617807, 0.004467979539185762, ...   \n",
       "8801      2            39  [0.024889236316084862, 0.061347633600234985, -...   \n",
       "13305     3            61  [0.06141240522265434, 0.01065730582922697, 0.0...   \n",
       "4389      1            19  [-0.010262452997267246, 0.08041387796401978, 0...   \n",
       "6456      2            28  [0.007166208233684301, 0.040309466421604156, 0...   \n",
       "1812      1             8  [0.010861261747777462, 0.07865262776613235, -0...   \n",
       "6442      2            28  [0.021143291145563126, 0.015663184225559235, 0...   \n",
       "902       1             4  [0.08349473029375076, 0.0786832720041275, -0.0...   \n",
       "\n",
       "               similarity  \n",
       "12367  [[tensor(0.5567)]]  \n",
       "3671   [[tensor(0.5538)]]  \n",
       "9961   [[tensor(0.5153)]]  \n",
       "8801   [[tensor(0.4714)]]  \n",
       "13305  [[tensor(0.4669)]]  \n",
       "4389   [[tensor(0.4547)]]  \n",
       "6456   [[tensor(0.4106)]]  \n",
       "1812   [[tensor(0.4094)]]  \n",
       "6442   [[tensor(0.4093)]]  \n",
       "902    [[tensor(0.3976)]]  "
      ]
     },
     "execution_count": 21,
     "metadata": {},
     "output_type": "execute_result"
    }
   ],
   "source": [
    "df_avatar.sort_values(\"similarity\", ascending=False).head(10)"
   ]
  },
  {
   "cell_type": "code",
   "execution_count": null,
   "metadata": {},
   "outputs": [],
   "source": []
  }
 ],
 "metadata": {
  "kernelspec": {
   "display_name": ".venv",
   "language": "python",
   "name": "python3"
  },
  "language_info": {
   "codemirror_mode": {
    "name": "ipython",
    "version": 3
   },
   "file_extension": ".py",
   "mimetype": "text/x-python",
   "name": "python",
   "nbconvert_exporter": "python",
   "pygments_lexer": "ipython3",
   "version": "3.11.6"
  }
 },
 "nbformat": 4,
 "nbformat_minor": 2
}
