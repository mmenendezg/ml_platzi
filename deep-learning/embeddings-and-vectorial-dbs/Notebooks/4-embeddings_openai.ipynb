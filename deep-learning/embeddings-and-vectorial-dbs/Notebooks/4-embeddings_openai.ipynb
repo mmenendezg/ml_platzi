{
 "cells": [
  {
   "cell_type": "code",
   "execution_count": 1,
   "metadata": {},
   "outputs": [],
   "source": [
    "import openai\n",
    "import os\n",
    "import pandas as pd\n",
    "import polars as pl\n",
    "import tiktoken"
   ]
  },
  {
   "cell_type": "code",
   "execution_count": 2,
   "metadata": {},
   "outputs": [],
   "source": [
    "OPENAI_API_KEY = os.environ[\"OPENAI_API_KEY\"]"
   ]
  },
  {
   "cell_type": "code",
   "execution_count": 3,
   "metadata": {},
   "outputs": [],
   "source": [
    "client = openai.OpenAI(\n",
    "    api_key=OPENAI_API_KEY\n",
    ")"
   ]
  },
  {
   "cell_type": "code",
   "execution_count": 4,
   "metadata": {},
   "outputs": [
    {
     "data": {
      "text/html": [
       "<div><style>\n",
       ".dataframe > thead > tr > th,\n",
       ".dataframe > tbody > tr > td {\n",
       "  text-align: right;\n",
       "}\n",
       "</style>\n",
       "<small>shape: (5, 4)</small><table border=\"1\" class=\"dataframe\"><thead><tr><th>FOOD NAME</th><th>SCIENTIFIC NAME</th><th>GROUP</th><th>SUB GROUP</th></tr><tr><td>str</td><td>str</td><td>str</td><td>str</td></tr></thead><tbody><tr><td>&quot;Angelica&quot;</td><td>&quot;Angelica keisk…</td><td>&quot;Herbs and Spic…</td><td>&quot;Herbs&quot;</td></tr><tr><td>&quot;Savoy cabbage&quot;</td><td>&quot;Brassica olera…</td><td>&quot;Vegetables&quot;</td><td>&quot;Cabbages&quot;</td></tr><tr><td>&quot;Silver linden&quot;</td><td>&quot;Tilia argentea…</td><td>&quot;Herbs and Spic…</td><td>&quot;Herbs&quot;</td></tr><tr><td>&quot;Kiwi&quot;</td><td>&quot;Actinidia chin…</td><td>&quot;Fruits&quot;</td><td>&quot;Tropical fruit…</td></tr><tr><td>&quot;Allium (Onion)…</td><td>&quot;Allium&quot;</td><td>&quot;Vegetables&quot;</td><td>&quot;Onion-family v…</td></tr></tbody></table></div>"
      ],
      "text/plain": [
       "shape: (5, 4)\n",
       "┌────────────────┬────────────────────────────────┬──────────────────┬─────────────────────────┐\n",
       "│ FOOD NAME      ┆ SCIENTIFIC NAME                ┆ GROUP            ┆ SUB GROUP               │\n",
       "│ ---            ┆ ---                            ┆ ---              ┆ ---                     │\n",
       "│ str            ┆ str                            ┆ str              ┆ str                     │\n",
       "╞════════════════╪════════════════════════════════╪══════════════════╪═════════════════════════╡\n",
       "│ Angelica       ┆ Angelica keiskei               ┆ Herbs and Spices ┆ Herbs                   │\n",
       "│ Savoy cabbage  ┆ Brassica oleracea var. sabauda ┆ Vegetables       ┆ Cabbages                │\n",
       "│ Silver linden  ┆ Tilia argentea                 ┆ Herbs and Spices ┆ Herbs                   │\n",
       "│ Kiwi           ┆ Actinidia chinensis            ┆ Fruits           ┆ Tropical fruits         │\n",
       "│ Allium (Onion) ┆ Allium                         ┆ Vegetables       ┆ Onion-family vegetables │\n",
       "└────────────────┴────────────────────────────────┴──────────────────┴─────────────────────────┘"
      ]
     },
     "execution_count": 4,
     "metadata": {},
     "output_type": "execute_result"
    }
   ],
   "source": [
    "df_food = pl.read_csv(\"../data/generic-food.csv\")\n",
    "df_food.head()"
   ]
  },
  {
   "cell_type": "code",
   "execution_count": 5,
   "metadata": {},
   "outputs": [],
   "source": [
    "def num_tokens_from_string(text, encoding_name):\n",
    "    encoding = tiktoken.get_encoding(encoding_name)\n",
    "    num_tokens = len(encoding.encode(text))\n",
    "    return num_tokens"
   ]
  },
  {
   "cell_type": "code",
   "execution_count": 6,
   "metadata": {},
   "outputs": [],
   "source": [
    "df_food = df_food.with_columns(\n",
    "    pl.col(\"FOOD NAME\").apply(lambda x: num_tokens_from_string(x, \"cl100k_base\")).alias(\"total_tokens\")\n",
    ")"
   ]
  },
  {
   "cell_type": "code",
   "execution_count": 7,
   "metadata": {},
   "outputs": [
    {
     "data": {
      "text/html": [
       "<div><style>\n",
       ".dataframe > thead > tr > th,\n",
       ".dataframe > tbody > tr > td {\n",
       "  text-align: right;\n",
       "}\n",
       "</style>\n",
       "<small>shape: (5, 5)</small><table border=\"1\" class=\"dataframe\"><thead><tr><th>FOOD NAME</th><th>SCIENTIFIC NAME</th><th>GROUP</th><th>SUB GROUP</th><th>total_tokens</th></tr><tr><td>str</td><td>str</td><td>str</td><td>str</td><td>i64</td></tr></thead><tbody><tr><td>&quot;Angelica&quot;</td><td>&quot;Angelica keisk…</td><td>&quot;Herbs and Spic…</td><td>&quot;Herbs&quot;</td><td>2</td></tr><tr><td>&quot;Savoy cabbage&quot;</td><td>&quot;Brassica olera…</td><td>&quot;Vegetables&quot;</td><td>&quot;Cabbages&quot;</td><td>4</td></tr><tr><td>&quot;Silver linden&quot;</td><td>&quot;Tilia argentea…</td><td>&quot;Herbs and Spic…</td><td>&quot;Herbs&quot;</td><td>3</td></tr><tr><td>&quot;Kiwi&quot;</td><td>&quot;Actinidia chin…</td><td>&quot;Fruits&quot;</td><td>&quot;Tropical fruit…</td><td>2</td></tr><tr><td>&quot;Allium (Onion)…</td><td>&quot;Allium&quot;</td><td>&quot;Vegetables&quot;</td><td>&quot;Onion-family v…</td><td>6</td></tr></tbody></table></div>"
      ],
      "text/plain": [
       "shape: (5, 5)\n",
       "┌────────────────┬────────────────────────┬──────────────────┬─────────────────┬──────────────┐\n",
       "│ FOOD NAME      ┆ SCIENTIFIC NAME        ┆ GROUP            ┆ SUB GROUP       ┆ total_tokens │\n",
       "│ ---            ┆ ---                    ┆ ---              ┆ ---             ┆ ---          │\n",
       "│ str            ┆ str                    ┆ str              ┆ str             ┆ i64          │\n",
       "╞════════════════╪════════════════════════╪══════════════════╪═════════════════╪══════════════╡\n",
       "│ Angelica       ┆ Angelica keiskei       ┆ Herbs and Spices ┆ Herbs           ┆ 2            │\n",
       "│ Savoy cabbage  ┆ Brassica oleracea var. ┆ Vegetables       ┆ Cabbages        ┆ 4            │\n",
       "│                ┆ sabauda                ┆                  ┆                 ┆              │\n",
       "│ Silver linden  ┆ Tilia argentea         ┆ Herbs and Spices ┆ Herbs           ┆ 3            │\n",
       "│ Kiwi           ┆ Actinidia chinensis    ┆ Fruits           ┆ Tropical fruits ┆ 2            │\n",
       "│ Allium (Onion) ┆ Allium                 ┆ Vegetables       ┆ Onion-family    ┆ 6            │\n",
       "│                ┆                        ┆                  ┆ vegetables      ┆              │\n",
       "└────────────────┴────────────────────────┴──────────────────┴─────────────────┴──────────────┘"
      ]
     },
     "execution_count": 7,
     "metadata": {},
     "output_type": "execute_result"
    }
   ],
   "source": [
    "df_food.head()"
   ]
  },
  {
   "cell_type": "code",
   "execution_count": 8,
   "metadata": {},
   "outputs": [
    {
     "data": {
      "text/plain": [
       "2947"
      ]
     },
     "execution_count": 8,
     "metadata": {},
     "output_type": "execute_result"
    }
   ],
   "source": [
    "df_food[\"total_tokens\"].sum()"
   ]
  },
  {
   "cell_type": "code",
   "execution_count": 9,
   "metadata": {},
   "outputs": [],
   "source": [
    "def get_embedding(text, model=\"text-embedding-ada-002\"):\n",
    "    text = text.replace(\"\\n\", \"\")\n",
    "    return (\n",
    "        client.embeddings.create(input=text, model=\"text-embedding-ada-002\")\n",
    "        .data[0]\n",
    "        .embedding\n",
    "    )"
   ]
  },
  {
   "cell_type": "code",
   "execution_count": 10,
   "metadata": {},
   "outputs": [],
   "source": [
    "df_food = df_food.with_columns(\n",
    "    pl.col(\"FOOD NAME\")\n",
    "    .apply(lambda x: get_embedding(x))\n",
    "    .alias(\"embeddings\")\n",
    ")"
   ]
  },
  {
   "cell_type": "code",
   "execution_count": 11,
   "metadata": {},
   "outputs": [
    {
     "data": {
      "text/html": [
       "<div><style>\n",
       ".dataframe > thead > tr > th,\n",
       ".dataframe > tbody > tr > td {\n",
       "  text-align: right;\n",
       "}\n",
       "</style>\n",
       "<small>shape: (10, 6)</small><table border=\"1\" class=\"dataframe\"><thead><tr><th>FOOD NAME</th><th>SCIENTIFIC NAME</th><th>GROUP</th><th>SUB GROUP</th><th>total_tokens</th><th>embeddings</th></tr><tr><td>str</td><td>str</td><td>str</td><td>str</td><td>i64</td><td>list[f64]</td></tr></thead><tbody><tr><td>&quot;Angelica&quot;</td><td>&quot;Angelica keisk…</td><td>&quot;Herbs and Spic…</td><td>&quot;Herbs&quot;</td><td>2</td><td>[0.006203, -0.0101, … -0.015106]</td></tr><tr><td>&quot;Savoy cabbage&quot;</td><td>&quot;Brassica olera…</td><td>&quot;Vegetables&quot;</td><td>&quot;Cabbages&quot;</td><td>4</td><td>[0.005499, -0.00497, … 0.000699]</td></tr><tr><td>&quot;Silver linden&quot;</td><td>&quot;Tilia argentea…</td><td>&quot;Herbs and Spic…</td><td>&quot;Herbs&quot;</td><td>3</td><td>[-0.004519, 0.019994, … -0.033409]</td></tr><tr><td>&quot;Kiwi&quot;</td><td>&quot;Actinidia chin…</td><td>&quot;Fruits&quot;</td><td>&quot;Tropical fruit…</td><td>2</td><td>[-0.004589, -0.010032, … -0.020672]</td></tr><tr><td>&quot;Allium (Onion)…</td><td>&quot;Allium&quot;</td><td>&quot;Vegetables&quot;</td><td>&quot;Onion-family v…</td><td>6</td><td>[0.013211, -0.01995, … 0.012451]</td></tr><tr><td>&quot;Garden onion&quot;</td><td>&quot;Allium cepa&quot;</td><td>&quot;Vegetables&quot;</td><td>&quot;Onion-family v…</td><td>3</td><td>[0.009202, -0.021001, … 0.005702]</td></tr><tr><td>&quot;Leek&quot;</td><td>&quot;Allium porrum&quot;</td><td>&quot;Vegetables&quot;</td><td>&quot;Onion-family v…</td><td>2</td><td>[0.005257, -0.004284, … -0.002118]</td></tr><tr><td>&quot;Garlic&quot;</td><td>&quot;Allium sativum…</td><td>&quot;Herbs and Spic…</td><td>&quot;Herbs&quot;</td><td>2</td><td>[0.025597, -0.013733, … 0.004028]</td></tr><tr><td>&quot;Chives&quot;</td><td>&quot;Allium schoeno…</td><td>&quot;Herbs and Spic…</td><td>&quot;Herbs&quot;</td><td>2</td><td>[-0.004742, -0.014766, … 0.015614]</td></tr><tr><td>&quot;Lemon verbena&quot;</td><td>&quot;Aloysia triphy…</td><td>&quot;Herbs and Spic…</td><td>&quot;Herbs&quot;</td><td>4</td><td>[0.016134, 0.001248, … -0.035395]</td></tr></tbody></table></div>"
      ],
      "text/plain": [
       "shape: (10, 6)\n",
       "┌───────────────┬───────────────────┬────────────┬───────────────────┬──────────────┬──────────────┐\n",
       "│ FOOD NAME     ┆ SCIENTIFIC NAME   ┆ GROUP      ┆ SUB GROUP         ┆ total_tokens ┆ embeddings   │\n",
       "│ ---           ┆ ---               ┆ ---        ┆ ---               ┆ ---          ┆ ---          │\n",
       "│ str           ┆ str               ┆ str        ┆ str               ┆ i64          ┆ list[f64]    │\n",
       "╞═══════════════╪═══════════════════╪════════════╪═══════════════════╪══════════════╪══════════════╡\n",
       "│ Angelica      ┆ Angelica keiskei  ┆ Herbs and  ┆ Herbs             ┆ 2            ┆ [0.006203,   │\n",
       "│               ┆                   ┆ Spices     ┆                   ┆              ┆ -0.0101, …   │\n",
       "│               ┆                   ┆            ┆                   ┆              ┆ -0.015106]   │\n",
       "│ Savoy cabbage ┆ Brassica oleracea ┆ Vegetables ┆ Cabbages          ┆ 4            ┆ [0.005499,   │\n",
       "│               ┆ var. sabauda      ┆            ┆                   ┆              ┆ -0.00497, …  │\n",
       "│               ┆                   ┆            ┆                   ┆              ┆ 0.000699]    │\n",
       "│ Silver linden ┆ Tilia argentea    ┆ Herbs and  ┆ Herbs             ┆ 3            ┆ [-0.004519,  │\n",
       "│               ┆                   ┆ Spices     ┆                   ┆              ┆ 0.019994, …  │\n",
       "│               ┆                   ┆            ┆                   ┆              ┆ -0.03340…    │\n",
       "│ Kiwi          ┆ Actinidia         ┆ Fruits     ┆ Tropical fruits   ┆ 2            ┆ [-0.004589,  │\n",
       "│               ┆ chinensis         ┆            ┆                   ┆              ┆ -0.010032, … │\n",
       "│               ┆                   ┆            ┆                   ┆              ┆ -0.0206…     │\n",
       "│ …             ┆ …                 ┆ …          ┆ …                 ┆ …            ┆ …            │\n",
       "│ Leek          ┆ Allium porrum     ┆ Vegetables ┆ Onion-family      ┆ 2            ┆ [0.005257,   │\n",
       "│               ┆                   ┆            ┆ vegetables        ┆              ┆ -0.004284, … │\n",
       "│               ┆                   ┆            ┆                   ┆              ┆ -0.00211…    │\n",
       "│ Garlic        ┆ Allium sativum    ┆ Herbs and  ┆ Herbs             ┆ 2            ┆ [0.025597,   │\n",
       "│               ┆                   ┆ Spices     ┆                   ┆              ┆ -0.013733, … │\n",
       "│               ┆                   ┆            ┆                   ┆              ┆ 0.004028…    │\n",
       "│ Chives        ┆ Allium            ┆ Herbs and  ┆ Herbs             ┆ 2            ┆ [-0.004742,  │\n",
       "│               ┆ schoenoprasum     ┆ Spices     ┆                   ┆              ┆ -0.014766, … │\n",
       "│               ┆                   ┆            ┆                   ┆              ┆ 0.01561…     │\n",
       "│ Lemon verbena ┆ Aloysia triphylla ┆ Herbs and  ┆ Herbs             ┆ 4            ┆ [0.016134,   │\n",
       "│               ┆                   ┆ Spices     ┆                   ┆              ┆ 0.001248, …  │\n",
       "│               ┆                   ┆            ┆                   ┆              ┆ -0.035395…   │\n",
       "└───────────────┴───────────────────┴────────────┴───────────────────┴──────────────┴──────────────┘"
      ]
     },
     "execution_count": 11,
     "metadata": {},
     "output_type": "execute_result"
    }
   ],
   "source": [
    "df_food.head(10)"
   ]
  },
  {
   "cell_type": "code",
   "execution_count": 35,
   "metadata": {},
   "outputs": [],
   "source": [
    "df_embeddings = (\n",
    "    df_food\n",
    "    .select(\"embeddings\")\n",
    "    .with_columns(pl.col(\"embeddings\").list.to_struct())\n",
    "    .unnest(\"embeddings\")\n",
    ")"
   ]
  },
  {
   "cell_type": "code",
   "execution_count": 19,
   "metadata": {},
   "outputs": [],
   "source": [
    "df_embeddings.write_csv(\"../data/embeddings.tsv\", separator=\"\\t\", has_header=False)"
   ]
  },
  {
   "cell_type": "code",
   "execution_count": 20,
   "metadata": {},
   "outputs": [],
   "source": [
    "df_food.select([\"FOOD NAME\", \"GROUP\", \"SUB GROUP\"]).write_csv(\n",
    "    \"../data/labels_food.tsv\", separator=\"\\t\"\n",
    ")"
   ]
  }
 ],
 "metadata": {
  "kernelspec": {
   "display_name": ".venv",
   "language": "python",
   "name": "python3"
  },
  "language_info": {
   "codemirror_mode": {
    "name": "ipython",
    "version": 3
   },
   "file_extension": ".py",
   "mimetype": "text/x-python",
   "name": "python",
   "nbconvert_exporter": "python",
   "pygments_lexer": "ipython3",
   "version": "3.11.6"
  }
 },
 "nbformat": 4,
 "nbformat_minor": 2
}
