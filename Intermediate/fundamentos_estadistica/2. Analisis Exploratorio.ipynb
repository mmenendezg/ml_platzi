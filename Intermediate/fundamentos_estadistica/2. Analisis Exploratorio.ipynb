{
 "cells": [
  {
   "cell_type": "markdown",
   "id": "underlying-sheep",
   "metadata": {},
   "source": [
    "# Analisis Exploratorio"
   ]
  },
  {
   "cell_type": "markdown",
   "id": "respective-seventh",
   "metadata": {},
   "source": [
    "## Medidas de tendencial central"
   ]
  },
  {
   "cell_type": "code",
   "execution_count": 49,
   "id": "geographic-timing",
   "metadata": {},
   "outputs": [],
   "source": [
    "import numpy as np\n",
    "import pandas as pd\n",
    "import scipy\n",
    "import scipy.stats\n",
    "\n",
    "import matplotlib.pyplot as plt\n",
    "import seaborn as sns\n",
    "\n",
    "%matplotlib inline"
   ]
  },
  {
   "cell_type": "code",
   "execution_count": 3,
   "id": "respected-tribune",
   "metadata": {},
   "outputs": [
    {
     "data": {
      "text/plain": [
       "Index(['fecha', 'bicis-compartidas', 'temp-obs', 'sens-temp', 'hum', 'viento',\n",
       "       'codigo-clima', 'festivo', 'findesemana', 'cuartil-ano'],\n",
       "      dtype='object')"
      ]
     },
     "execution_count": 3,
     "metadata": {},
     "output_type": "execute_result"
    }
   ],
   "source": [
    "bikes_df = pd.read_csv('data/bicicletas-compartidas.csv')\n",
    "bikes_df.columns"
   ]
  },
  {
   "cell_type": "code",
   "execution_count": 7,
   "id": "chubby-magic",
   "metadata": {},
   "outputs": [
    {
     "data": {
      "text/plain": [
       "1"
      ]
     },
     "execution_count": 7,
     "metadata": {},
     "output_type": "execute_result"
    }
   ],
   "source": [
    "y = bikes_df['bicis-compartidas'].values\n",
    "y = np.where(y == 0, 1, y)\n",
    "np.min(y)"
   ]
  },
  {
   "cell_type": "code",
   "execution_count": 8,
   "id": "systematic-sweden",
   "metadata": {},
   "outputs": [
    {
     "data": {
      "text/plain": [
       "7860"
      ]
     },
     "execution_count": 8,
     "metadata": {},
     "output_type": "execute_result"
    }
   ],
   "source": [
    "np.max(y)"
   ]
  },
  {
   "cell_type": "code",
   "execution_count": 9,
   "id": "fallen-conservation",
   "metadata": {},
   "outputs": [
    {
     "data": {
      "text/plain": [
       "1143.1016997817849"
      ]
     },
     "execution_count": 9,
     "metadata": {},
     "output_type": "execute_result"
    }
   ],
   "source": [
    "np.mean(y)"
   ]
  },
  {
   "cell_type": "code",
   "execution_count": 10,
   "id": "beneficial-opening",
   "metadata": {},
   "outputs": [
    {
     "data": {
      "text/plain": [
       "241.65180305136826"
      ]
     },
     "execution_count": 10,
     "metadata": {},
     "output_type": "execute_result"
    }
   ],
   "source": [
    "scipy.stats.mstats.hmean(y)"
   ]
  },
  {
   "cell_type": "code",
   "execution_count": 12,
   "id": "cultural-bennett",
   "metadata": {},
   "outputs": [
    {
     "data": {
      "text/plain": [
       "844.0"
      ]
     },
     "execution_count": 12,
     "metadata": {},
     "output_type": "execute_result"
    }
   ],
   "source": [
    "np.median(y)"
   ]
  },
  {
   "cell_type": "code",
   "execution_count": 13,
   "id": "based-crown",
   "metadata": {},
   "outputs": [],
   "source": [
    "def mode(y):\n",
    "    values, count_values = np.unique(y, return_counts = True)\n",
    "    position = np.argmax(count_values)\n",
    "    mode = values[position]\n",
    "    \n",
    "    return mode"
   ]
  },
  {
   "cell_type": "code",
   "execution_count": 14,
   "id": "progressive-excuse",
   "metadata": {},
   "outputs": [
    {
     "name": "stdout",
     "output_type": "stream",
     "text": [
      "The mode is 46\n"
     ]
    }
   ],
   "source": [
    "mode = mode(y)\n",
    "print(f'The mode is {mode}')"
   ]
  },
  {
   "cell_type": "code",
   "execution_count": 15,
   "id": "operating-specification",
   "metadata": {},
   "outputs": [
    {
     "data": {
      "text/plain": [
       "1085.0768508213835"
      ]
     },
     "execution_count": 15,
     "metadata": {},
     "output_type": "execute_result"
    }
   ],
   "source": [
    "np.std(y)"
   ]
  },
  {
   "cell_type": "code",
   "execution_count": 21,
   "id": "strange-dating",
   "metadata": {},
   "outputs": [],
   "source": [
    "y_modified = y.copy()\n",
    "y_modified[y_modified == max(y_modified)] = 100000"
   ]
  },
  {
   "cell_type": "code",
   "execution_count": 22,
   "id": "golden-bradford",
   "metadata": {},
   "outputs": [
    {
     "name": "stdout",
     "output_type": "stream",
     "text": [
      "The regular mean is 1143.1016997817849, and the modified mean is 1148.392844837487\n"
     ]
    }
   ],
   "source": [
    "print(f'The regular mean is {np.mean(y)}, and the modified mean is {np.mean(y_modified)}')"
   ]
  },
  {
   "cell_type": "code",
   "execution_count": 23,
   "id": "several-capability",
   "metadata": {},
   "outputs": [
    {
     "name": "stdout",
     "output_type": "stream",
     "text": [
      "The median is 844.0, and the modified median is 844.0\n"
     ]
    }
   ],
   "source": [
    "print(f'The median is {np.median(y)}, and the modified median is {np.median(y_modified)}')"
   ]
  },
  {
   "cell_type": "markdown",
   "id": "broken-karen",
   "metadata": {},
   "source": [
    "## Diagramas de frecuencias para variables continuas y discretas"
   ]
  },
  {
   "cell_type": "code",
   "execution_count": 25,
   "id": "framed-mining",
   "metadata": {},
   "outputs": [
    {
     "data": {
      "text/plain": [
       "Index(['fecha', 'bicis-compartidas', 'temp-obs', 'sens-temp', 'hum', 'viento',\n",
       "       'codigo-clima', 'festivo', 'findesemana', 'cuartil-ano'],\n",
       "      dtype='object')"
      ]
     },
     "execution_count": 25,
     "metadata": {},
     "output_type": "execute_result"
    }
   ],
   "source": [
    "bikes_df.columns"
   ]
  },
  {
   "cell_type": "code",
   "execution_count": 29,
   "id": "ready-compilation",
   "metadata": {},
   "outputs": [
    {
     "data": {
      "text/plain": [
       "0    Cat-3\n",
       "1    Cat-3\n",
       "2    Cat-3\n",
       "3    Cat-3\n",
       "4    Cat-3\n",
       "5    Cat-3\n",
       "6    Cat-3\n",
       "7    Cat-3\n",
       "8    Cat-3\n",
       "9    Cat-3\n",
       "Name: cuartil-ano, dtype: object"
      ]
     },
     "execution_count": 29,
     "metadata": {},
     "output_type": "execute_result"
    }
   ],
   "source": [
    "y_cat = bikes_df['cuartil-ano']\n",
    "y_cat = y_cat.apply(lambda x: 'Cat-' + str(int(x)))\n",
    "y_cat.head(10)"
   ]
  },
  {
   "cell_type": "code",
   "execution_count": 30,
   "id": "respective-booking",
   "metadata": {},
   "outputs": [
    {
     "data": {
      "text/plain": [
       "(array(['Cat-0', 'Cat-1', 'Cat-2', 'Cat-3'], dtype=object),\n",
       " array([4394, 4387, 4303, 4330]))"
      ]
     },
     "execution_count": 30,
     "metadata": {},
     "output_type": "execute_result"
    }
   ],
   "source": [
    "y_values, y_counts = np.unique(y_cat, return_counts=True)\n",
    "y_values, y_counts"
   ]
  },
  {
   "cell_type": "code",
   "execution_count": 31,
   "id": "declared-wiring",
   "metadata": {},
   "outputs": [
    {
     "data": {
      "text/plain": [
       "{'Cat-0': 4394, 'Cat-1': 4387, 'Cat-2': 4303, 'Cat-3': 4330}"
      ]
     },
     "execution_count": 31,
     "metadata": {},
     "output_type": "execute_result"
    }
   ],
   "source": [
    "table_frequencies = dict(zip(y_values, y_counts))\n",
    "table_frequencies"
   ]
  },
  {
   "cell_type": "code",
   "execution_count": 32,
   "id": "hungry-hostel",
   "metadata": {},
   "outputs": [
    {
     "data": {
      "text/plain": [
       "(0.0, 56.5)"
      ]
     },
     "execution_count": 32,
     "metadata": {},
     "output_type": "execute_result"
    }
   ],
   "source": [
    "y_num = bikes_df['viento'].copy()\n",
    "np.min(y_num), np.max(y_num)"
   ]
  },
  {
   "cell_type": "code",
   "execution_count": 33,
   "id": "mathematical-washington",
   "metadata": {},
   "outputs": [
    {
     "data": {
      "text/plain": [
       "56.5"
      ]
     },
     "execution_count": 33,
     "metadata": {},
     "output_type": "execute_result"
    }
   ],
   "source": [
    "np.percentile(y_num, q=100)"
   ]
  },
  {
   "cell_type": "code",
   "execution_count": 34,
   "id": "purple-worship",
   "metadata": {},
   "outputs": [
    {
     "data": {
      "text/plain": [
       "0.0"
      ]
     },
     "execution_count": 34,
     "metadata": {},
     "output_type": "execute_result"
    }
   ],
   "source": [
    "np.percentile(y_num, q=0)"
   ]
  },
  {
   "cell_type": "code",
   "execution_count": 35,
   "id": "leading-dominican",
   "metadata": {},
   "outputs": [
    {
     "data": {
      "text/plain": [
       "15.0"
      ]
     },
     "execution_count": 35,
     "metadata": {},
     "output_type": "execute_result"
    }
   ],
   "source": [
    "np.percentile(y_num, q=50)"
   ]
  },
  {
   "cell_type": "code",
   "execution_count": 36,
   "id": "meaningful-consultation",
   "metadata": {},
   "outputs": [
    {
     "data": {
      "text/plain": [
       "15.0"
      ]
     },
     "execution_count": 36,
     "metadata": {},
     "output_type": "execute_result"
    }
   ],
   "source": [
    "np.median(y_num)"
   ]
  },
  {
   "cell_type": "code",
   "execution_count": 37,
   "id": "unauthorized-wagner",
   "metadata": {},
   "outputs": [
    {
     "data": {
      "text/plain": [
       "array([ 0. , 10. , 15. , 20.5, 56.5])"
      ]
     },
     "execution_count": 37,
     "metadata": {},
     "output_type": "execute_result"
    }
   ],
   "source": [
    "values_percentiles = [0, 25, 50, 75, 100]\n",
    "np.percentile(y_num, q = values_percentiles)"
   ]
  },
  {
   "cell_type": "code",
   "execution_count": 41,
   "id": "generic-merchant",
   "metadata": {},
   "outputs": [
    {
     "data": {
      "text/plain": [
       "array([ 0. ,  9. , 13. , 17. , 22. , 56.5])"
      ]
     },
     "execution_count": 41,
     "metadata": {},
     "output_type": "execute_result"
    }
   ],
   "source": [
    "values_percentiles = [0, 20, 40, 60, 80, 100]\n",
    "np.percentile(y_num, q = values_percentiles)"
   ]
  },
  {
   "cell_type": "code",
   "execution_count": 42,
   "id": "valuable-cardiff",
   "metadata": {},
   "outputs": [
    {
     "data": {
      "text/plain": [
       "array([ 0. ,  6.5,  9. , 11. , 13. , 15. , 17. , 19.5, 22. , 27. , 56.5])"
      ]
     },
     "execution_count": 42,
     "metadata": {},
     "output_type": "execute_result"
    }
   ],
   "source": [
    "values_percentiles = list(range(0, 110, 10))\n",
    "np.percentile(y_num, q = values_percentiles)"
   ]
  },
  {
   "cell_type": "code",
   "execution_count": 44,
   "id": "choice-title",
   "metadata": {},
   "outputs": [
    {
     "data": {
      "text/plain": [
       "count    17414.000000\n",
       "mean      1143.101642\n",
       "std       1085.108068\n",
       "min          0.000000\n",
       "25%        257.000000\n",
       "50%        844.000000\n",
       "75%       1671.750000\n",
       "max       7860.000000\n",
       "Name: bicis-compartidas, dtype: float64"
      ]
     },
     "execution_count": 44,
     "metadata": {},
     "output_type": "execute_result"
    }
   ],
   "source": [
    "bikes_df['bicis-compartidas'].describe()"
   ]
  },
  {
   "cell_type": "code",
   "execution_count": 45,
   "id": "nearby-pastor",
   "metadata": {},
   "outputs": [
    {
     "data": {
      "text/plain": [
       "[-5.75, 36.25]"
      ]
     },
     "execution_count": 45,
     "metadata": {},
     "output_type": "execute_result"
    }
   ],
   "source": [
    "Q1 = np.percentile(y_num, q = 25)\n",
    "Q3 = np.percentile(y_num, q = 75)\n",
    "\n",
    "RI = Q3 - Q1\n",
    "\n",
    "lim_inf = Q1 - 1.5*RI\n",
    "lim_sup = Q3 + 1.5*RI\n",
    "\n",
    "[lim_inf, lim_sup]"
   ]
  },
  {
   "cell_type": "code",
   "execution_count": 48,
   "id": "arabic-former",
   "metadata": {},
   "outputs": [
    {
     "data": {
      "text/plain": [
       "(array([8.274e+03, 4.416e+03, 2.355e+03, 1.241e+03, 5.610e+02, 4.710e+02,\n",
       "        8.800e+01, 2.000e+00, 3.000e+00, 3.000e+00]),\n",
       " array([   0.,  786., 1572., 2358., 3144., 3930., 4716., 5502., 6288.,\n",
       "        7074., 7860.]),\n",
       " <BarContainer object of 10 artists>)"
      ]
     },
     "execution_count": 48,
     "metadata": {},
     "output_type": "execute_result"
    },
    {
     "data": {
      "image/png": "[encoded data removed]",
      "text/plain": [
       "<Figure size 432x288 with 1 Axes>"
      ]
     },
     "metadata": {
      "needs_background": "light"
     },
     "output_type": "display_data"
    }
   ],
   "source": [
    "plt.hist(bikes_df['bicis-compartidas'])"
   ]
  },
  {
   "cell_type": "code",
   "execution_count": 50,
   "id": "secret-discussion",
   "metadata": {},
   "outputs": [
    {
     "data": {
      "text/plain": [
       "Index(['fecha', 'bicis-compartidas', 'temp-obs', 'sens-temp', 'hum', 'viento',\n",
       "       'codigo-clima', 'festivo', 'findesemana', 'cuartil-ano'],\n",
       "      dtype='object')"
      ]
     },
     "execution_count": 50,
     "metadata": {},
     "output_type": "execute_result"
    }
   ],
   "source": [
    "bikes_df.columns"
   ]
  },
  {
   "cell_type": "code",
   "execution_count": 52,
   "id": "veterinary-indicator",
   "metadata": {},
   "outputs": [
    {
     "data": {
      "text/plain": [
       "0        quartile-3\n",
       "1        quartile-3\n",
       "2        quartile-3\n",
       "3        quartile-3\n",
       "4        quartile-3\n",
       "            ...    \n",
       "17409    quartile-3\n",
       "17410    quartile-3\n",
       "17411    quartile-3\n",
       "17412    quartile-3\n",
       "17413    quartile-3\n",
       "Name: cuartil-ano, Length: 17414, dtype: object"
      ]
     },
     "execution_count": 52,
     "metadata": {},
     "output_type": "execute_result"
    }
   ],
   "source": [
    "y_quartiles = bikes_df['cuartil-ano'].apply(lambda x: 'quartile-' + str(int(x)))\n",
    "y_quartiles"
   ]
  },
  {
   "cell_type": "code",
   "execution_count": 54,
   "id": "actual-balloon",
   "metadata": {},
   "outputs": [
    {
     "data": {
      "text/plain": [
       "Text(0, 0.5, 'Frequency')"
      ]
     },
     "execution_count": 54,
     "metadata": {},
     "output_type": "execute_result"
    },
    {
     "data": {
      "image/png": "[encoded data removed]",
      "text/plain": [
       "<Figure size 432x288 with 1 Axes>"
      ]
     },
     "metadata": {
      "needs_background": "light"
     },
     "output_type": "display_data"
    }
   ],
   "source": [
    "fig, ax = plt.subplots()\n",
    "\n",
    "ax.bar(y_quartiles.value_counts().index, y_quartiles.value_counts())\n",
    "ax.set_xlabel('Quartiles of the year')\n",
    "ax.set_ylabel('Frequency')"
   ]
  },
  {
   "cell_type": "code",
   "execution_count": 60,
   "id": "similar-folder",
   "metadata": {},
   "outputs": [
    {
     "data": {
      "image/png": "[encoded data removed]",
      "text/plain": [
       "<Figure size 432x288 with 1 Axes>"
      ]
     },
     "metadata": {
      "needs_background": "light"
     },
     "output_type": "display_data"
    }
   ],
   "source": [
    "fig, ax = plt.subplots()\n",
    "\n",
    "ax.bar(y_quartiles.value_counts().index, y_quartiles.value_counts())\n",
    "ax.set_xlabel('Quartiles of the year')\n",
    "ax.set_ylabel('Frequency')\n",
    "ax.patches[3].set_facecolor('green')"
   ]
  },
  {
   "cell_type": "code",
   "execution_count": 64,
   "id": "governmental-canyon",
   "metadata": {},
   "outputs": [
    {
     "data": {
      "text/plain": [
       "Text(0.5, 1.0, 'Pie Diagram')"
      ]
     },
     "execution_count": 64,
     "metadata": {},
     "output_type": "execute_result"
    },
    {
     "data": {
      "image/png": "[encoded data removed]",
      "text/plain": [
       "<Figure size 432x288 with 1 Axes>"
      ]
     },
     "metadata": {},
     "output_type": "display_data"
    }
   ],
   "source": [
    "figure, axis = plt.subplots()\n",
    "\n",
    "axis.pie(y_quartiles.value_counts(), labels=y_quartiles.value_counts().index)\n",
    "axis.set_title('Pie Diagram')"
   ]
  },
  {
   "cell_type": "code",
   "execution_count": 65,
   "id": "narrative-stationery",
   "metadata": {},
   "outputs": [],
   "source": [
    "y_numerical = bikes_df['viento']"
   ]
  },
  {
   "cell_type": "code",
   "execution_count": 69,
   "id": "cubic-northeast",
   "metadata": {},
   "outputs": [
    {
     "data": {
      "text/plain": [
       "<matplotlib.legend.Legend at 0x145ba16a0>"
      ]
     },
     "execution_count": 69,
     "metadata": {},
     "output_type": "execute_result"
    },
    {
     "data": {
      "image/png": "[encoded data removed]",
      "text/plain": [
       "<Figure size 432x288 with 1 Axes>"
      ]
     },
     "metadata": {
      "needs_background": "light"
     },
     "output_type": "display_data"
    }
   ],
   "source": [
    "figure, axis = plt.subplots()\n",
    "\n",
    "axis.hist(y_numerical, bins=30)\n",
    "axis.set_xlabel('Wind')\n",
    "axis.set_ylabel('Frequencies')\n",
    "plt.axvline(np.mean(y_numerical), c='r', linestyle=\"--\", label=\"Mean\")\n",
    "plt.axvline(np.mean(y_numerical) + np.std(y_numerical), c='k', linestyle=\"--\", label=\"+ Std\")\n",
    "plt.axvline(np.mean(y_numerical) - np.std(y_numerical), c='k', linestyle=\"--\", label=\"- Std\")\n",
    "axis.legend()"
   ]
  },
  {
   "cell_type": "code",
   "execution_count": 72,
   "id": "ahead-somerset",
   "metadata": {},
   "outputs": [
    {
     "data": {
      "text/plain": [
       "<AxesSubplot:xlabel='cuartil-ano', ylabel='bicis-compartidas'>"
      ]
     },
     "execution_count": 72,
     "metadata": {},
     "output_type": "execute_result"
    },
    {
     "data": {
      "image/png": "[encoded data removed]",
      "text/plain": [
       "<Figure size 432x288 with 1 Axes>"
      ]
     },
     "metadata": {
      "needs_background": "light"
     },
     "output_type": "display_data"
    }
   ],
   "source": [
    "y_shared = bikes_df['bicis-compartidas']\n",
    "\n",
    "fig, axis = plt.subplots()\n",
    "\n",
    "sns.boxplot(x='cuartil-ano', y='bicis-compartidas', data=bikes_df)"
   ]
  },
  {
   "cell_type": "code",
   "execution_count": 77,
   "id": "tough-diamond",
   "metadata": {},
   "outputs": [
    {
     "data": {
      "text/plain": [
       "Text(0, 0.5, 'Bicicletas Compartidas')"
      ]
     },
     "execution_count": 77,
     "metadata": {},
     "output_type": "execute_result"
    },
    {
     "data": {
      "image/png": "[encoded data removed]",
      "text/plain": [
       "<Figure size 432x288 with 1 Axes>"
      ]
     },
     "metadata": {
      "needs_background": "light"
     },
     "output_type": "display_data"
    }
   ],
   "source": [
    "figure, axis = plt.subplots()\n",
    "axis.scatter(bikes_df['viento'], bikes_df['bicis-compartidas'], alpha=0.1)\n",
    "axis.set_title('Distribution between wind and shared bikes')\n",
    "axis.set_xlabel('Viento')\n",
    "axis.set_ylabel('Bicicletas Compartidas')"
   ]
  },
  {
   "cell_type": "code",
   "execution_count": null,
   "id": "smaller-proof",
   "metadata": {},
   "outputs": [],
   "source": []
  }
 ],
 "metadata": {
  "kernelspec": {
   "display_name": "Python 3",
   "language": "python",
   "name": "python3"
  },
  "language_info": {
   "codemirror_mode": {
    "name": "ipython",
    "version": 3
   },
   "file_extension": ".py",
   "mimetype": "text/x-python",
   "name": "python",
   "nbconvert_exporter": "python",
   "pygments_lexer": "ipython3",
   "version": "3.8.7"
  }
 },
 "nbformat": 4,
 "nbformat_minor": 5
}
