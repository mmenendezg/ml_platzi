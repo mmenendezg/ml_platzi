{
 "cells": [
  {
   "cell_type": "markdown",
   "id": "earlier-volunteer",
   "metadata": {
    "tags": []
   },
   "source": [
    "# Probabilidad a eventos aleatorios"
   ]
  },
  {
   "cell_type": "code",
   "execution_count": 1,
   "id": "beneficial-bargain",
   "metadata": {},
   "outputs": [],
   "source": [
    "import scipy.stats\n",
    "from scipy.stats import binom, norm, nbinom\n",
    "import numpy as np\n",
    "import pandas as pd\n",
    "\n",
    "import matplotlib.pyplot as plt\n",
    "import seaborn as sns\n",
    "\n",
    "%matplotlib inline"
   ]
  },
  {
   "cell_type": "code",
   "execution_count": 2,
   "id": "green-queen",
   "metadata": {},
   "outputs": [
    {
     "data": {
      "text/plain": [
       "Index(['bola', 'color', 'numero'], dtype='object')"
      ]
     },
     "execution_count": 2,
     "metadata": {},
     "output_type": "execute_result"
    }
   ],
   "source": [
    "game_df = pd.read_csv('data/juego-azar.csv', sep=';')\n",
    "game_df.columns"
   ]
  },
  {
   "cell_type": "code",
   "execution_count": 3,
   "id": "greek-museum",
   "metadata": {},
   "outputs": [
    {
     "data": {
      "text/plain": [
       "1    0.4\n",
       "2    0.3\n",
       "3    0.3\n",
       "Name: numero, dtype: float64"
      ]
     },
     "execution_count": 3,
     "metadata": {},
     "output_type": "execute_result"
    }
   ],
   "source": [
    "game_df['numero'].value_counts()/len(game_df)"
   ]
  },
  {
   "cell_type": "code",
   "execution_count": 4,
   "id": "better-purple",
   "metadata": {},
   "outputs": [
    {
     "data": {
      "text/plain": [
       "negro     0.6\n",
       "blanco    0.4\n",
       "Name: color, dtype: float64"
      ]
     },
     "execution_count": 4,
     "metadata": {},
     "output_type": "execute_result"
    }
   ],
   "source": [
    "game_df['color'].value_counts()/len(game_df)"
   ]
  },
  {
   "cell_type": "code",
   "execution_count": 5,
   "id": "attractive-belarus",
   "metadata": {},
   "outputs": [
    {
     "data": {
      "text/plain": [
       "color   numero\n",
       "blanco  1         0.1\n",
       "        2         0.1\n",
       "        3         0.2\n",
       "negro   1         0.3\n",
       "        2         0.2\n",
       "        3         0.1\n",
       "dtype: float64"
      ]
     },
     "execution_count": 5,
     "metadata": {},
     "output_type": "execute_result"
    }
   ],
   "source": [
    "game_df.groupby(['color', 'numero']).size()/len(game_df)"
   ]
  },
  {
   "cell_type": "markdown",
   "id": "chubby-wireless",
   "metadata": {},
   "source": [
    "## Distribucion discreta y continua"
   ]
  },
  {
   "cell_type": "code",
   "execution_count": 6,
   "id": "generous-norwegian",
   "metadata": {},
   "outputs": [
    {
     "name": "stdout",
     "output_type": "stream",
     "text": [
      "1.0000000000000002\n"
     ]
    },
    {
     "data": {
      "image/png": "[encoded data removed]",
      "text/plain": [
       "<Figure size 432x288 with 1 Axes>"
      ]
     },
     "metadata": {
      "needs_background": "light"
     },
     "output_type": "display_data"
    }
   ],
   "source": [
    "p = 0.3\n",
    "n = 8\n",
    "\n",
    "x = list(range(0, 9, 1))\n",
    "y = []\n",
    "\n",
    "for i in x:\n",
    "    y.append(binom.pmf(i, p=p, n=n))\n",
    "\n",
    "figure, axis = plt.subplots()\n",
    "axis.bar(x, y)\n",
    "axis.set_ylabel('Probabilidad discreta')\n",
    "\n",
    "print(np.sum(y))"
   ]
  },
  {
   "cell_type": "code",
   "execution_count": 7,
   "id": "effective-person",
   "metadata": {},
   "outputs": [
    {
     "name": "stdout",
     "output_type": "stream",
     "text": [
      "The mean is 2.4 and the variance is 1.68\n"
     ]
    }
   ],
   "source": [
    "mean = np.average(x, weights=y)\n",
    "variance = np.average(((x - mean) ** 2), weights=y)\n",
    "\n",
    "print(f'The mean is {mean} and the variance is {variance}')"
   ]
  },
  {
   "cell_type": "code",
   "execution_count": 8,
   "id": "aboriginal-refund",
   "metadata": {},
   "outputs": [
    {
     "data": {
      "text/plain": [
       "<matplotlib.legend.Legend at 0x14517cca0>"
      ]
     },
     "execution_count": 8,
     "metadata": {},
     "output_type": "execute_result"
    },
    {
     "data": {
      "image/png": "[encoded data removed]",
      "text/plain": [
       "<Figure size 432x288 with 1 Axes>"
      ]
     },
     "metadata": {
      "needs_background": "light"
     },
     "output_type": "display_data"
    }
   ],
   "source": [
    "figure, axis = plt.subplots()\n",
    "axis.bar(x, y)\n",
    "axis.set_ylabel('Probabilidad discreta')\n",
    "axis.axvline(x=mean, c='r', linestyle='--', label='Mean')\n",
    "axis.axvline(x=(mean + 3*np.sqrt(variance)), c='k', linestyle='--', label='Variance')\n",
    "axis.axvline(x=(mean - 3*np.sqrt(variance)), c='k', linestyle='--')\n",
    "axis.legend()"
   ]
  },
  {
   "cell_type": "code",
   "execution_count": 9,
   "id": "biological-password",
   "metadata": {},
   "outputs": [
    {
     "data": {
      "text/plain": [
       "Text(0.5, 1.0, 'probabilidad continua')"
      ]
     },
     "execution_count": 9,
     "metadata": {},
     "output_type": "execute_result"
    },
    {
     "data": {
      "image/png": "[encoded data removed]",
      "text/plain": [
       "<Figure size 432x288 with 1 Axes>"
      ]
     },
     "metadata": {
      "needs_background": "light"
     },
     "output_type": "display_data"
    }
   ],
   "source": [
    "N = 10000\n",
    "\n",
    "x = list(range(0, N+1, 1))\n",
    "y = []\n",
    "\n",
    "for i in x:\n",
    "    y.append(binom.cdf(i, p=0.3, n=N))\n",
    "\n",
    "figure, axis = plt.subplots()\n",
    "\n",
    "axis.plot(x, y)\n",
    "axis.set_title('probabilidad continua')"
   ]
  },
  {
   "cell_type": "code",
   "execution_count": 10,
   "id": "postal-strength",
   "metadata": {},
   "outputs": [
    {
     "name": "stdout",
     "output_type": "stream",
     "text": [
      "The mean is 0.0, the variance is 1.0, the kurotsis is 0.0, and the 0.0\n"
     ]
    }
   ],
   "source": [
    "mean, var, skew, kurt = norm.stats(moments='mvsk')\n",
    "print(f'The mean is {mean}, the variance is {var}, the kurotsis is {kurt}, and the {skew}')"
   ]
  },
  {
   "cell_type": "code",
   "execution_count": 11,
   "id": "herbal-infrared",
   "metadata": {},
   "outputs": [],
   "source": [
    "from scipy.stats import bernoulli\n",
    "\n",
    "p = 0.3\n",
    "data = bernoulli.rvs(p, size=100)"
   ]
  },
  {
   "cell_type": "code",
   "execution_count": 12,
   "id": "declared-theta",
   "metadata": {},
   "outputs": [
    {
     "data": {
      "text/plain": [
       "(array(0.3), array(0.21), array(0.87287156), array(-1.23809524))"
      ]
     },
     "execution_count": 12,
     "metadata": {},
     "output_type": "execute_result"
    }
   ],
   "source": [
    "mean, var, skew, kurt = bernoulli.stats(p, moments='mvsk')\n",
    "mean, var, skew, kurt"
   ]
  },
  {
   "cell_type": "code",
   "execution_count": 13,
   "id": "rising-maria",
   "metadata": {},
   "outputs": [
    {
     "name": "stderr",
     "output_type": "stream",
     "text": [
      "/Users/mmenendezg/.local/share/virtualenvs/Data-Science-Career-_Uyt2p2S/lib/python3.8/site-packages/seaborn/distributions.py:2557: FutureWarning: `distplot` is a deprecated function and will be removed in a future version. Please adapt your code to use either `displot` (a figure-level function with similar flexibility) or `histplot` (an axes-level function for histograms).\n",
      "  warnings.warn(msg, FutureWarning)\n"
     ]
    },
    {
     "data": {
      "text/plain": [
       "<matplotlib.legend.Legend at 0x1452c8220>"
      ]
     },
     "execution_count": 13,
     "metadata": {},
     "output_type": "execute_result"
    },
    {
     "data": {
      "image/png": "[encoded data removed]",
      "text/plain": [
       "<Figure size 432x288 with 1 Axes>"
      ]
     },
     "metadata": {
      "needs_background": "light"
     },
     "output_type": "display_data"
    }
   ],
   "source": [
    "axis = sns.distplot(data, bins=30, kde=False, color='blue')\n",
    "axis.set(xlabel='Distribucion de Bernoulli', ylabel='Frecuencia')\n",
    "axis.axvline(x=mean, linestyle='--', label='mean')\n",
    "axis.legend()"
   ]
  },
  {
   "cell_type": "code",
   "execution_count": 14,
   "id": "english-worst",
   "metadata": {},
   "outputs": [
    {
     "data": {
      "text/plain": [
       "(array(3.), array(2.1), array(0.27602622), array(-0.12380952))"
      ]
     },
     "execution_count": 14,
     "metadata": {},
     "output_type": "execute_result"
    }
   ],
   "source": [
    "p = 0.3\n",
    "n = 10\n",
    "data = binom.rvs(p=p, n=n, size=100)\n",
    "\n",
    "mean, var, skew, kurt = binom.stats(p=p, n=n, moments='mvsk')\n",
    "mean, var, skew, kurt"
   ]
  },
  {
   "cell_type": "code",
   "execution_count": 15,
   "id": "behavioral-contest",
   "metadata": {},
   "outputs": [
    {
     "data": {
      "text/plain": [
       "<matplotlib.legend.Legend at 0x1453794c0>"
      ]
     },
     "execution_count": 15,
     "metadata": {},
     "output_type": "execute_result"
    },
    {
     "data": {
      "image/png": "[encoded data removed]",
      "text/plain": [
       "<Figure size 432x288 with 1 Axes>"
      ]
     },
     "metadata": {
      "needs_background": "light"
     },
     "output_type": "display_data"
    }
   ],
   "source": [
    "axis = sns.distplot(data, bins=30, kde=False, color='blue')\n",
    "axis.set(xlabel='Distribucion Binomial', ylabel='Frecuencia')\n",
    "axis.axvline(x=mean, linestyle='--', label='mean')\n",
    "axis.legend()"
   ]
  },
  {
   "cell_type": "code",
   "execution_count": 16,
   "id": "complete-romantic",
   "metadata": {},
   "outputs": [
    {
     "data": {
      "text/plain": [
       "(array(2.33333333), array(7.77777778), array(2.03188864), array(6.12857143))"
      ]
     },
     "execution_count": 16,
     "metadata": {},
     "output_type": "execute_result"
    }
   ],
   "source": [
    "p =0.3\n",
    "n = 1\n",
    "data = nbinom.rvs(p=p, n=n, size=100)\n",
    "mean, var, skew, kurt = nbinom.stats(p=p, n=n, moments='mvsk')\n",
    "mean, var, skew, kurt"
   ]
  },
  {
   "cell_type": "code",
   "execution_count": 17,
   "id": "banner-exhaust",
   "metadata": {},
   "outputs": [
    {
     "data": {
      "text/plain": [
       "<matplotlib.legend.Legend at 0x1454234f0>"
      ]
     },
     "execution_count": 17,
     "metadata": {},
     "output_type": "execute_result"
    },
    {
     "data": {
      "image/png": "[encoded data removed]",
      "text/plain": [
       "<Figure size 432x288 with 1 Axes>"
      ]
     },
     "metadata": {
      "needs_background": "light"
     },
     "output_type": "display_data"
    }
   ],
   "source": [
    "axis = sns.distplot(data, bins=30, kde=False, color='blue')\n",
    "axis.set(xlabel='Distribucion Geometrica', ylabel='Frecuencia')\n",
    "axis.axvline(x=mean, linestyle='--', label='mean')\n",
    "axis.legend()"
   ]
  },
  {
   "cell_type": "markdown",
   "id": "senior-cancer",
   "metadata": {
    "tags": []
   },
   "source": [
    "### Estandarización, covarianza y correlación"
   ]
  },
  {
   "cell_type": "code",
   "execution_count": 18,
   "id": "mighty-thesaurus",
   "metadata": {},
   "outputs": [],
   "source": [
    "from sklearn import datasets\n",
    "\n",
    "iris_data = datasets.load_iris()\n",
    "iris_df = data1 = pd.DataFrame(data= np.c_[iris_data['data'], iris_data['target']], columns= ['s_length', 's_width', 'p_length', 'p_width', 'target'])"
   ]
  },
  {
   "cell_type": "code",
   "execution_count": 19,
   "id": "necessary-dairy",
   "metadata": {},
   "outputs": [
    {
     "data": {
      "text/html": [
       "<div>\n",
       "<style scoped>\n",
       "    .dataframe tbody tr th:only-of-type {\n",
       "        vertical-align: middle;\n",
       "    }\n",
       "\n",
       "    .dataframe tbody tr th {\n",
       "        vertical-align: top;\n",
       "    }\n",
       "\n",
       "    .dataframe thead th {\n",
       "        text-align: right;\n",
       "    }\n",
       "</style>\n",
       "<table border=\"1\" class=\"dataframe\">\n",
       "  <thead>\n",
       "    <tr style=\"text-align: right;\">\n",
       "      <th></th>\n",
       "      <th>s_length</th>\n",
       "      <th>s_width</th>\n",
       "      <th>p_length</th>\n",
       "      <th>p_width</th>\n",
       "      <th>target</th>\n",
       "    </tr>\n",
       "  </thead>\n",
       "  <tbody>\n",
       "    <tr>\n",
       "      <th>0</th>\n",
       "      <td>5.1</td>\n",
       "      <td>3.5</td>\n",
       "      <td>1.4</td>\n",
       "      <td>0.2</td>\n",
       "      <td>0.0</td>\n",
       "    </tr>\n",
       "    <tr>\n",
       "      <th>1</th>\n",
       "      <td>4.9</td>\n",
       "      <td>3.0</td>\n",
       "      <td>1.4</td>\n",
       "      <td>0.2</td>\n",
       "      <td>0.0</td>\n",
       "    </tr>\n",
       "    <tr>\n",
       "      <th>2</th>\n",
       "      <td>4.7</td>\n",
       "      <td>3.2</td>\n",
       "      <td>1.3</td>\n",
       "      <td>0.2</td>\n",
       "      <td>0.0</td>\n",
       "    </tr>\n",
       "    <tr>\n",
       "      <th>3</th>\n",
       "      <td>4.6</td>\n",
       "      <td>3.1</td>\n",
       "      <td>1.5</td>\n",
       "      <td>0.2</td>\n",
       "      <td>0.0</td>\n",
       "    </tr>\n",
       "    <tr>\n",
       "      <th>4</th>\n",
       "      <td>5.0</td>\n",
       "      <td>3.6</td>\n",
       "      <td>1.4</td>\n",
       "      <td>0.2</td>\n",
       "      <td>0.0</td>\n",
       "    </tr>\n",
       "    <tr>\n",
       "      <th>...</th>\n",
       "      <td>...</td>\n",
       "      <td>...</td>\n",
       "      <td>...</td>\n",
       "      <td>...</td>\n",
       "      <td>...</td>\n",
       "    </tr>\n",
       "    <tr>\n",
       "      <th>145</th>\n",
       "      <td>6.7</td>\n",
       "      <td>3.0</td>\n",
       "      <td>5.2</td>\n",
       "      <td>2.3</td>\n",
       "      <td>2.0</td>\n",
       "    </tr>\n",
       "    <tr>\n",
       "      <th>146</th>\n",
       "      <td>6.3</td>\n",
       "      <td>2.5</td>\n",
       "      <td>5.0</td>\n",
       "      <td>1.9</td>\n",
       "      <td>2.0</td>\n",
       "    </tr>\n",
       "    <tr>\n",
       "      <th>147</th>\n",
       "      <td>6.5</td>\n",
       "      <td>3.0</td>\n",
       "      <td>5.2</td>\n",
       "      <td>2.0</td>\n",
       "      <td>2.0</td>\n",
       "    </tr>\n",
       "    <tr>\n",
       "      <th>148</th>\n",
       "      <td>6.2</td>\n",
       "      <td>3.4</td>\n",
       "      <td>5.4</td>\n",
       "      <td>2.3</td>\n",
       "      <td>2.0</td>\n",
       "    </tr>\n",
       "    <tr>\n",
       "      <th>149</th>\n",
       "      <td>5.9</td>\n",
       "      <td>3.0</td>\n",
       "      <td>5.1</td>\n",
       "      <td>1.8</td>\n",
       "      <td>2.0</td>\n",
       "    </tr>\n",
       "  </tbody>\n",
       "</table>\n",
       "<p>150 rows × 5 columns</p>\n",
       "</div>"
      ],
      "text/plain": [
       "     s_length  s_width  p_length  p_width  target\n",
       "0         5.1      3.5       1.4      0.2     0.0\n",
       "1         4.9      3.0       1.4      0.2     0.0\n",
       "2         4.7      3.2       1.3      0.2     0.0\n",
       "3         4.6      3.1       1.5      0.2     0.0\n",
       "4         5.0      3.6       1.4      0.2     0.0\n",
       "..        ...      ...       ...      ...     ...\n",
       "145       6.7      3.0       5.2      2.3     2.0\n",
       "146       6.3      2.5       5.0      1.9     2.0\n",
       "147       6.5      3.0       5.2      2.0     2.0\n",
       "148       6.2      3.4       5.4      2.3     2.0\n",
       "149       5.9      3.0       5.1      1.8     2.0\n",
       "\n",
       "[150 rows x 5 columns]"
      ]
     },
     "execution_count": 19,
     "metadata": {},
     "output_type": "execute_result"
    }
   ],
   "source": [
    "iris_df"
   ]
  },
  {
   "cell_type": "code",
   "execution_count": 25,
   "id": "premier-discussion",
   "metadata": {},
   "outputs": [
    {
     "data": {
      "text/plain": [
       "<matplotlib.legend.Legend at 0x145fcf820>"
      ]
     },
     "execution_count": 25,
     "metadata": {},
     "output_type": "execute_result"
    },
    {
     "data": {
      "image/png": "[encoded data removed]",
      "text/plain": [
       "<Figure size 432x288 with 1 Axes>"
      ]
     },
     "metadata": {
      "needs_background": "light"
     },
     "output_type": "display_data"
    }
   ],
   "source": [
    "y = iris_df['p_length']\n",
    "\n",
    "figure, axis = plt.subplots()\n",
    "axis.hist(y, bins=30)\n",
    "axis.set_title('Variable original')\n",
    "axis.axvline(x=np.mean(y), c='k', label='media', linestyle='--')\n",
    "axis.axvline(x=np.mean(y)+np.std(y), c='r', label='desviación estándar', linestyle='--')\n",
    "axis.axvline(x=np.mean(y)-np.std(y), c='r', linestyle='--')\n",
    "axis.legend()"
   ]
  },
  {
   "cell_type": "code",
   "execution_count": 27,
   "id": "exceptional-aircraft",
   "metadata": {},
   "outputs": [
    {
     "data": {
      "text/plain": [
       "<matplotlib.legend.Legend at 0x146f7cb20>"
      ]
     },
     "execution_count": 27,
     "metadata": {},
     "output_type": "execute_result"
    },
    {
     "data": {
      "image/png": "[encoded data removed]",
      "text/plain": [
       "<Figure size 432x288 with 1 Axes>"
      ]
     },
     "metadata": {
      "needs_background": "light"
     },
     "output_type": "display_data"
    }
   ],
   "source": [
    "norm_values = y - np.mean(y) / np.std(y)\n",
    "norm_mean = np.mean(norm_values)\n",
    "sigma = np.std(norm_values)\n",
    "sigma_plus = norm_mean + sigma\n",
    "sigma_minus = norm_mean - sigma\n",
    "\n",
    "figure, axis = plt.subplots()\n",
    "axis.hist(norm_values, bins=30)\n",
    "axis.set_title('Variable original')\n",
    "axis.axvline(x=norm_mean, c='k', label='media', linestyle='--')\n",
    "axis.axvline(x=sigma_plus, c='r', label='desviación estándar', linestyle='--')\n",
    "axis.axvline(x=sigma_minus, c='r', linestyle='--')\n",
    "axis.legend()"
   ]
  },
  {
   "cell_type": "code",
   "execution_count": 29,
   "id": "isolated-remainder",
   "metadata": {},
   "outputs": [
    {
     "data": {
      "text/plain": [
       "<matplotlib.collections.PathCollection at 0x14866e6a0>"
      ]
     },
     "execution_count": 29,
     "metadata": {},
     "output_type": "execute_result"
    },
    {
     "data": {
      "image/png": "[encoded data removed]",
      "text/plain": [
       "<Figure size 432x288 with 1 Axes>"
      ]
     },
     "metadata": {
      "needs_background": "light"
     },
     "output_type": "display_data"
    }
   ],
   "source": [
    "figure, axis = plt.subplots()\n",
    "axis.scatter(iris_df['p_length'], iris_df['s_length'], alpha=0.3)"
   ]
  },
  {
   "cell_type": "code",
   "execution_count": 31,
   "id": "infectious-manual",
   "metadata": {},
   "outputs": [
    {
     "data": {
      "text/plain": [
       "array([[3.11627785, 1.27431544],\n",
       "       [1.27431544, 0.68569351]])"
      ]
     },
     "execution_count": 31,
     "metadata": {},
     "output_type": "execute_result"
    }
   ],
   "source": [
    "np.cov(iris_df['p_length'], iris_df['s_length'])"
   ]
  },
  {
   "cell_type": "code",
   "execution_count": 36,
   "id": "placed-somalia",
   "metadata": {},
   "outputs": [],
   "source": [
    "corr = iris_df.corr(method='spearman')"
   ]
  },
  {
   "cell_type": "code",
   "execution_count": 37,
   "id": "genetic-choir",
   "metadata": {},
   "outputs": [
    {
     "data": {
      "text/plain": [
       "<AxesSubplot:>"
      ]
     },
     "execution_count": 37,
     "metadata": {},
     "output_type": "execute_result"
    },
    {
     "data": {
      "image/png": "[encoded data removed]",
      "text/plain": [
       "<Figure size 432x288 with 2 Axes>"
      ]
     },
     "metadata": {
      "needs_background": "light"
     },
     "output_type": "display_data"
    }
   ],
   "source": [
    "sns.heatmap(corr, xticklabels=iris_df.columns)"
   ]
  }
 ],
 "metadata": {
  "kernelspec": {
   "display_name": "Python 3",
   "language": "python",
   "name": "python3"
  },
  "language_info": {
   "codemirror_mode": {
    "name": "ipython",
    "version": 3
   },
   "file_extension": ".py",
   "mimetype": "text/x-python",
   "name": "python",
   "nbconvert_exporter": "python",
   "pygments_lexer": "ipython3",
   "version": "3.8.7"
  },
  "toc-autonumbering": true
 },
 "nbformat": 4,
 "nbformat_minor": 5
}
