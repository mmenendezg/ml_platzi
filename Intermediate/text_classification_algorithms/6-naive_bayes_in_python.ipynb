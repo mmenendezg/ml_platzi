{
 "cells": [
  {
   "cell_type": "code",
   "execution_count": 1,
   "metadata": {},
   "outputs": [
    {
     "name": "stderr",
     "output_type": "stream",
     "text": [
      "/Users/mmenendezg/Developer/Platzi/.venv/lib/python3.10/site-packages/tqdm/auto.py:21: TqdmWarning: IProgress not found. Please update jupyter and ipywidgets. See https://ipywidgets.readthedocs.io/en/stable/user_install.html\n",
      "  from .autonotebook import tqdm as notebook_tqdm\n"
     ]
    },
    {
     "ename": "NotFoundError",
     "evalue": "dlopen(/Users/mmenendezg/Developer/Platzi/.venv/lib/python3.10/site-packages/tensorflow-plugins/libmetal_plugin.dylib, 0x0006): symbol not found in flat namespace '__ZN10tensorflow8internal10LogMessage16VmoduleActivatedEPKci'",
     "output_type": "error",
     "traceback": [
      "\u001b[0;31m---------------------------------------------------------------------------\u001b[0m",
      "\u001b[0;31mNotFoundError\u001b[0m                             Traceback (most recent call last)",
      "Cell \u001b[0;32mIn[1], line 6\u001b[0m\n\u001b[1;32m      2\u001b[0m \u001b[39mimport\u001b[39;00m \u001b[39mos\u001b[39;00m\n\u001b[1;32m      4\u001b[0m \u001b[39mimport\u001b[39;00m \u001b[39mnumpy\u001b[39;00m \u001b[39mas\u001b[39;00m \u001b[39mnp\u001b[39;00m\n\u001b[0;32m----> 6\u001b[0m \u001b[39mfrom\u001b[39;00m \u001b[39mspacy\u001b[39;00m\u001b[39m.\u001b[39;00m\u001b[39mtokenizer\u001b[39;00m \u001b[39mimport\u001b[39;00m Tokenizer\n\u001b[1;32m      7\u001b[0m \u001b[39mfrom\u001b[39;00m \u001b[39mspacy\u001b[39;00m\u001b[39m.\u001b[39;00m\u001b[39mlang\u001b[39;00m\u001b[39m.\u001b[39;00m\u001b[39men\u001b[39;00m \u001b[39mimport\u001b[39;00m English\n",
      "File \u001b[0;32m~/Developer/Platzi/.venv/lib/python3.10/site-packages/spacy/__init__.py:6\u001b[0m\n\u001b[1;32m      3\u001b[0m \u001b[39mimport\u001b[39;00m \u001b[39msys\u001b[39;00m\n\u001b[1;32m      5\u001b[0m \u001b[39m# set library-specific custom warning handling before doing anything else\u001b[39;00m\n\u001b[0;32m----> 6\u001b[0m \u001b[39mfrom\u001b[39;00m \u001b[39m.\u001b[39;00m\u001b[39merrors\u001b[39;00m \u001b[39mimport\u001b[39;00m setup_default_warnings\n\u001b[1;32m      8\u001b[0m setup_default_warnings()  \u001b[39m# noqa: E402\u001b[39;00m\n\u001b[1;32m     10\u001b[0m \u001b[39m# These are imported as part of the API\u001b[39;00m\n",
      "File \u001b[0;32m~/Developer/Platzi/.venv/lib/python3.10/site-packages/spacy/errors.py:2\u001b[0m\n\u001b[1;32m      1\u001b[0m \u001b[39mimport\u001b[39;00m \u001b[39mwarnings\u001b[39;00m\n\u001b[0;32m----> 2\u001b[0m \u001b[39mfrom\u001b[39;00m \u001b[39m.\u001b[39;00m\u001b[39mcompat\u001b[39;00m \u001b[39mimport\u001b[39;00m Literal\n\u001b[1;32m      5\u001b[0m \u001b[39mclass\u001b[39;00m \u001b[39mErrorsWithCodes\u001b[39;00m(\u001b[39mtype\u001b[39m):\n\u001b[1;32m      6\u001b[0m     \u001b[39mdef\u001b[39;00m \u001b[39m__getattribute__\u001b[39m(\u001b[39mself\u001b[39m, code):\n",
      "File \u001b[0;32m~/Developer/Platzi/.venv/lib/python3.10/site-packages/spacy/compat.py:3\u001b[0m\n\u001b[1;32m      1\u001b[0m \u001b[39m\"\"\"Helpers for Python and platform compatibility.\"\"\"\u001b[39;00m\n\u001b[1;32m      2\u001b[0m \u001b[39mimport\u001b[39;00m \u001b[39msys\u001b[39;00m\n\u001b[0;32m----> 3\u001b[0m \u001b[39mfrom\u001b[39;00m \u001b[39mthinc\u001b[39;00m\u001b[39m.\u001b[39;00m\u001b[39mutil\u001b[39;00m \u001b[39mimport\u001b[39;00m copy_array\n\u001b[1;32m      5\u001b[0m \u001b[39mtry\u001b[39;00m:\n\u001b[1;32m      6\u001b[0m     \u001b[39mimport\u001b[39;00m \u001b[39mcPickle\u001b[39;00m \u001b[39mas\u001b[39;00m \u001b[39mpickle\u001b[39;00m\n",
      "File \u001b[0;32m~/Developer/Platzi/.venv/lib/python3.10/site-packages/thinc/__init__.py:5\u001b[0m\n\u001b[1;32m      2\u001b[0m \u001b[39mimport\u001b[39;00m \u001b[39mnumpy\u001b[39;00m\n\u001b[1;32m      4\u001b[0m \u001b[39mfrom\u001b[39;00m \u001b[39m.\u001b[39;00m\u001b[39mabout\u001b[39;00m \u001b[39mimport\u001b[39;00m __version__\n\u001b[0;32m----> 5\u001b[0m \u001b[39mfrom\u001b[39;00m \u001b[39m.\u001b[39;00m\u001b[39mconfig\u001b[39;00m \u001b[39mimport\u001b[39;00m registry\n\u001b[1;32m      8\u001b[0m \u001b[39m# fmt: off\u001b[39;00m\n\u001b[1;32m      9\u001b[0m __all__ \u001b[39m=\u001b[39m [\n\u001b[1;32m     10\u001b[0m     \u001b[39m\"\u001b[39m\u001b[39mregistry\u001b[39m\u001b[39m\"\u001b[39m,\n\u001b[1;32m     11\u001b[0m     \u001b[39m\"\u001b[39m\u001b[39m__version__\u001b[39m\u001b[39m\"\u001b[39m,\n\u001b[1;32m     12\u001b[0m ]\n",
      "File \u001b[0;32m~/Developer/Platzi/.venv/lib/python3.10/site-packages/thinc/config.py:4\u001b[0m\n\u001b[1;32m      2\u001b[0m \u001b[39mimport\u001b[39;00m \u001b[39mconfection\u001b[39;00m\n\u001b[1;32m      3\u001b[0m \u001b[39mfrom\u001b[39;00m \u001b[39mconfection\u001b[39;00m \u001b[39mimport\u001b[39;00m Config, ConfigValidationError, Promise, VARIABLE_RE\n\u001b[0;32m----> 4\u001b[0m \u001b[39mfrom\u001b[39;00m \u001b[39m.\u001b[39;00m\u001b[39mtypes\u001b[39;00m \u001b[39mimport\u001b[39;00m Decorator\n\u001b[1;32m      7\u001b[0m \u001b[39mclass\u001b[39;00m \u001b[39mregistry\u001b[39;00m(confection\u001b[39m.\u001b[39mregistry):\n\u001b[1;32m      8\u001b[0m     \u001b[39m# fmt: off\u001b[39;00m\n\u001b[1;32m      9\u001b[0m     optimizers: Decorator \u001b[39m=\u001b[39m catalogue\u001b[39m.\u001b[39mcreate(\u001b[39m\"\u001b[39m\u001b[39mthinc\u001b[39m\u001b[39m\"\u001b[39m, \u001b[39m\"\u001b[39m\u001b[39moptimizers\u001b[39m\u001b[39m\"\u001b[39m, entry_points\u001b[39m=\u001b[39m\u001b[39mTrue\u001b[39;00m)\n",
      "File \u001b[0;32m~/Developer/Platzi/.venv/lib/python3.10/site-packages/thinc/types.py:8\u001b[0m\n\u001b[1;32m      6\u001b[0m \u001b[39mimport\u001b[39;00m \u001b[39mnumpy\u001b[39;00m\n\u001b[1;32m      7\u001b[0m \u001b[39mimport\u001b[39;00m \u001b[39msys\u001b[39;00m\n\u001b[0;32m----> 8\u001b[0m \u001b[39mfrom\u001b[39;00m \u001b[39m.\u001b[39;00m\u001b[39mcompat\u001b[39;00m \u001b[39mimport\u001b[39;00m has_cupy, cupy\n\u001b[1;32m     10\u001b[0m \u001b[39mif\u001b[39;00m has_cupy:\n\u001b[1;32m     11\u001b[0m     get_array_module \u001b[39m=\u001b[39m cupy\u001b[39m.\u001b[39mget_array_module\n",
      "File \u001b[0;32m~/Developer/Platzi/.venv/lib/python3.10/site-packages/thinc/compat.py:56\u001b[0m\n\u001b[1;32m     53\u001b[0m     torch_version \u001b[39m=\u001b[39m Version(\u001b[39m\"\u001b[39m\u001b[39m0.0.0\u001b[39m\u001b[39m\"\u001b[39m)\n\u001b[1;32m     55\u001b[0m \u001b[39mtry\u001b[39;00m:  \u001b[39m# pragma: no cover\u001b[39;00m\n\u001b[0;32m---> 56\u001b[0m     \u001b[39mimport\u001b[39;00m \u001b[39mtensorflow\u001b[39;00m\u001b[39m.\u001b[39;00m\u001b[39mexperimental\u001b[39;00m\u001b[39m.\u001b[39;00m\u001b[39mdlpack\u001b[39;00m\n\u001b[1;32m     57\u001b[0m     \u001b[39mimport\u001b[39;00m \u001b[39mtensorflow\u001b[39;00m\n\u001b[1;32m     59\u001b[0m     has_tensorflow \u001b[39m=\u001b[39m \u001b[39mTrue\u001b[39;00m\n",
      "File \u001b[0;32m~/Developer/Platzi/.venv/lib/python3.10/site-packages/tensorflow/__init__.py:441\u001b[0m\n\u001b[1;32m    439\u001b[0m _plugin_dir \u001b[39m=\u001b[39m _os\u001b[39m.\u001b[39mpath\u001b[39m.\u001b[39mjoin(_s, \u001b[39m'\u001b[39m\u001b[39mtensorflow-plugins\u001b[39m\u001b[39m'\u001b[39m)\n\u001b[1;32m    440\u001b[0m \u001b[39mif\u001b[39;00m _os\u001b[39m.\u001b[39mpath\u001b[39m.\u001b[39mexists(_plugin_dir):\n\u001b[0;32m--> 441\u001b[0m   _ll\u001b[39m.\u001b[39;49mload_library(_plugin_dir)\n\u001b[1;32m    442\u001b[0m   \u001b[39m# Load Pluggable Device Library\u001b[39;00m\n\u001b[1;32m    443\u001b[0m   _ll\u001b[39m.\u001b[39mload_pluggable_device_library(_plugin_dir)\n",
      "File \u001b[0;32m~/Developer/Platzi/.venv/lib/python3.10/site-packages/tensorflow/python/framework/load_library.py:151\u001b[0m, in \u001b[0;36mload_library\u001b[0;34m(library_location)\u001b[0m\n\u001b[1;32m    148\u001b[0m     kernel_libraries \u001b[39m=\u001b[39m [library_location]\n\u001b[1;32m    150\u001b[0m   \u001b[39mfor\u001b[39;00m lib \u001b[39min\u001b[39;00m kernel_libraries:\n\u001b[0;32m--> 151\u001b[0m     py_tf\u001b[39m.\u001b[39;49mTF_LoadLibrary(lib)\n\u001b[1;32m    153\u001b[0m \u001b[39melse\u001b[39;00m:\n\u001b[1;32m    154\u001b[0m   \u001b[39mraise\u001b[39;00m \u001b[39mOSError\u001b[39;00m(\n\u001b[1;32m    155\u001b[0m       errno\u001b[39m.\u001b[39mENOENT,\n\u001b[1;32m    156\u001b[0m       \u001b[39m'\u001b[39m\u001b[39mThe file or folder to load kernel libraries from does not exist.\u001b[39m\u001b[39m'\u001b[39m,\n\u001b[1;32m    157\u001b[0m       library_location)\n",
      "\u001b[0;31mNotFoundError\u001b[0m: dlopen(/Users/mmenendezg/Developer/Platzi/.venv/lib/python3.10/site-packages/tensorflow-plugins/libmetal_plugin.dylib, 0x0006): symbol not found in flat namespace '__ZN10tensorflow8internal10LogMessage16VmoduleActivatedEPKci'"
     ]
    }
   ],
   "source": [
    "import math\n",
    "import os\n",
    "\n",
    "import numpy as np\n",
    "\n",
    "from spacy.tokenizer import Tokenizer\n",
    "from spacy.lang.en import English\n"
   ]
  },
  {
   "cell_type": "code",
   "execution_count": null,
   "metadata": {},
   "outputs": [],
   "source": [
    "nlp = English"
   ]
  },
  {
   "cell_type": "code",
   "execution_count": null,
   "metadata": {},
   "outputs": [],
   "source": [
    "data = []\n",
    "classes = []\n",
    "\n",
    "# Spam files\n",
    "for file in os.listdir(\"nlp/corpus1/spam/\"):\n",
    "    with open(f\"nlp/corpus1/spam/{file}\", encoding=\"latin-1\") as f:\n",
    "        data.append(f.read())\n",
    "        classes.append(\"spam\")\n",
    "\n",
    "# Ham files\n",
    "for file in os.listdir(\"nlp/corpus1/ham/\"):\n",
    "    with open(f\"nlp/corpus1/ham/{file}\", encoding=\"latin-1\") as f:\n",
    "        data.append(f.read())\n",
    "        classes.append(\"spam\")"
   ]
  },
  {
   "cell_type": "code",
   "execution_count": null,
   "metadata": {},
   "outputs": [],
   "source": [
    "len(data)"
   ]
  },
  {
   "attachments": {},
   "cell_type": "markdown",
   "metadata": {},
   "source": [
    "## Principal Class \n",
    "\n",
    "To calculate the infered class we use naive Bayes:\n",
    "\n",
    "$$\\hat{c}=\\arg\\max_{(c)}=\\log(P(c))+\\sum_{i=1}^{n}{P(f_i|c)}$$\n",
    "\n",
    "If a class has no values, then the probability is zero, and the $\\log(0)$ cannot be calculated. To avoid this, we use\n",
    "the Laplace smoothing:\n",
    "\n",
    "$$P(f_i|c) = \\frac {C(f_i, c) + 1} {C(c) + |V|}$$\n",
    "\n",
    "where $|V|$ is the length of the vocabulary."
   ]
  },
  {
   "cell_type": "code",
   "execution_count": null,
   "metadata": {},
   "outputs": [],
   "source": [
    "nlp = English()\n",
    "tokenizer = Tokenizer(nlp.vocab)"
   ]
  },
  {
   "cell_type": "code",
   "execution_count": null,
   "metadata": {},
   "outputs": [],
   "source": [
    "print([t.text for t in tokenizer(data[0])])"
   ]
  },
  {
   "cell_type": "code",
   "execution_count": null,
   "metadata": {},
   "outputs": [],
   "source": [
    "class NaiveBayesClassifier:\n",
    "    def __init__(self):\n",
    "        self.nlp = English()\n",
    "        self.tokenizer = Tokenizer(self.nlp.vocab)\n",
    "\n",
    "    def tokenize(self, doc):\n",
    "        return [t.text.lower() for t in self.tokenizer(doc)]\n",
    "\n",
    "    def word_count(self, words):\n",
    "        word_count = {}\n",
    "        for w in words:\n",
    "            if w in word_count.keys():\n",
    "                word_count[w] += 1\n",
    "            else:\n",
    "                word_count[w] = 1\n",
    "\n",
    "        return word_count\n",
    "\n",
    "    def fit(self, data, classes):\n",
    "        n = len(data)\n",
    "        self.unique_classes = set(classes)\n",
    "        self.vocab = set()\n",
    "        self.class_count = {}  # C(c)\n",
    "        self.log_class_prior_prob = {}  # log(P(c))\n",
    "        self.word_conditional_count = {}  # C(w|c)\n",
    "        # Counting of the classes\n",
    "        for c in classes:\n",
    "            if c in self.class_count.keys():\n",
    "                self.class_count[c] += 1\n",
    "            else:\n",
    "                self.class_count[c] = 1\n",
    "        # Calculation of P(c)\n",
    "        for c in self.class_count.keys():\n",
    "            self.log_class_prior_prob[c] = math.log(self.class_count[c] / n)\n",
    "            self.word_conditional_count[c] = {}\n",
    "            # Calculation of C(w|c)\n",
    "            for text, c in zip(data, classes):\n",
    "                counts = self.word_count(self.tokenize(text))\n",
    "                for word, count in count.items():\n",
    "                    if word not in self.vocab:\n",
    "                        self.vocab.add(word)\n",
    "                    if word not in self.word_conditional_count[c]:\n",
    "                        self.word_conditional_count[c][word] = 0.0\n",
    "                    self.word_conditional_count[c][word] += count\n",
    "\n",
    "    def predict(self, data):\n",
    "        results = []\n",
    "        for text in data:\n",
    "            words = set(self.tokenize(data))\n",
    "            score_probability = {}\n",
    "            for word in words:\n",
    "                # We ignore if the word is not in the vocab\n",
    "                if word not in self.vocab:\n",
    "                    continue\n",
    "                # Laplace Smoothing\n",
    "                for c in self.unique_classes:\n",
    "                    log_word_class_prob = math.log(\n",
    "                        (self.word_conditional_count.get(word, 0.0) + 1)\n",
    "                        / (self.class_count[c] + len(self.vocab))\n",
    "                    )\n",
    "                    score_probability[c] = score_probability.get(c, self.log_class_prior_prob[c]) + log_word_class_prob\n",
    "            \n",
    "            arg_max_prob = np.argmax()\n"
   ]
  },
  {
   "cell_type": "code",
   "execution_count": null,
   "metadata": {},
   "outputs": [],
   "source": []
  }
 ],
 "metadata": {
  "kernelspec": {
   "display_name": ".venv",
   "language": "python",
   "name": "python3"
  },
  "language_info": {
   "codemirror_mode": {
    "name": "ipython",
    "version": 3
   },
   "file_extension": ".py",
   "mimetype": "text/x-python",
   "name": "python",
   "nbconvert_exporter": "python",
   "pygments_lexer": "ipython3",
   "version": "3.10.10"
  },
  "orig_nbformat": 4
 },
 "nbformat": 4,
 "nbformat_minor": 2
}
