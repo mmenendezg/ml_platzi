{
 "cells": [
  {
   "cell_type": "markdown",
   "id": "ideal-topic",
   "metadata": {},
   "source": [
    "# Strings"
   ]
  },
  {
   "cell_type": "code",
   "execution_count": 1,
   "id": "hundred-karma",
   "metadata": {},
   "outputs": [],
   "source": [
    "import pandas as pd \n",
    "\n",
    "data = {\n",
    "    'names' : [\n",
    "        'Sara Moreno 34',\n",
    "        'jUAn GoMEz 23',\n",
    "        'MarLon MENendez 28',\n",
    "        'ReNE OBanDo 25',\n",
    "        'AleJAndro obaNdo 24',\n",
    "        pd.NA\n",
    "    ]\n",
    "}"
   ]
  },
  {
   "cell_type": "code",
   "execution_count": 2,
   "id": "mounted-accused",
   "metadata": {},
   "outputs": [
    {
     "data": {
      "text/html": [
       "<div>\n",
       "<style scoped>\n",
       "    .dataframe tbody tr th:only-of-type {\n",
       "        vertical-align: middle;\n",
       "    }\n",
       "\n",
       "    .dataframe tbody tr th {\n",
       "        vertical-align: top;\n",
       "    }\n",
       "\n",
       "    .dataframe thead th {\n",
       "        text-align: right;\n",
       "    }\n",
       "</style>\n",
       "<table border=\"1\" class=\"dataframe\">\n",
       "  <thead>\n",
       "    <tr style=\"text-align: right;\">\n",
       "      <th></th>\n",
       "      <th>names</th>\n",
       "    </tr>\n",
       "  </thead>\n",
       "  <tbody>\n",
       "    <tr>\n",
       "      <th>0</th>\n",
       "      <td>Sara Moreno 34</td>\n",
       "    </tr>\n",
       "    <tr>\n",
       "      <th>1</th>\n",
       "      <td>jUAn GoMEz 23</td>\n",
       "    </tr>\n",
       "    <tr>\n",
       "      <th>2</th>\n",
       "      <td>MarLon MENendez 28</td>\n",
       "    </tr>\n",
       "    <tr>\n",
       "      <th>3</th>\n",
       "      <td>ReNE OBanDo 25</td>\n",
       "    </tr>\n",
       "    <tr>\n",
       "      <th>4</th>\n",
       "      <td>AleJAndro obaNdo 24</td>\n",
       "    </tr>\n",
       "    <tr>\n",
       "      <th>5</th>\n",
       "      <td>&lt;NA&gt;</td>\n",
       "    </tr>\n",
       "  </tbody>\n",
       "</table>\n",
       "</div>"
      ],
      "text/plain": [
       "                 names\n",
       "0       Sara Moreno 34\n",
       "1        jUAn GoMEz 23\n",
       "2   MarLon MENendez 28\n",
       "3       ReNE OBanDo 25\n",
       "4  AleJAndro obaNdo 24\n",
       "5                 <NA>"
      ]
     },
     "execution_count": 2,
     "metadata": {},
     "output_type": "execute_result"
    }
   ],
   "source": [
    "df = pd.DataFrame(data)\n",
    "df"
   ]
  },
  {
   "cell_type": "code",
   "execution_count": 3,
   "id": "sustainable-arrangement",
   "metadata": {},
   "outputs": [
    {
     "data": {
      "text/plain": [
       "0         sara moreno 34\n",
       "1          juan gomez 23\n",
       "2     marlon menendez 28\n",
       "3         rene obando 25\n",
       "4    alejandro obando 24\n",
       "5                   <NA>\n",
       "Name: names, dtype: object"
      ]
     },
     "execution_count": 3,
     "metadata": {},
     "output_type": "execute_result"
    }
   ],
   "source": [
    "df['names'].str.lower()"
   ]
  },
  {
   "cell_type": "code",
   "execution_count": 4,
   "id": "architectural-wiring",
   "metadata": {},
   "outputs": [
    {
     "data": {
      "text/plain": [
       "0         SARA MORENO 34\n",
       "1          JUAN GOMEZ 23\n",
       "2     MARLON MENENDEZ 28\n",
       "3         RENE OBANDO 25\n",
       "4    ALEJANDRO OBANDO 24\n",
       "5                   <NA>\n",
       "Name: names, dtype: object"
      ]
     },
     "execution_count": 4,
     "metadata": {},
     "output_type": "execute_result"
    }
   ],
   "source": [
    "df['names'].str.upper()"
   ]
  },
  {
   "cell_type": "code",
   "execution_count": 5,
   "id": "adequate-florida",
   "metadata": {},
   "outputs": [
    {
     "data": {
      "text/plain": [
       "0         Sara moreno 34\n",
       "1          Juan gomez 23\n",
       "2     Marlon menendez 28\n",
       "3         Rene obando 25\n",
       "4    Alejandro obando 24\n",
       "5                   <NA>\n",
       "Name: names, dtype: object"
      ]
     },
     "execution_count": 5,
     "metadata": {},
     "output_type": "execute_result"
    }
   ],
   "source": [
    "df['names'].str.capitalize()"
   ]
  },
  {
   "cell_type": "code",
   "execution_count": 7,
   "id": "alien-carbon",
   "metadata": {},
   "outputs": [
    {
     "data": {
      "text/plain": [
       "0      14\n",
       "1      13\n",
       "2      18\n",
       "3      14\n",
       "4      19\n",
       "5    <NA>\n",
       "Name: names, dtype: object"
      ]
     },
     "execution_count": 7,
     "metadata": {},
     "output_type": "execute_result"
    }
   ],
   "source": [
    "df['names'].str.len()"
   ]
  },
  {
   "cell_type": "code",
   "execution_count": 8,
   "id": "labeled-parallel",
   "metadata": {},
   "outputs": [
    {
     "data": {
      "text/plain": [
       "0         [Sara, Moreno, 34]\n",
       "1          [jUAn, GoMEz, 23]\n",
       "2     [MarLon, MENendez, 28]\n",
       "3         [ReNE, OBanDo, 25]\n",
       "4    [AleJAndro, obaNdo, 24]\n",
       "5                       <NA>\n",
       "Name: names, dtype: object"
      ]
     },
     "execution_count": 8,
     "metadata": {},
     "output_type": "execute_result"
    }
   ],
   "source": [
    "df['names'].str.split(' ')"
   ]
  }
 ],
 "metadata": {
  "kernelspec": {
   "display_name": "Python 3",
   "language": "python",
   "name": "python3"
  },
  "language_info": {
   "codemirror_mode": {
    "name": "ipython",
    "version": 3
   },
   "file_extension": ".py",
   "mimetype": "text/x-python",
   "name": "python",
   "nbconvert_exporter": "python",
   "pygments_lexer": "ipython3",
   "version": "3.8.7"
  }
 },
 "nbformat": 4,
 "nbformat_minor": 5
}
