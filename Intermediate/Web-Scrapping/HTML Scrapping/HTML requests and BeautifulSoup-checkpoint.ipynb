{
 "cells": [
  {
   "cell_type": "markdown",
   "id": "offshore-trauma",
   "metadata": {},
   "source": [
    "# HTML: requests and BeaufitulSoup"
   ]
  },
  {
   "cell_type": "code",
   "execution_count": 1,
   "id": "induced-eating",
   "metadata": {},
   "outputs": [],
   "source": [
    "import requests\n",
    "from bs4 import BeautifulSoup\n",
    "\n",
    "URL_WEBSITE = 'https://diarioelsalvador.com/'"
   ]
  },
  {
   "cell_type": "code",
   "execution_count": 2,
   "id": "stretch-apparel",
   "metadata": {},
   "outputs": [],
   "source": [
    "diario_es = requests.get(URL_WEBSITE)"
   ]
  },
  {
   "cell_type": "code",
   "execution_count": 3,
   "id": "contained-commonwealth",
   "metadata": {},
   "outputs": [
    {
     "data": {
      "text/plain": [
       "200"
      ]
     },
     "execution_count": 3,
     "metadata": {},
     "output_type": "execute_result"
    }
   ],
   "source": [
    "diario_es.status_code"
   ]
  },
  {
   "cell_type": "code",
   "execution_count": null,
   "id": "important-johnston",
   "metadata": {},
   "outputs": [],
   "source": [
    "print(diario_es.content)"
   ]
  },
  {
   "cell_type": "code",
   "execution_count": 5,
   "id": "british-debut",
   "metadata": {},
   "outputs": [
    {
     "data": {
      "text/plain": [
       "{'Date': 'Sat, 06 Mar 2021 12:41:23 GMT', 'Content-Type': 'text/html; charset=UTF-8', 'Transfer-Encoding': 'chunked', 'Connection': 'keep-alive', 'Set-Cookie': '__cfduid=dbd3bd8c37990739405ceb6898d56444e1615034482; expires=Mon, 05-Apr-21 12:41:22 GMT; path=/; domain=.diarioelsalvador.com; HttpOnly; SameSite=Lax', 'Vary': 'Accept-Encoding, Accept-Encoding, Cookie', 'Cache-Control': 'max-age=3, must-revalidate', 'Last-Modified': 'Sat, 06 Mar 2021 12:14:29 GMT', 'X-Frame-Options': 'SAMEORIGIN', 'X-XSS-Protection': '1; mode=block', 'X-Content-Type-Options': 'nosniff', 'CF-Cache-Status': 'DYNAMIC', 'cf-request-id': '08a92798f50000044127b98000000001', 'Expect-CT': 'max-age=604800, report-uri=\"https://report-uri.cloudflare.com/cdn-cgi/beacon/expect-ct\"', 'Report-To': '{\"group\":\"cf-nel\",\"endpoints\":[{\"url\":\"https:\\\\/\\\\/a.nel.cloudflare.com\\\\/report?s=5CP634LH1YQ9xuUVYn6VKI6iGiY3vXTyrP4gTH%2BKGHAcKNsMHUD6vX%2BNyswAmKz0KqQd%2Fxurmdx8EA2BwRuJWxoT5FTDCl90B7SnB%2BOLutssgzIX1Q%3D%3D\"}],\"max_age\":604800}', 'NEL': '{\"max_age\":604800,\"report_to\":\"cf-nel\"}', 'Server': 'cloudflare', 'CF-RAY': '62bba86e58910441-MIA', 'Content-Encoding': 'gzip'}"
      ]
     },
     "execution_count": 5,
     "metadata": {},
     "output_type": "execute_result"
    }
   ],
   "source": [
    "diario_es.headers"
   ]
  },
  {
   "cell_type": "code",
   "execution_count": 6,
   "id": "friendly-bobby",
   "metadata": {},
   "outputs": [
    {
     "data": {
      "text/plain": [
       "{'User-Agent': 'python-requests/2.25.1', 'Accept-Encoding': 'gzip, deflate', 'Accept': '*/*', 'Connection': 'keep-alive'}"
      ]
     },
     "execution_count": 6,
     "metadata": {},
     "output_type": "execute_result"
    }
   ],
   "source": [
    "diario_es.request.headers"
   ]
  },
  {
   "cell_type": "code",
   "execution_count": 7,
   "id": "virgin-pillow",
   "metadata": {},
   "outputs": [
    {
     "data": {
      "text/plain": [
       "'GET'"
      ]
     },
     "execution_count": 7,
     "metadata": {},
     "output_type": "execute_result"
    }
   ],
   "source": [
    "diario_es.request.method"
   ]
  },
  {
   "cell_type": "code",
   "execution_count": 9,
   "id": "outdoor-african",
   "metadata": {},
   "outputs": [
    {
     "data": {
      "text/plain": [
       "'https://diarioelsalvador.com/'"
      ]
     },
     "execution_count": 9,
     "metadata": {},
     "output_type": "execute_result"
    }
   ],
   "source": [
    "diario_es.request.url"
   ]
  },
  {
   "cell_type": "code",
   "execution_count": 8,
   "id": "patent-ethernet",
   "metadata": {},
   "outputs": [],
   "source": [
    "html_soup = BeautifulSoup(diario_es.text, 'lxml')"
   ]
  },
  {
   "cell_type": "code",
   "execution_count": 10,
   "id": "distinct-reggae",
   "metadata": {},
   "outputs": [
    {
     "data": {
      "text/plain": [
       "bs4.BeautifulSoup"
      ]
     },
     "execution_count": 10,
     "metadata": {},
     "output_type": "execute_result"
    }
   ],
   "source": [
    "type(html_soup)"
   ]
  },
  {
   "cell_type": "code",
   "execution_count": null,
   "id": "academic-elephant",
   "metadata": {},
   "outputs": [],
   "source": [
    "print(html_soup.prettify())"
   ]
  },
  {
   "cell_type": "code",
   "execution_count": 12,
   "id": "centered-africa",
   "metadata": {},
   "outputs": [
    {
     "data": {
      "text/plain": [
       "[<li class=\"menu-item menu-item-type-taxonomy menu-item-object-category menu-item-543 bgnav\" data-item-row=\"default\" id=\"menu-item-543\"><a href=\"https://diarioelsalvador.com/seccion/depais/\">De<span class=\"titulonavDE\">País</span></a></li>,\n",
       " <li class=\"menu-item menu-item-type-taxonomy menu-item-object-category menu-item-540 bgnav\" data-item-row=\"default\" id=\"menu-item-540\"><a href=\"https://diarioelsalvador.com/seccion/depalabra/\">De<span class=\"titulonavDE\">Palabra</span></a></li>,\n",
       " <li class=\"menu-item menu-item-type-taxonomy menu-item-object-category menu-item-544 bgnav\" data-item-row=\"default\" id=\"menu-item-544\"><a href=\"https://diarioelsalvador.com/seccion/dedinero/\">De<span class=\"titulonavDE\">Dinero</span></a></li>,\n",
       " <li class=\"menu-item menu-item-type-taxonomy menu-item-object-category menu-item-545 bgnav\" data-item-row=\"default\" id=\"menu-item-545\"><a href=\"https://diarioelsalvador.com/seccion/decomercio/\">De<span class=\"titulonavDE\">Comercio</span></a></li>,\n",
       " <li class=\"menu-item menu-item-type-taxonomy menu-item-object-category menu-item-546 bgnav\" data-item-row=\"default\" id=\"menu-item-546\"><a href=\"https://diarioelsalvador.com/seccion/deplaneta/\">De<span class=\"titulonavDE\">Planeta</span></a></li>,\n",
       " <li class=\"menu-item menu-item-type-taxonomy menu-item-object-category menu-item-541 bgnav\" data-item-row=\"default\" id=\"menu-item-541\"><a href=\"https://diarioelsalvador.com/seccion/deinnovacion/\">De<span class=\"titulonavDE\">Innovación</span></a></li>,\n",
       " <li class=\"menu-item menu-item-type-taxonomy menu-item-object-category menu-item-547 bgnav\" data-item-row=\"default\" id=\"menu-item-547\"><a href=\"https://diarioelsalvador.com/seccion/decultura/\">De<span class=\"titulonavDE\">Cultura</span></a></li>,\n",
       " <li class=\"menu-item menu-item-type-taxonomy menu-item-object-category menu-item-539 bgnav\" data-item-row=\"default\" id=\"menu-item-539\"><a href=\"https://diarioelsalvador.com/seccion/devida/\">De<span class=\"titulonavDE\">Vida</span></a></li>,\n",
       " <li class=\"menu-item menu-item-type-taxonomy menu-item-object-category menu-item-548 bgnav\" data-item-row=\"default\" id=\"menu-item-548\"><a href=\"https://diarioelsalvador.com/seccion/dediversion/\">De<span class=\"titulonavDE\">Diversión</span></a></li>,\n",
       " <li class=\"menu-item menu-item-type-taxonomy menu-item-object-category menu-item-542 bgnav\" data-item-row=\"default\" id=\"menu-item-542\"><a href=\"https://diarioelsalvador.com/seccion/dedeportes/\">De<span class=\"titulonavDE\">Deportes</span></a></li>]"
      ]
     },
     "execution_count": 12,
     "metadata": {},
     "output_type": "execute_result"
    }
   ],
   "source": [
    "attrs = {'class' : 'jeg_menu'}\n",
    "html_soup.find('ul', attrs=attrs).find_all('li')"
   ]
  },
  {
   "cell_type": "code",
   "execution_count": 13,
   "id": "compact-penguin",
   "metadata": {},
   "outputs": [],
   "source": [
    "sections = html_soup.find('ul', attrs=attrs).find_all('li')\n",
    "section = sections[0]"
   ]
  },
  {
   "cell_type": "code",
   "execution_count": 14,
   "id": "excessive-maker",
   "metadata": {},
   "outputs": [
    {
     "data": {
      "text/plain": [
       "'https://diarioelsalvador.com/seccion/depais/'"
      ]
     },
     "execution_count": 14,
     "metadata": {},
     "output_type": "execute_result"
    }
   ],
   "source": [
    "section.find('a').get_text()\n",
    "section.find('a').get('href')"
   ]
  },
  {
   "cell_type": "code",
   "execution_count": 15,
   "id": "prescribed-cholesterol",
   "metadata": {},
   "outputs": [
    {
     "data": {
      "text/plain": [
       "['https://diarioelsalvador.com/seccion/depais/',\n",
       " 'https://diarioelsalvador.com/seccion/depalabra/',\n",
       " 'https://diarioelsalvador.com/seccion/dedinero/',\n",
       " 'https://diarioelsalvador.com/seccion/decomercio/',\n",
       " 'https://diarioelsalvador.com/seccion/deplaneta/',\n",
       " 'https://diarioelsalvador.com/seccion/deinnovacion/',\n",
       " 'https://diarioelsalvador.com/seccion/decultura/',\n",
       " 'https://diarioelsalvador.com/seccion/devida/',\n",
       " 'https://diarioelsalvador.com/seccion/dediversion/',\n",
       " 'https://diarioelsalvador.com/seccion/dedeportes/']"
      ]
     },
     "execution_count": 15,
     "metadata": {},
     "output_type": "execute_result"
    }
   ],
   "source": [
    "links_sections = [section.find('a').get('href') for section in sections]\n",
    "links_sections"
   ]
  },
  {
   "cell_type": "code",
   "execution_count": 16,
   "id": "ambient-plastic",
   "metadata": {},
   "outputs": [],
   "source": [
    "sec = requests.get(links_sections[0])\n",
    "s_sec = BeautifulSoup(sec.text, 'lxml')"
   ]
  },
  {
   "cell_type": "code",
   "execution_count": 27,
   "id": "unusual-station",
   "metadata": {},
   "outputs": [
    {
     "data": {
      "text/plain": [
       "<article class=\"jeg_post jeg_pl_lg_2 format-standard\"><div class=\"jeg_thumb\"> <a href=\"https://diarioelsalvador.com/sala-protege-a-financistas-de-periodico-digital-el-faro/49942/\"><div class=\"thumbnail-container animate-lazy size-715\"><img alt=\"Sala protege a financistas de periódico digital El Faro\" class=\"attachment-jnews-350x250 size-jnews-350x250 lazyload wp-post-image\" data-expand=\"700\" data-sizes=\"auto\" data-src=\"https://diarioelsalvador.com/wp-content/uploads/2021/03/el-faro-caso-estudio-e1614998735937-350x250.jpg\" data-srcset=\"https://diarioelsalvador.com/wp-content/uploads/2021/03/el-faro-caso-estudio-e1614998735937-350x250.jpg 350w, https://diarioelsalvador.com/wp-content/uploads/2021/03/el-faro-caso-estudio-e1614998735937-120x86.jpg 120w, https://diarioelsalvador.com/wp-content/uploads/2021/03/el-faro-caso-estudio-e1614998735937-750x536.jpg 750w\" height=\"250\" sizes=\"(max-width: 350px) 100vw, 350px\" src=\"https://diarioelsalvador.com/wp-content/themes/jnews/assets/img/jeg-empty.png\" width=\"350\"/></div></a><div class=\"jeg_post_category\"> <span><a class=\"category-depais\" href=\"https://diarioelsalvador.com/seccion/depais/\">De<span class=\"titulonavDE\">País</span></a></span></div></div><div class=\"jeg_postblock_content\"><h3 class=\"jeg_post_title\"> <a href=\"https://diarioelsalvador.com/sala-protege-a-financistas-de-periodico-digital-el-faro/49942/\">Sala protege a financistas de periódico digital El Faro</a></h3><div class=\"jeg_post_meta\"><div class=\"jeg_meta_author\"><span class=\"by\">por</span> <a href=\"https://diarioelsalvador.com/sala-protege-a-financistas-de-periodico-digital-el-faro/49942/\">Cecilia Fuentes y Alex Torres</a></div><div class=\"jeg_meta_date\"><a href=\"https://diarioelsalvador.com/sala-protege-a-financistas-de-periodico-digital-el-faro/49942/\"><i class=\"fa fa-clock-o\"></i> 5 de marzo de 2021</a></div><div class=\"jeg_meta_comment\"><a href=\"https://diarioelsalvador.com/sala-protege-a-financistas-de-periodico-digital-el-faro/49942/#comments\"><i class=\"fa fa-comment-o\"></i> 0 </a></div></div><div class=\"jeg_post_excerpt\"><p>El máximo tribunal admitió un amparo en el que se alega que presentar el comportamiento tributario de la empresa afecta...</p> <a class=\"jeg_readmore\" href=\"https://diarioelsalvador.com/sala-protege-a-financistas-de-periodico-digital-el-faro/49942/\">Leer más</a></div></div></article>"
      ]
     },
     "execution_count": 27,
     "metadata": {},
     "output_type": "execute_result"
    }
   ],
   "source": [
    "attrs_articles = {'class' : 'jeg_post jeg_pl_lg_2 format-standard'}\n",
    "\n",
    "featured_article = s_sec.find('article', attrs=attrs_articles)\n",
    "featured_article"
   ]
  },
  {
   "cell_type": "markdown",
   "id": "gorgeous-bronze",
   "metadata": {},
   "source": [
    "# Obtaining all the articles and links"
   ]
  },
  {
   "cell_type": "code",
   "execution_count": 72,
   "id": "irish-webmaster",
   "metadata": {},
   "outputs": [],
   "source": [
    "URL_WEBSITE = 'https://diarioelsalvador.com/'\n",
    "\n",
    "def _get_article(article):\n",
    "    attrs = {'class' : 'jeg_post_title'}\n",
    "    try:\n",
    "        url_article = article.find('h3', attrs=attrs).find('a').get('href')\n",
    "        content_article = _get_content_article(url_article)\n",
    "    except Exception as e:\n",
    "        print('Error:')\n",
    "        print(e)\n",
    "        print('\\n')\n",
    "\n",
    "def _get_content_article(url_article):\n",
    "    \"\"\"This method obtains the information of the article\n",
    "    \n",
    "    Args: \n",
    "        url_article: The url of the article to scrap\n",
    "    \n",
    "    Returns:\n",
    "        \n",
    "    \"\"\"\n",
    "    try:\n",
    "        article = requests.get(url_article)\n",
    "        if article.status_code == 200:\n",
    "            soup_article = BeautifulSoup(article.text, 'lxml')\n",
    "            title_article = soup_article.find('h1', attrs={'class' : 'jeg_post_title'}).get_text()\n",
    "            subtitle_article = soup_article.find('h2', attrs={'class' : 'jeg_post_subtitle'}).get_text()\n",
    "            date_article = soup_article.find('div', attrs={'class' : 'jeg_meta_date'}).get_text()\n",
    "            author_article = soup_article.find('div', attrs={'class' : 'jeg_meta_author'}).get_text()\n",
    "            body_article = soup_article.find('div', attrs={'class' : 'content-inner'}).get_text()\n",
    "            url_photo_article = soup_article.find('div', attrs={'class' : 'thumbnail-container'}).find('img').get('data-src')\n",
    "            print(photo_article)\n",
    "        else:\n",
    "            raise ValueError(f'Error: Status {article.status_code}')\n",
    "    except ValueError as ve:\n",
    "        print(ve)"
   ]
  },
  {
   "cell_type": "code",
   "execution_count": 73,
   "id": "authentic-cosmetic",
   "metadata": {},
   "outputs": [
    {
     "name": "stdout",
     "output_type": "stream",
     "text": [
      "https://diarioelsalvador.com/wp-content/uploads/2021/03/el-faro-caso-estudio-e1614998735937-750x375.jpg\n"
     ]
    }
   ],
   "source": [
    "_get_article(featured_article)"
   ]
  }
 ],
 "metadata": {
  "kernelspec": {
   "display_name": "Python 3",
   "language": "python",
   "name": "python3"
  },
  "language_info": {
   "codemirror_mode": {
    "name": "ipython",
    "version": 3
   },
   "file_extension": ".py",
   "mimetype": "text/x-python",
   "name": "python",
   "nbconvert_exporter": "python",
   "pygments_lexer": "ipython3",
   "version": "3.8.7"
  }
 },
 "nbformat": 4,
 "nbformat_minor": 5
}
