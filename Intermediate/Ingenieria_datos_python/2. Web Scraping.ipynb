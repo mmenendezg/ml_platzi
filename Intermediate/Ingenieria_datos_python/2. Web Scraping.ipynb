{
 "cells": [
  {
   "cell_type": "markdown",
   "id": "genuine-comedy",
   "metadata": {},
   "source": [
    "# Web Scraping"
   ]
  },
  {
   "cell_type": "markdown",
   "id": "civil-helping",
   "metadata": {},
   "source": [
    "## Web requests"
   ]
  },
  {
   "cell_type": "code",
   "execution_count": 3,
   "id": "fitted-consultation",
   "metadata": {},
   "outputs": [
    {
     "data": {
      "text/plain": [
       "<Response [200]>"
      ]
     },
     "execution_count": 3,
     "metadata": {},
     "output_type": "execute_result"
    }
   ],
   "source": [
    "import requests\n",
    "\n",
    "response = requests.get('http://www.platzi.com')\n",
    "\n",
    "response"
   ]
  },
  {
   "cell_type": "code",
   "execution_count": 12,
   "id": "premium-project",
   "metadata": {},
   "outputs": [
    {
     "name": "stdout",
     "output_type": "stream",
     "text": [
      "Date: \n",
      " \tTue, 16 Feb 2021 19:42:59 GMT\n",
      "\n",
      "Content-Type: \n",
      " \ttext/html\n",
      "\n",
      "Transfer-Encoding: \n",
      " \tchunked\n",
      "\n",
      "Connection: \n",
      " \tkeep-alive\n",
      "\n",
      "Set-Cookie: \n",
      " \t__cfduid=deb39e6f71609a029d7ae4b2ca0211ae41613504579; expires=Thu, 18-Mar-21 19:42:59 GMT; path=/; domain=.platzi.com; HttpOnly; SameSite=Lax\n",
      "\n",
      "CF-Ray: \n",
      " \t6229c148cf52e978-MIA\n",
      "\n",
      "Access-Control-Allow-Origin: \n",
      " \t*\n",
      "\n",
      "Age: \n",
      " \t978\n",
      "\n",
      "Cache-Control: \n",
      " \tno-store\n",
      "\n",
      "Expires: \n",
      " \tWed, 16 Feb 2022 19:42:59 GMT\n",
      "\n",
      "Strict-Transport-Security: \n",
      " \tmax-age=86400; includeSubDomains\n",
      "\n",
      "Vary: \n",
      " \tAccept-Encoding\n",
      "\n",
      "CF-Cache-Status: \n",
      " \tHIT\n",
      "\n",
      "Access-Control-Allow-Credentials: \n",
      " \ttrue\n",
      "\n",
      "Access-Control-Allow-Headers: \n",
      " \tX-Requested-With,content-type,X-CSRFToken\n",
      "\n",
      "Access-Control-Allow-Methods: \n",
      " \tGET, POST\n",
      "\n",
      "cf-request-id: \n",
      " \t084df7217f0000e9788d995000000001\n",
      "\n",
      "Expect-CT: \n",
      " \tmax-age=604800, report-uri=\"https://report-uri.cloudflare.com/cdn-cgi/beacon/expect-ct\"\n",
      "\n",
      "X-Content-Type-Options: \n",
      " \tnosniff\n",
      "\n",
      "X-DNS-Prefetch-Control: \n",
      " \toff\n",
      "\n",
      "X-Download-Options: \n",
      " \tnoopen\n",
      "\n",
      "X-Frame-Options: \n",
      " \tSAMEORIGIN\n",
      "\n",
      "X-Permitted-Cross-Domain-Policies: \n",
      " \tnone\n",
      "\n",
      "X-XSS-Protection: \n",
      " \t1; mode=block\n",
      "\n",
      "Server: \n",
      " \tcloudflare\n",
      "\n",
      "Content-Encoding: \n",
      " \tgzip\n",
      "\n"
     ]
    }
   ],
   "source": [
    "for key, value in response.headers.items():\n",
    "    print(f'{key}: \\n \\t{value}\\n')"
   ]
  },
  {
   "cell_type": "markdown",
   "id": "elementary-voltage",
   "metadata": {},
   "source": [
    "## HTML information extraction"
   ]
  },
  {
   "cell_type": "code",
   "execution_count": 18,
   "id": "hollow-petersburg",
   "metadata": {},
   "outputs": [
    {
     "name": "stdout",
     "output_type": "stream",
     "text": [
      "Platzi: âCursos Online Profesionales de TecnologÃ­a\n",
      "Aprende desde cero a crear el futuro web con nuestros Cursos Online Profesionales de TecnologÃ­a. ðÂ¡Cursos de Desarrollo, DiseÃ±o, Marketing y Negocios!\n"
     ]
    }
   ],
   "source": [
    "import bs4\n",
    "\n",
    "soup = bs4.BeautifulSoup(response.text, 'html.parser')\n",
    "\n",
    "print(soup.title.text)\n",
    "print(soup.select('meta[name=description]')[0]['content'])"
   ]
  },
  {
   "cell_type": "code",
   "execution_count": 21,
   "id": "sealed-michigan",
   "metadata": {},
   "outputs": [
    {
     "name": "stdout",
     "output_type": "stream",
     "text": [
      "/periodismo-digital/\n",
      "/desarrollo-profesional/\n",
      "/ecommerce/\n",
      "/diseno-grafico/\n",
      "/negocios/\n",
      "/diseno-producto/\n",
      "/startups/\n",
      "/finanzas/\n",
      "/matematicas/\n",
      "/publicidad/\n",
      "/web/\n",
      "/idioma-ingles/\n",
      "/software/\n",
      "/videojuegos/\n",
      "/datos/\n",
      "/azure/\n",
      "/produccion-video/\n",
      "/marketing-digital/\n"
     ]
    }
   ],
   "source": [
    "courses_link = soup.select('.SchoolsList-school')\n",
    "courses = [course['href'] for course in courses_link]\n",
    "for course in courses:\n",
    "    print(course)"
   ]
  },
  {
   "cell_type": "code",
   "execution_count": null,
   "id": "centered-reaction",
   "metadata": {},
   "outputs": [],
   "source": []
  },
  {
   "cell_type": "code",
   "execution_count": null,
   "id": "based-proceeding",
   "metadata": {},
   "outputs": [],
   "source": []
  }
 ],
 "metadata": {
  "kernelspec": {
   "display_name": "Python 3",
   "language": "python",
   "name": "python3"
  },
  "language_info": {
   "codemirror_mode": {
    "name": "ipython",
    "version": 3
   },
   "file_extension": ".py",
   "mimetype": "text/x-python",
   "name": "python",
   "nbconvert_exporter": "python",
   "pygments_lexer": "ipython3",
   "version": "3.8.7"
  }
 },
 "nbformat": 4,
 "nbformat_minor": 5
}
